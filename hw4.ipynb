{
    "metadata": {
        "kernelspec": {
            "name": "SQL",
            "display_name": "SQL",
            "language": "sql"
        },
        "language_info": {
            "name": "sql",
            "version": ""
        }
    },
    "nbformat_minor": 2,
    "nbformat": 4,
    "cells": [
        {
            "cell_type": "markdown",
            "source": [
                "# **Joins**"
            ],
            "metadata": {
                "azdata_cell_guid": "24a2235f-51cd-4a85-9981-3fa4d4318a7e"
            },
            "attachments": {}
        },
        {
            "cell_type": "code",
            "source": [
                "SELECT 2 + 2;"
            ],
            "metadata": {
                "azdata_cell_guid": "692433f7-ed17-4805-8b12-cc6722d7bbdb"
            },
            "outputs": [],
            "execution_count": null
        },
        {
            "cell_type": "markdown",
            "source": [
                "Write a query that displays all the products along with the SalesOrderID even if an order has never been placed for that product. Display OrderId, ProductId, ProductName and only products which weren’t ordered"
            ],
            "metadata": {
                "azdata_cell_guid": "deae8c59-4991-4953-abba-f26d38effa1c"
            }
        },
        {
            "cell_type": "code",
            "source": [
                "SELECT SalesOrderId, p.ProductID, [Name]\n",
                "FROM Production.Product AS p\n",
                "LEFT JOIN Sales.SalesOrderDetail AS o\n",
                "ON p.ProductID = o.ProductID\n",
                ""
            ],
            "metadata": {
                "azdata_cell_guid": "dfd26924-2dec-474d-bab4-8b83365cd9f9"
            },
            "outputs": [],
            "execution_count": null
        },
        {
            "cell_type": "markdown",
            "source": [
                "Write a query to display count each products within order with product name and order date.\n",
                ""
            ],
            "metadata": {
                "azdata_cell_guid": "ce8f417a-5046-4f1c-a4e0-b97ca0f2a4af"
            }
        },
        {
            "cell_type": "code",
            "source": [
                "SELECT p.Name, count(p.ProductId) [Ordered], h.OrderDate\n",
                "FROM Production.Product AS p\n",
                "JOIN Sales.SalesOrderDetail AS s\n",
                "ON p.[ProductID] = s.ProductID\n",
                "JOIN Sales.SalesOrderHeader AS h\n",
                "ON s.SalesOrderID = h.SalesOrderID\n",
                "GROUP BY p.Name, h.OrderDate"
            ],
            "metadata": {
                "azdata_cell_guid": "85b5546a-83bb-49ad-9a5c-68b25e987635"
            },
            "outputs": [],
            "execution_count": null
        },
        {
            "cell_type": "markdown",
            "source": [
                "Write a query to return list of customer names along with a count of the orders made by these customers.\n",
                ""
            ],
            "metadata": {
                "azdata_cell_guid": "145083d2-0ca2-4d8c-a6cc-f4ff38ed2bbf"
            }
        },
        {
            "cell_type": "code",
            "source": [
                "SELECT p.FirstName, p.LastName, count(c.CustomerID) [Products ordered]\n",
                "FROM Sales.Customer AS c \n",
                "JOIN Person.Person AS p\n",
                "ON c.PersonID = p.BusinessEntityID\n",
                "JOIN Sales.SalesOrderHeader AS s\n",
                "ON c.CustomerID = s.CustomerID\n",
                "GROUP BY c.CustomerID, p.FirstName, p.LastName"
            ],
            "metadata": {
                "azdata_cell_guid": "eb4ffb7d-064c-4fc9-8f82-585da8e83711"
            },
            "outputs": [],
            "execution_count": null
        },
        {
            "cell_type": "markdown",
            "source": [
                "We have been asked by the Products team for some information about every product and its description for those that have a culture originating in English (En). This information is required so that they know what is coming from England: \n",
                "\n",
                " Task1: identification of tables for required information\n",
                "\n",
                " Task2: identify common fields in table to link them together. Write the query that join them together and selects the product identifier, culture, product description, culture,, product model name\n",
                "\n",
                " Task3: Filtering for the ‘en’ culture. Adding to the query in task2, retrieve inly products that come from English (en) culture."
            ],
            "metadata": {
                "azdata_cell_guid": "da12d3f9-9fa7-4e1e-83f1-93422b5e018a"
            },
            "attachments": {}
        },
        {
            "cell_type": "code",
            "source": [
                "SELECT p.ProductID, m.Name [Model Name ], c.Name [Culture], [Description]\n",
                "FROM Production.Product AS p\n",
                "JOIN Production.ProductModel As m\n",
                "ON p.ProductModelID = m.ProductModelID\n",
                "JOIN Production.ProductModelProductDescriptionCulture AS cid\n",
                "ON m.ProductModelID = cid.ProductModelID\n",
                "JOIN Production.Culture AS c \n",
                "ON cid.CultureID = c.CultureID\n",
                "JOIN Production.ProductDescription AS d\n",
                "ON cid.ProductDescriptionID = d.ProductDescriptionID\n",
                "WHERE c.Name = 'English'"
            ],
            "metadata": {
                "azdata_cell_guid": "8c45ccaf-d7d2-4fcc-bef5-2c8678ab3ce4"
            },
            "outputs": [],
            "execution_count": null
        },
        {
            "cell_type": "markdown",
            "source": [
                "We have been asked be Adwenture Work Finance Department to find out the total amount due from two customers Walter Brian and Walter Mays on all order they have placed. It is worth noting each time a customer places an order they are treated as a new customer, so they get a separate record.\n",
                "\n",
                " Task1: Investigating the Customers’ data for customers who have first name Walter \n",
                "\n",
                " Task2: Identify whis data should be uset to group and join all appropriate tables. \n",
                "\n",
                " Task3: Use the needed aggregate functions"
            ],
            "metadata": {
                "azdata_cell_guid": "aa77f319-0031-4357-8526-0412558f616f"
            },
            "attachments": {}
        },
        {
            "cell_type": "code",
            "source": [
                "SELECT p.FirstName, p.LastName, SUM(h.TotalDue) [Total Due]\n",
                "FROM Sales.Customer AS s\n",
                "JOIN Person.Person AS p\n",
                "ON s.PersonID = p.BusinessEntityID\n",
                "JOIN Sales.SalesOrderHeader AS h\n",
                "ON s.CustomerID = h.CustomerID\n",
                "WHERE p.FirstName like 'Walter' and p.LastName in ('Brian', 'Mays')\n",
                "GROUP BY p.LastName, p.FirstName"
            ],
            "metadata": {
                "azdata_cell_guid": "411d94f8-de06-4658-81f6-5d334b573e55"
            },
            "outputs": [],
            "execution_count": null
        },
        {
            "cell_type": "markdown",
            "source": [
                "We want to see which employee have been working in more than one department. Use the tables Person. Person, HumanResources.Employee and HumanResources.EmployeeDepartmentHistory. The COUNT function in companion with GROUP BY and HAVING is used to find out the answer to our question."
            ],
            "metadata": {
                "azdata_cell_guid": "095f50f5-4d9a-4306-a468-e2c410ce3dd0"
            }
        },
        {
            "cell_type": "code",
            "source": [
                "SELECT p.FirstName, p.LastName, COUNT(DepartmentID) [N of departments]\n",
                "FROM HumanResources.Employee AS e\n",
                "JOIN HumanResources.EmployeeDepartmentHistory AS h\n",
                "ON e.BusinessEntityID = h.BusinessEntityID\n",
                "JOIN Person.Person AS p \n",
                "ON e.BusinessEntityID = p.BusinessEntityID\n",
                "GROUP BY e.BusinessEntityID, p.FirstName, p.LastName\n",
                "HAVING COUNT(DepartmentID) > 1\n",
                ""
            ],
            "metadata": {
                "azdata_cell_guid": "5650505e-2548-490b-afa9-039d14de9851"
            },
            "outputs": [],
            "execution_count": null
        },
        {
            "cell_type": "markdown",
            "source": [
                "We want to see information about countries and provinces. Join the CountryRegion and the StateProvince tables (both in the Person schema). Note that we want to keep the countries for which there are no provinces! Sort the result on country name and province name."
            ],
            "metadata": {
                "azdata_cell_guid": "35c8a676-5bc4-46f1-b174-6673d018f4b2"
            }
        },
        {
            "cell_type": "code",
            "source": [
                "SELECT r.Name [Country Name], p.Name [Province Name]\n",
                "FROM Person.CountryRegion AS r\n",
                "JOIN Person.StateProvince AS p\n",
                "ON r.CountryRegionCode = p.CountryRegionCode\n",
                "WHERE p.IsOnlyStateProvinceFlag = 1\n",
                "ORDER BY r.Name, p.Name"
            ],
            "metadata": {
                "azdata_cell_guid": "49a87cb4-088d-483d-b196-610ac6bc21d7"
            },
            "outputs": [],
            "execution_count": null
        },
        {
            "cell_type": "markdown",
            "source": [
                "# **Set operations**"
            ],
            "metadata": {
                "azdata_cell_guid": "b1fdcb75-b62a-4a2f-b842-713aa06e628b"
            },
            "attachments": {}
        },
        {
            "cell_type": "markdown",
            "source": [
                "<span style=\"font-family: Helvetica; font-size: 11px; color: rgb(0, 0, 0);\">Display all record with SalesQuota more than zero (Sales.SalesPerson). Besides add to this result set all historical data with the same condition regarding SalesQuota (display BusinessEntityID, QuotaDate (if there no such column please display current date) and SalesQuoa). Consider that duplicates are acceptable.</span>"
            ],
            "metadata": {
                "azdata_cell_guid": "a40395a5-20c1-442e-8a3a-8bf47b68c81f"
            },
            "attachments": {}
        },
        {
            "cell_type": "code",
            "source": [
                "(\n",
                "    SELECT BusinessEntityID, SalesQuota, GETDATE()\n",
                "    FROM Sales.SalesPerson\n",
                "    WHERE SalesQuota > 0\n",
                ") UNION (\n",
                "    SELECT BusinessEntityID, SalesQuota, QuotaDate\n",
                "    FROM Sales.SalesPersonQuotaHistory\n",
                "    WHERE SalesQuota > 0\n",
                ")"
            ],
            "metadata": {
                "azdata_cell_guid": "dc4d170b-7e5a-40af-a130-6a579ff02433"
            },
            "outputs": [],
            "execution_count": null
        },
        {
            "cell_type": "markdown",
            "source": [
                "<span style=\"font-family: Helvetica; font-size: 11px; color: rgb(0, 0, 0);\">Generate a list of unique sutnames from among employes and salespersons</span>"
            ],
            "metadata": {
                "azdata_cell_guid": "8f04851e-020c-40e4-a204-8e8ed1068309"
            },
            "attachments": {}
        },
        {
            "cell_type": "code",
            "source": [
                "(\n",
                "    SELECT p.LastName\n",
                "    FROM Sales.SalesPerson AS sp\n",
                "    JOIN Person.Person AS p \n",
                "    ON sp.BusinessEntityID = p.BusinessEntityID\n",
                ") UNION (\n",
                "    SELECT p.LastName\n",
                "    FROM HumanResources.Employee AS ep \n",
                "    JOIN Person.Person AS p\n",
                "    ON ep.BusinessEntityID = p.BusinessEntityID\n",
                ")"
            ],
            "metadata": {
                "azdata_cell_guid": "9c5462a8-9af7-428c-8f31-34930eadeb54"
            },
            "outputs": [],
            "execution_count": null
        },
        {
            "cell_type": "markdown",
            "source": [
                "<span style=\"font-family: Helvetica; font-size: 11px; color: rgb(0, 0, 0);\">Write a query that returns customer and order ids’ pairs that had order activity in January 2008 but not in February 2008 (use set operators and simplify result’s query with simpler query)</span>"
            ],
            "metadata": {
                "azdata_cell_guid": "e090d5d0-2ecd-4bd0-91c2-f144c23c00c8"
            },
            "attachments": {}
        },
        {
            "cell_type": "code",
            "source": [
                "(\n",
                "    SELECT CustomerID, SalesOrderID, OrderDate\n",
                "    FROM Sales.SalesOrderHeader\n",
                "    WHERE MONTH(OrderDate) = MONTH(CAST('January 2008' AS DATE))\n",
                "    AND YEAR(OrderDate) = 2008\n",
                ") EXCEPT (\n",
                "    SELECT CustomerID, SalesOrderID, OrderDate\n",
                "    FROM Sales.SalesOrderHeader\n",
                "    WHERE MONTH(OrderDate) = MONTH(CAST('February 2008' AS DATE))\n",
                "    AND YEAR(OrderDate) = 2008\n",
                ")"
            ],
            "metadata": {
                "azdata_cell_guid": "c2ee739a-7a7d-427f-b893-864f2d4945df"
            },
            "outputs": [],
            "execution_count": null
        },
        {
            "cell_type": "code",
            "source": [
                "SELECT CustomerID, SalesOrderID, OrderDate\n",
                "FROM Sales.SalesOrderHeader\n",
                "WHERE MONTH(OrderDate) = MONTH(CAST('January 2008' AS DATE))\n",
                "AND  MONTH(OrderDate) != MONTH(CAST('February 2008' AS DATE))\n",
                "AND YEAR(OrderDate) = 2008"
            ],
            "metadata": {
                "azdata_cell_guid": "af9c667b-c6f2-4133-99e4-a792e9ce42d3"
            },
            "outputs": [],
            "execution_count": null
        },
        {
            "cell_type": "markdown",
            "source": [
                "<span style=\"font-family: Helvetica; font-size: 11px; color: rgb(0, 0, 0);\">Write a union query involving the EXCEPT operator. Subtract products that are components from the total list of products, leaving only those products that are not components (components are products which are in BillOfMaterials table)</span>"
            ],
            "metadata": {
                "azdata_cell_guid": "9ce8f84b-bf92-4424-b763-cad10e9b4663"
            },
            "attachments": {}
        },
        {
            "cell_type": "code",
            "source": [
                "SELECT ProductID, [Name]\n",
                "FROM Production.Product\n",
                "WHERE ProductID in\n",
                "((\n",
                "    SELECT ProductID\n",
                "    FROM Production.Product\n",
                ") EXCEPT (\n",
                "    SELECT BillOfMaterialsID\n",
                "    FROM Production.BillOfMaterials\n",
                "))"
            ],
            "metadata": {
                "azdata_cell_guid": "a97866b5-4063-48df-a703-9fc51f81dea1"
            },
            "outputs": [
                {
                    "output_type": "display_data",
                    "data": {
                        "text/html": "(91 rows affected)"
                    },
                    "metadata": {}
                },
                {
                    "output_type": "display_data",
                    "data": {
                        "text/html": "Total execution time: 00:00:00.060"
                    },
                    "metadata": {}
                },
                {
                    "output_type": "execute_result",
                    "metadata": {},
                    "execution_count": 88,
                    "data": {
                        "application/vnd.dataresource+json": {
                            "schema": {
                                "fields": [
                                    {
                                        "name": "ProductID"
                                    },
                                    {
                                        "name": "Name"
                                    }
                                ]
                            },
                            "data": [
                                {
                                    "0": "316",
                                    "1": "Blade"
                                },
                                {
                                    "0": "317",
                                    "1": "LL Crankarm"
                                },
                                {
                                    "0": "318",
                                    "1": "ML Crankarm"
                                },
                                {
                                    "0": "319",
                                    "1": "HL Crankarm"
                                },
                                {
                                    "0": "320",
                                    "1": "Chainring Bolts"
                                },
                                {
                                    "0": "321",
                                    "1": "Chainring Nut"
                                },
                                {
                                    "0": "322",
                                    "1": "Chainring"
                                },
                                {
                                    "0": "323",
                                    "1": "Crown Race"
                                },
                                {
                                    "0": "324",
                                    "1": "Chain Stays"
                                },
                                {
                                    "0": "325",
                                    "1": "Decal 1"
                                },
                                {
                                    "0": "326",
                                    "1": "Decal 2"
                                },
                                {
                                    "0": "327",
                                    "1": "Down Tube"
                                },
                                {
                                    "0": "328",
                                    "1": "Mountain End Caps"
                                },
                                {
                                    "0": "329",
                                    "1": "Road End Caps"
                                },
                                {
                                    "0": "330",
                                    "1": "Touring End Caps"
                                },
                                {
                                    "0": "331",
                                    "1": "Fork End"
                                },
                                {
                                    "0": "332",
                                    "1": "Freewheel"
                                },
                                {
                                    "0": "341",
                                    "1": "Flat Washer 1"
                                },
                                {
                                    "0": "342",
                                    "1": "Flat Washer 6"
                                },
                                {
                                    "0": "344",
                                    "1": "Flat Washer 9"
                                },
                                {
                                    "0": "345",
                                    "1": "Flat Washer 4"
                                },
                                {
                                    "0": "346",
                                    "1": "Flat Washer 3"
                                },
                                {
                                    "0": "347",
                                    "1": "Flat Washer 8"
                                },
                                {
                                    "0": "350",
                                    "1": "Fork Crown"
                                },
                                {
                                    "0": "352",
                                    "1": "Front Derailleur Linkage"
                                },
                                {
                                    "0": "355",
                                    "1": "Guide Pulley"
                                },
                                {
                                    "0": "356",
                                    "1": "LL Grip Tape"
                                },
                                {
                                    "0": "357",
                                    "1": "ML Grip Tape"
                                },
                                {
                                    "0": "358",
                                    "1": "HL Grip Tape"
                                },
                                {
                                    "0": "359",
                                    "1": "Thin-Jam Hex Nut 9"
                                },
                                {
                                    "0": "679",
                                    "1": "Rear Derailleur Cage"
                                },
                                {
                                    "0": "680",
                                    "1": "HL Road Frame - Black, 58"
                                },
                                {
                                    "0": "706",
                                    "1": "HL Road Frame - Red, 58"
                                },
                                {
                                    "0": "707",
                                    "1": "Sport-100 Helmet, Red"
                                },
                                {
                                    "0": "708",
                                    "1": "Sport-100 Helmet, Black"
                                },
                                {
                                    "0": "709",
                                    "1": "Mountain Bike Socks, M"
                                },
                                {
                                    "0": "710",
                                    "1": "Mountain Bike Socks, L"
                                },
                                {
                                    "0": "711",
                                    "1": "Sport-100 Helmet, Blue"
                                },
                                {
                                    "0": "713",
                                    "1": "Long-Sleeve Logo Jersey, S"
                                },
                                {
                                    "0": "714",
                                    "1": "Long-Sleeve Logo Jersey, M"
                                },
                                {
                                    "0": "715",
                                    "1": "Long-Sleeve Logo Jersey, L"
                                },
                                {
                                    "0": "716",
                                    "1": "Long-Sleeve Logo Jersey, XL"
                                },
                                {
                                    "0": "717",
                                    "1": "HL Road Frame - Red, 62"
                                },
                                {
                                    "0": "718",
                                    "1": "HL Road Frame - Red, 44"
                                },
                                {
                                    "0": "719",
                                    "1": "HL Road Frame - Red, 48"
                                },
                                {
                                    "0": "720",
                                    "1": "HL Road Frame - Red, 52"
                                },
                                {
                                    "0": "721",
                                    "1": "HL Road Frame - Red, 56"
                                },
                                {
                                    "0": "722",
                                    "1": "LL Road Frame - Black, 58"
                                },
                                {
                                    "0": "723",
                                    "1": "LL Road Frame - Black, 60"
                                },
                                {
                                    "0": "724",
                                    "1": "LL Road Frame - Black, 62"
                                },
                                {
                                    "0": "725",
                                    "1": "LL Road Frame - Red, 44"
                                },
                                {
                                    "0": "726",
                                    "1": "LL Road Frame - Red, 48"
                                },
                                {
                                    "0": "728",
                                    "1": "LL Road Frame - Red, 58"
                                },
                                {
                                    "0": "729",
                                    "1": "LL Road Frame - Red, 60"
                                },
                                {
                                    "0": "730",
                                    "1": "LL Road Frame - Red, 62"
                                },
                                {
                                    "0": "731",
                                    "1": "ML Road Frame - Red, 44"
                                },
                                {
                                    "0": "732",
                                    "1": "ML Road Frame - Red, 48"
                                },
                                {
                                    "0": "733",
                                    "1": "ML Road Frame - Red, 52"
                                },
                                {
                                    "0": "734",
                                    "1": "ML Road Frame - Red, 58"
                                },
                                {
                                    "0": "735",
                                    "1": "ML Road Frame - Red, 60"
                                },
                                {
                                    "0": "736",
                                    "1": "LL Road Frame - Black, 44"
                                },
                                {
                                    "0": "737",
                                    "1": "LL Road Frame - Black, 48"
                                },
                                {
                                    "0": "738",
                                    "1": "LL Road Frame - Black, 52"
                                },
                                {
                                    "0": "739",
                                    "1": "HL Mountain Frame - Silver, 42"
                                },
                                {
                                    "0": "741",
                                    "1": "HL Mountain Frame - Silver, 48"
                                },
                                {
                                    "0": "742",
                                    "1": "HL Mountain Frame - Silver, 46"
                                },
                                {
                                    "0": "743",
                                    "1": "HL Mountain Frame - Black, 42"
                                },
                                {
                                    "0": "744",
                                    "1": "HL Mountain Frame - Black, 44"
                                },
                                {
                                    "0": "745",
                                    "1": "HL Mountain Frame - Black, 48"
                                },
                                {
                                    "0": "747",
                                    "1": "HL Mountain Frame - Black, 38"
                                },
                                {
                                    "0": "749",
                                    "1": "Road-150 Red, 62"
                                },
                                {
                                    "0": "750",
                                    "1": "Road-150 Red, 44"
                                },
                                {
                                    "0": "751",
                                    "1": "Road-150 Red, 48"
                                },
                                {
                                    "0": "753",
                                    "1": "Road-150 Red, 56"
                                },
                                {
                                    "0": "754",
                                    "1": "Road-450 Red, 58"
                                },
                                {
                                    "0": "755",
                                    "1": "Road-450 Red, 60"
                                },
                                {
                                    "0": "756",
                                    "1": "Road-450 Red, 44"
                                },
                                {
                                    "0": "757",
                                    "1": "Road-450 Red, 48"
                                },
                                {
                                    "0": "759",
                                    "1": "Road-650 Red, 58"
                                },
                                {
                                    "0": "760",
                                    "1": "Road-650 Red, 60"
                                },
                                {
                                    "0": "761",
                                    "1": "Road-650 Red, 62"
                                },
                                {
                                    "0": "762",
                                    "1": "Road-650 Red, 44"
                                },
                                {
                                    "0": "763",
                                    "1": "Road-650 Red, 48"
                                },
                                {
                                    "0": "764",
                                    "1": "Road-650 Red, 52"
                                },
                                {
                                    "0": "765",
                                    "1": "Road-650 Black, 58"
                                },
                                {
                                    "0": "769",
                                    "1": "Road-650 Black, 48"
                                },
                                {
                                    "0": "772",
                                    "1": "Mountain-100 Silver, 42"
                                },
                                {
                                    "0": "773",
                                    "1": "Mountain-100 Silver, 44"
                                },
                                {
                                    "0": "774",
                                    "1": "Mountain-100 Silver, 48"
                                },
                                {
                                    "0": "775",
                                    "1": "Mountain-100 Black, 38"
                                },
                                {
                                    "0": "988",
                                    "1": "Mountain-500 Silver, 52"
                                }
                            ]
                        },
                        "text/html": [
                            "<table>",
                            "<tr><th>ProductID</th><th>Name</th></tr>",
                            "<tr><td>316</td><td>Blade</td></tr>",
                            "<tr><td>317</td><td>LL Crankarm</td></tr>",
                            "<tr><td>318</td><td>ML Crankarm</td></tr>",
                            "<tr><td>319</td><td>HL Crankarm</td></tr>",
                            "<tr><td>320</td><td>Chainring Bolts</td></tr>",
                            "<tr><td>321</td><td>Chainring Nut</td></tr>",
                            "<tr><td>322</td><td>Chainring</td></tr>",
                            "<tr><td>323</td><td>Crown Race</td></tr>",
                            "<tr><td>324</td><td>Chain Stays</td></tr>",
                            "<tr><td>325</td><td>Decal 1</td></tr>",
                            "<tr><td>326</td><td>Decal 2</td></tr>",
                            "<tr><td>327</td><td>Down Tube</td></tr>",
                            "<tr><td>328</td><td>Mountain End Caps</td></tr>",
                            "<tr><td>329</td><td>Road End Caps</td></tr>",
                            "<tr><td>330</td><td>Touring End Caps</td></tr>",
                            "<tr><td>331</td><td>Fork End</td></tr>",
                            "<tr><td>332</td><td>Freewheel</td></tr>",
                            "<tr><td>341</td><td>Flat Washer 1</td></tr>",
                            "<tr><td>342</td><td>Flat Washer 6</td></tr>",
                            "<tr><td>344</td><td>Flat Washer 9</td></tr>",
                            "<tr><td>345</td><td>Flat Washer 4</td></tr>",
                            "<tr><td>346</td><td>Flat Washer 3</td></tr>",
                            "<tr><td>347</td><td>Flat Washer 8</td></tr>",
                            "<tr><td>350</td><td>Fork Crown</td></tr>",
                            "<tr><td>352</td><td>Front Derailleur Linkage</td></tr>",
                            "<tr><td>355</td><td>Guide Pulley</td></tr>",
                            "<tr><td>356</td><td>LL Grip Tape</td></tr>",
                            "<tr><td>357</td><td>ML Grip Tape</td></tr>",
                            "<tr><td>358</td><td>HL Grip Tape</td></tr>",
                            "<tr><td>359</td><td>Thin-Jam Hex Nut 9</td></tr>",
                            "<tr><td>679</td><td>Rear Derailleur Cage</td></tr>",
                            "<tr><td>680</td><td>HL Road Frame - Black, 58</td></tr>",
                            "<tr><td>706</td><td>HL Road Frame - Red, 58</td></tr>",
                            "<tr><td>707</td><td>Sport-100 Helmet, Red</td></tr>",
                            "<tr><td>708</td><td>Sport-100 Helmet, Black</td></tr>",
                            "<tr><td>709</td><td>Mountain Bike Socks, M</td></tr>",
                            "<tr><td>710</td><td>Mountain Bike Socks, L</td></tr>",
                            "<tr><td>711</td><td>Sport-100 Helmet, Blue</td></tr>",
                            "<tr><td>713</td><td>Long-Sleeve Logo Jersey, S</td></tr>",
                            "<tr><td>714</td><td>Long-Sleeve Logo Jersey, M</td></tr>",
                            "<tr><td>715</td><td>Long-Sleeve Logo Jersey, L</td></tr>",
                            "<tr><td>716</td><td>Long-Sleeve Logo Jersey, XL</td></tr>",
                            "<tr><td>717</td><td>HL Road Frame - Red, 62</td></tr>",
                            "<tr><td>718</td><td>HL Road Frame - Red, 44</td></tr>",
                            "<tr><td>719</td><td>HL Road Frame - Red, 48</td></tr>",
                            "<tr><td>720</td><td>HL Road Frame - Red, 52</td></tr>",
                            "<tr><td>721</td><td>HL Road Frame - Red, 56</td></tr>",
                            "<tr><td>722</td><td>LL Road Frame - Black, 58</td></tr>",
                            "<tr><td>723</td><td>LL Road Frame - Black, 60</td></tr>",
                            "<tr><td>724</td><td>LL Road Frame - Black, 62</td></tr>",
                            "<tr><td>725</td><td>LL Road Frame - Red, 44</td></tr>",
                            "<tr><td>726</td><td>LL Road Frame - Red, 48</td></tr>",
                            "<tr><td>728</td><td>LL Road Frame - Red, 58</td></tr>",
                            "<tr><td>729</td><td>LL Road Frame - Red, 60</td></tr>",
                            "<tr><td>730</td><td>LL Road Frame - Red, 62</td></tr>",
                            "<tr><td>731</td><td>ML Road Frame - Red, 44</td></tr>",
                            "<tr><td>732</td><td>ML Road Frame - Red, 48</td></tr>",
                            "<tr><td>733</td><td>ML Road Frame - Red, 52</td></tr>",
                            "<tr><td>734</td><td>ML Road Frame - Red, 58</td></tr>",
                            "<tr><td>735</td><td>ML Road Frame - Red, 60</td></tr>",
                            "<tr><td>736</td><td>LL Road Frame - Black, 44</td></tr>",
                            "<tr><td>737</td><td>LL Road Frame - Black, 48</td></tr>",
                            "<tr><td>738</td><td>LL Road Frame - Black, 52</td></tr>",
                            "<tr><td>739</td><td>HL Mountain Frame - Silver, 42</td></tr>",
                            "<tr><td>741</td><td>HL Mountain Frame - Silver, 48</td></tr>",
                            "<tr><td>742</td><td>HL Mountain Frame - Silver, 46</td></tr>",
                            "<tr><td>743</td><td>HL Mountain Frame - Black, 42</td></tr>",
                            "<tr><td>744</td><td>HL Mountain Frame - Black, 44</td></tr>",
                            "<tr><td>745</td><td>HL Mountain Frame - Black, 48</td></tr>",
                            "<tr><td>747</td><td>HL Mountain Frame - Black, 38</td></tr>",
                            "<tr><td>749</td><td>Road-150 Red, 62</td></tr>",
                            "<tr><td>750</td><td>Road-150 Red, 44</td></tr>",
                            "<tr><td>751</td><td>Road-150 Red, 48</td></tr>",
                            "<tr><td>753</td><td>Road-150 Red, 56</td></tr>",
                            "<tr><td>754</td><td>Road-450 Red, 58</td></tr>",
                            "<tr><td>755</td><td>Road-450 Red, 60</td></tr>",
                            "<tr><td>756</td><td>Road-450 Red, 44</td></tr>",
                            "<tr><td>757</td><td>Road-450 Red, 48</td></tr>",
                            "<tr><td>759</td><td>Road-650 Red, 58</td></tr>",
                            "<tr><td>760</td><td>Road-650 Red, 60</td></tr>",
                            "<tr><td>761</td><td>Road-650 Red, 62</td></tr>",
                            "<tr><td>762</td><td>Road-650 Red, 44</td></tr>",
                            "<tr><td>763</td><td>Road-650 Red, 48</td></tr>",
                            "<tr><td>764</td><td>Road-650 Red, 52</td></tr>",
                            "<tr><td>765</td><td>Road-650 Black, 58</td></tr>",
                            "<tr><td>769</td><td>Road-650 Black, 48</td></tr>",
                            "<tr><td>772</td><td>Mountain-100 Silver, 42</td></tr>",
                            "<tr><td>773</td><td>Mountain-100 Silver, 44</td></tr>",
                            "<tr><td>774</td><td>Mountain-100 Silver, 48</td></tr>",
                            "<tr><td>775</td><td>Mountain-100 Black, 38</td></tr>",
                            "<tr><td>988</td><td>Mountain-500 Silver, 52</td></tr>",
                            "</table>"
                        ]
                    }
                }
            ],
            "execution_count": 88
        },
        {
            "cell_type": "markdown",
            "source": [
                "<span style=\"font-family: Helvetica; font-size: 11px; color: rgb(0, 0, 0);\">Write a query to find products that have incurred both good and poor reviews (use Production.ProductReview)</span>"
            ],
            "metadata": {
                "azdata_cell_guid": "e05f50ad-9e81-40cd-b58d-d6185c50c043"
            },
            "attachments": {}
        },
        {
            "cell_type": "code",
            "source": [
                "SELECT [Name], ProductID\n",
                "FROM Production.Product\n",
                "WHERE ProductId IN (\n",
                "(\n",
                "    SELECT p.ProductID\n",
                "    FROM Production.Product AS p\n",
                "    JOIN Production.ProductReview AS r\n",
                "    ON p.ProductID = r.ProductID\n",
                "    WHERE Rating >= 4\n",
                ") INTERSECT (\n",
                "    SELECT p.ProductID\n",
                "    FROM Production.Product AS p\n",
                "    JOIN Production.ProductReview AS r\n",
                "    ON p.ProductID = r.ProductID\n",
                "    WHERE Rating <= 3\n",
                "))"
            ],
            "metadata": {
                "azdata_cell_guid": "6ca17035-31e2-4790-a249-a7f3b88559f0",
                "tags": []
            },
            "outputs": [
                {
                    "output_type": "display_data",
                    "data": {
                        "text/html": "(1 row affected)"
                    },
                    "metadata": {}
                },
                {
                    "output_type": "display_data",
                    "data": {
                        "text/html": "Total execution time: 00:00:00.131"
                    },
                    "metadata": {}
                },
                {
                    "output_type": "execute_result",
                    "metadata": {},
                    "execution_count": 103,
                    "data": {
                        "application/vnd.dataresource+json": {
                            "schema": {
                                "fields": [
                                    {
                                        "name": "Name"
                                    },
                                    {
                                        "name": "ProductID"
                                    }
                                ]
                            },
                            "data": [
                                {
                                    "0": "HL Mountain Pedal",
                                    "1": "937"
                                }
                            ]
                        },
                        "text/html": [
                            "<table>",
                            "<tr><th>Name</th><th>ProductID</th></tr>",
                            "<tr><td>HL Mountain Pedal</td><td>937</td></tr>",
                            "</table>"
                        ]
                    }
                }
            ],
            "execution_count": 103
        },
        {
            "cell_type": "markdown",
            "source": [
                "# **Subqueries**"
            ],
            "metadata": {
                "azdata_cell_guid": "d3a19e59-3ec1-44cd-8944-d221c0ce7b4e"
            },
            "attachments": {}
        },
        {
            "cell_type": "code",
            "source": [
                ""
            ],
            "metadata": {
                "azdata_cell_guid": "f7fc68a3-e9ef-4732-9660-b087bd69072e"
            },
            "outputs": [],
            "execution_count": null
        }
    ]
}