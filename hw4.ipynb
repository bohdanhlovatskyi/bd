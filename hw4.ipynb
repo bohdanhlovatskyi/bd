{
    "metadata": {
        "kernelspec": {
            "name": "SQL",
            "display_name": "SQL",
            "language": "sql"
        },
        "language_info": {
            "name": "sql",
            "version": ""
        }
    },
    "nbformat_minor": 2,
    "nbformat": 4,
    "cells": [
        {
            "cell_type": "markdown",
            "source": [
                "# **Joins**"
            ],
            "metadata": {
                "azdata_cell_guid": "24a2235f-51cd-4a85-9981-3fa4d4318a7e"
            },
            "attachments": {}
        },
        {
            "cell_type": "code",
            "source": [
                "SELECT 2 + 2;"
            ],
            "metadata": {
                "azdata_cell_guid": "692433f7-ed17-4805-8b12-cc6722d7bbdb"
            },
            "outputs": [],
            "execution_count": null
        },
        {
            "cell_type": "markdown",
            "source": [
                "Write a query that displays all the products along with the SalesOrderID even if an order has never been placed for that product. Display OrderId, ProductId, ProductName and only products which weren’t ordered"
            ],
            "metadata": {
                "azdata_cell_guid": "deae8c59-4991-4953-abba-f26d38effa1c"
            }
        },
        {
            "cell_type": "code",
            "source": [
                "SELECT SalesOrderId, p.ProductID, [Name]\n",
                "FROM Production.Product AS p\n",
                "LEFT JOIN Sales.SalesOrderDetail AS o\n",
                "ON p.ProductID = o.ProductID\n",
                ""
            ],
            "metadata": {
                "azdata_cell_guid": "dfd26924-2dec-474d-bab4-8b83365cd9f9"
            },
            "outputs": [],
            "execution_count": null
        },
        {
            "cell_type": "markdown",
            "source": [
                "Write a query to display count each products within order with product name and order date.\n",
                ""
            ],
            "metadata": {
                "azdata_cell_guid": "ce8f417a-5046-4f1c-a4e0-b97ca0f2a4af"
            }
        },
        {
            "cell_type": "code",
            "source": [
                "SELECT p.Name, count(p.ProductId) [Ordered], h.OrderDate\n",
                "FROM Production.Product AS p\n",
                "JOIN Sales.SalesOrderDetail AS s\n",
                "ON p.[ProductID] = s.ProductID\n",
                "JOIN Sales.SalesOrderHeader AS h\n",
                "ON s.SalesOrderID = h.SalesOrderID\n",
                "GROUP BY p.Name, h.OrderDate"
            ],
            "metadata": {
                "azdata_cell_guid": "85b5546a-83bb-49ad-9a5c-68b25e987635"
            },
            "outputs": [],
            "execution_count": null
        },
        {
            "cell_type": "markdown",
            "source": [
                "Write a query to return list of customer names along with a count of the orders made by these customers.\n",
                ""
            ],
            "metadata": {
                "azdata_cell_guid": "145083d2-0ca2-4d8c-a6cc-f4ff38ed2bbf"
            }
        },
        {
            "cell_type": "code",
            "source": [
                "SELECT p.FirstName, p.LastName, count(c.CustomerID) [Products ordered]\n",
                "FROM Sales.Customer AS c \n",
                "JOIN Person.Person AS p\n",
                "ON c.PersonID = p.BusinessEntityID\n",
                "JOIN Sales.SalesOrderHeader AS s\n",
                "ON c.CustomerID = s.CustomerID\n",
                "GROUP BY c.CustomerID, p.FirstName, p.LastName"
            ],
            "metadata": {
                "azdata_cell_guid": "eb4ffb7d-064c-4fc9-8f82-585da8e83711"
            },
            "outputs": [],
            "execution_count": null
        },
        {
            "cell_type": "markdown",
            "source": [
                "We have been asked by the Products team for some information about every product and its description for those that have a culture originating in English (En). This information is required so that they know what is coming from England: \n",
                "\n",
                " Task1: identification of tables for required information\n",
                "\n",
                " Task2: identify common fields in table to link them together. Write the query that join them together and selects the product identifier, culture, product description, culture,, product model name\n",
                "\n",
                " Task3: Filtering for the ‘en’ culture. Adding to the query in task2, retrieve inly products that come from English (en) culture."
            ],
            "metadata": {
                "azdata_cell_guid": "da12d3f9-9fa7-4e1e-83f1-93422b5e018a"
            },
            "attachments": {}
        },
        {
            "cell_type": "code",
            "source": [
                "SELECT p.ProductID, m.Name [Model Name ], c.Name [Culture], [Description]\n",
                "FROM Production.Product AS p\n",
                "JOIN Production.ProductModel As m\n",
                "ON p.ProductModelID = m.ProductModelID\n",
                "JOIN Production.ProductModelProductDescriptionCulture AS cid\n",
                "ON m.ProductModelID = cid.ProductModelID\n",
                "JOIN Production.Culture AS c \n",
                "ON cid.CultureID = c.CultureID\n",
                "JOIN Production.ProductDescription AS d\n",
                "ON cid.ProductDescriptionID = d.ProductDescriptionID\n",
                "WHERE c.Name = 'English'"
            ],
            "metadata": {
                "azdata_cell_guid": "8c45ccaf-d7d2-4fcc-bef5-2c8678ab3ce4"
            },
            "outputs": [],
            "execution_count": null
        },
        {
            "cell_type": "markdown",
            "source": [
                "We have been asked be Adwenture Work Finance Department to find out the total amount due from two customers Walter Brian and Walter Mays on all order they have placed. It is worth noting each time a customer places an order they are treated as a new customer, so they get a separate record.\n",
                "\n",
                " Task1: Investigating the Customers’ data for customers who have first name Walter \n",
                "\n",
                " Task2: Identify whis data should be uset to group and join all appropriate tables. \n",
                "\n",
                " Task3: Use the needed aggregate functions"
            ],
            "metadata": {
                "azdata_cell_guid": "aa77f319-0031-4357-8526-0412558f616f"
            },
            "attachments": {}
        },
        {
            "cell_type": "code",
            "source": [
                "SELECT p.FirstName, p.LastName, SUM(h.TotalDue) [Total Due]\n",
                "FROM Sales.Customer AS s\n",
                "JOIN Person.Person AS p\n",
                "ON s.PersonID = p.BusinessEntityID\n",
                "JOIN Sales.SalesOrderHeader AS h\n",
                "ON s.CustomerID = h.CustomerID\n",
                "WHERE p.FirstName like 'Walter' and p.LastName in ('Brian', 'Mays')\n",
                "GROUP BY p.LastName, p.FirstName"
            ],
            "metadata": {
                "azdata_cell_guid": "411d94f8-de06-4658-81f6-5d334b573e55"
            },
            "outputs": [],
            "execution_count": null
        },
        {
            "cell_type": "markdown",
            "source": [
                "We want to see which employee have been working in more than one department. Use the tables Person. Person, HumanResources.Employee and HumanResources.EmployeeDepartmentHistory. The COUNT function in companion with GROUP BY and HAVING is used to find out the answer to our question."
            ],
            "metadata": {
                "azdata_cell_guid": "095f50f5-4d9a-4306-a468-e2c410ce3dd0"
            }
        },
        {
            "cell_type": "code",
            "source": [
                "SELECT p.FirstName, p.LastName, COUNT(DepartmentID) [N of departments]\n",
                "FROM HumanResources.Employee AS e\n",
                "JOIN HumanResources.EmployeeDepartmentHistory AS h\n",
                "ON e.BusinessEntityID = h.BusinessEntityID\n",
                "JOIN Person.Person AS p \n",
                "ON e.BusinessEntityID = p.BusinessEntityID\n",
                "GROUP BY e.BusinessEntityID, p.FirstName, p.LastName\n",
                "HAVING COUNT(DepartmentID) > 1\n",
                ""
            ],
            "metadata": {
                "azdata_cell_guid": "5650505e-2548-490b-afa9-039d14de9851"
            },
            "outputs": [],
            "execution_count": null
        },
        {
            "cell_type": "markdown",
            "source": [
                "We want to see information about countries and provinces. Join the CountryRegion and the StateProvince tables (both in the Person schema). Note that we want to keep the countries for which there are no provinces! Sort the result on country name and province name."
            ],
            "metadata": {
                "azdata_cell_guid": "35c8a676-5bc4-46f1-b174-6673d018f4b2"
            }
        },
        {
            "cell_type": "code",
            "source": [
                "SELECT r.Name [Country Name], p.Name [Province Name]\n",
                "FROM Person.CountryRegion AS r\n",
                "JOIN Person.StateProvince AS p\n",
                "ON r.CountryRegionCode = p.CountryRegionCode\n",
                "WHERE p.IsOnlyStateProvinceFlag = 1\n",
                "ORDER BY r.Name, p.Name"
            ],
            "metadata": {
                "azdata_cell_guid": "49a87cb4-088d-483d-b196-610ac6bc21d7"
            },
            "outputs": [],
            "execution_count": null
        },
        {
            "cell_type": "markdown",
            "source": [
                "# **Set operations**"
            ],
            "metadata": {
                "azdata_cell_guid": "b1fdcb75-b62a-4a2f-b842-713aa06e628b"
            },
            "attachments": {}
        },
        {
            "cell_type": "markdown",
            "source": [
                "<span style=\"font-family: Helvetica; font-size: 11px; color: rgb(0, 0, 0);\">Display all record with SalesQuota more than zero (Sales.SalesPerson). Besides add to this result set all historical data with the same condition regarding SalesQuota (display BusinessEntityID, QuotaDate (if there no such column please display current date) and SalesQuoa). Consider that duplicates are acceptable.</span>"
            ],
            "metadata": {
                "azdata_cell_guid": "a40395a5-20c1-442e-8a3a-8bf47b68c81f"
            },
            "attachments": {}
        },
        {
            "cell_type": "code",
            "source": [
                "(\n",
                "    SELECT BusinessEntityID, SalesQuota, GETDATE()\n",
                "    FROM Sales.SalesPerson\n",
                "    WHERE SalesQuota > 0\n",
                ") UNION (\n",
                "    SELECT BusinessEntityID, SalesQuota, QuotaDate\n",
                "    FROM Sales.SalesPersonQuotaHistory\n",
                "    WHERE SalesQuota > 0\n",
                ")"
            ],
            "metadata": {
                "azdata_cell_guid": "dc4d170b-7e5a-40af-a130-6a579ff02433"
            },
            "outputs": [],
            "execution_count": null
        },
        {
            "cell_type": "markdown",
            "source": [
                "<span style=\"font-family: Helvetica; font-size: 11px; color: rgb(0, 0, 0);\">Generate a list of unique sutnames from among employes and salespersons</span>"
            ],
            "metadata": {
                "azdata_cell_guid": "8f04851e-020c-40e4-a204-8e8ed1068309"
            },
            "attachments": {}
        },
        {
            "cell_type": "code",
            "source": [
                "(\n",
                "    SELECT p.LastName\n",
                "    FROM Sales.SalesPerson AS sp\n",
                "    JOIN Person.Person AS p \n",
                "    ON sp.BusinessEntityID = p.BusinessEntityID\n",
                ") UNION (\n",
                "    SELECT p.LastName\n",
                "    FROM HumanResources.Employee AS ep \n",
                "    JOIN Person.Person AS p\n",
                "    ON ep.BusinessEntityID = p.BusinessEntityID\n",
                ")"
            ],
            "metadata": {
                "azdata_cell_guid": "9c5462a8-9af7-428c-8f31-34930eadeb54"
            },
            "outputs": [],
            "execution_count": null
        },
        {
            "cell_type": "markdown",
            "source": [
                "<span style=\"font-family: Helvetica; font-size: 11px; color: rgb(0, 0, 0);\">Write a query that returns customer and order ids’ pairs that had order activity in January 2008 but not in February 2008 (use set operators and simplify result’s query with simpler query)</span>"
            ],
            "metadata": {
                "azdata_cell_guid": "e090d5d0-2ecd-4bd0-91c2-f144c23c00c8"
            },
            "attachments": {}
        },
        {
            "cell_type": "code",
            "source": [
                "(\n",
                "    SELECT CustomerID, SalesOrderID, OrderDate\n",
                "    FROM Sales.SalesOrderHeader\n",
                "    WHERE MONTH(OrderDate) = MONTH(CAST('January 2008' AS DATE))\n",
                "    AND YEAR(OrderDate) = 2008\n",
                ") EXCEPT (\n",
                "    SELECT CustomerID, SalesOrderID, OrderDate\n",
                "    FROM Sales.SalesOrderHeader\n",
                "    WHERE MONTH(OrderDate) = MONTH(CAST('February 2008' AS DATE))\n",
                "    AND YEAR(OrderDate) = 2008\n",
                ")"
            ],
            "metadata": {
                "azdata_cell_guid": "c2ee739a-7a7d-427f-b893-864f2d4945df"
            },
            "outputs": [],
            "execution_count": null
        },
        {
            "cell_type": "code",
            "source": [
                "SELECT CustomerID, SalesOrderID, OrderDate\n",
                "FROM Sales.SalesOrderHeader\n",
                "WHERE MONTH(OrderDate) = MONTH(CAST('January 2008' AS DATE))\n",
                "AND  MONTH(OrderDate) != MONTH(CAST('February 2008' AS DATE))\n",
                "AND YEAR(OrderDate) = 2008"
            ],
            "metadata": {
                "azdata_cell_guid": "af9c667b-c6f2-4133-99e4-a792e9ce42d3"
            },
            "outputs": [],
            "execution_count": null
        },
        {
            "cell_type": "markdown",
            "source": [
                "<span style=\"font-family: Helvetica; font-size: 11px; color: rgb(0, 0, 0);\">Write a union query involving the EXCEPT operator. Subtract products that are components from the total list of products, leaving only those products that are not components (components are products which are in BillOfMaterials table)</span>"
            ],
            "metadata": {
                "azdata_cell_guid": "9ce8f84b-bf92-4424-b763-cad10e9b4663"
            },
            "attachments": {}
        },
        {
            "cell_type": "code",
            "source": [
                "SELECT ProductID, [Name]\n",
                "FROM Production.Product\n",
                "WHERE ProductID in\n",
                "((\n",
                "    SELECT ProductID\n",
                "    FROM Production.Product\n",
                ") EXCEPT (\n",
                "    SELECT BillOfMaterialsID\n",
                "    FROM Production.BillOfMaterials\n",
                "))"
            ],
            "metadata": {
                "azdata_cell_guid": "a97866b5-4063-48df-a703-9fc51f81dea1"
            },
            "outputs": [],
            "execution_count": null
        },
        {
            "cell_type": "markdown",
            "source": [
                "<span style=\"font-family: Helvetica; font-size: 11px; color: rgb(0, 0, 0);\">Write a query to find products that have incurred both good and poor reviews (use Production.ProductReview)</span>"
            ],
            "metadata": {
                "azdata_cell_guid": "e05f50ad-9e81-40cd-b58d-d6185c50c043"
            },
            "attachments": {}
        },
        {
            "cell_type": "code",
            "source": [
                "SELECT [Name], ProductID\n",
                "FROM Production.Product\n",
                "WHERE ProductId IN (\n",
                "(\n",
                "    SELECT p.ProductID\n",
                "    FROM Production.Product AS p\n",
                "    JOIN Production.ProductReview AS r\n",
                "    ON p.ProductID = r.ProductID\n",
                "    WHERE Rating >= 4\n",
                ") INTERSECT (\n",
                "    SELECT p.ProductID\n",
                "    FROM Production.Product AS p\n",
                "    JOIN Production.ProductReview AS r\n",
                "    ON p.ProductID = r.ProductID\n",
                "    WHERE Rating <= 3\n",
                "))"
            ],
            "metadata": {
                "azdata_cell_guid": "6ca17035-31e2-4790-a249-a7f3b88559f0",
                "tags": []
            },
            "outputs": [],
            "execution_count": null
        },
        {
            "cell_type": "markdown",
            "source": [
                "# **Subqueries**"
            ],
            "metadata": {
                "azdata_cell_guid": "d3a19e59-3ec1-44cd-8944-d221c0ce7b4e"
            },
            "attachments": {}
        },
        {
            "cell_type": "markdown",
            "source": [
                "Using a subquery, display the product names and product ID numbers from the Production.Product table that have been ordered\n",
                ""
            ],
            "metadata": {
                "azdata_cell_guid": "f7fc68a3-e9ef-4732-9660-b087bd69072e"
            }
        },
        {
            "cell_type": "code",
            "source": [
                "SELECT [Name], ProductID\n",
                "FROM Production.Product\n",
                "WHERE ProductID IN\n",
                "(\n",
                "    SELECT ProductID\n",
                "    FROM Sales.SalesOrderDetail\n",
                ")"
            ],
            "metadata": {
                "azdata_cell_guid": "f7a7bae0-6869-4738-8b7d-0c63a4fff191"
            },
            "outputs": [],
            "execution_count": null
        },
        {
            "cell_type": "code",
            "source": [
                "SELECT DISTINCT [Name], p.ProductID\n",
                "FROM Production.Product AS p\n",
                "JOIN Sales.SalesOrderDetail AS s\n",
                "ON p.ProductID = s.ProductID"
            ],
            "metadata": {
                "azdata_cell_guid": "c9dde40a-438f-4586-9cb6-4b451fd59602"
            },
            "outputs": [],
            "execution_count": null
        },
        {
            "cell_type": "markdown",
            "source": [
                "Change the query written in question 1 to display the products that have not been ordered. \n",
                ""
            ],
            "metadata": {
                "azdata_cell_guid": "028d10e4-a2ba-4deb-a661-308d4e004b8c"
            }
        },
        {
            "cell_type": "code",
            "source": [
                "SELECT [Name], ProductID\n",
                "FROM Production.Product\n",
                "WHERE ProductID NOT IN\n",
                "(\n",
                "    SELECT ProductID\n",
                "    FROM Sales.SalesOrderDetail\n",
                ")\n",
                "ORDER BY ProductID"
            ],
            "metadata": {
                "azdata_cell_guid": "4490d6fb-c427-45d3-988c-9bebfccd0ae8"
            },
            "outputs": [],
            "execution_count": null
        },
        {
            "cell_type": "code",
            "source": [
                "SELECT DISTINCT [Name], p.ProductID\n",
                "FROM Production.Product AS p\n",
                "JOIN Sales.SalesOrderDetail AS s\n",
                "-- this one won't work simply by changin !=, thus subquery\n",
                "-- is optimal here\n",
                "ON p.ProductID != s.ProductID\n",
                "ORDER BY ProductID"
            ],
            "metadata": {
                "azdata_cell_guid": "7288219d-ba4b-4da6-9ecc-caf2d1ce5cd7"
            },
            "outputs": [],
            "execution_count": null
        },
        {
            "cell_type": "markdown",
            "source": [
                "Write a query that returns all orders placed on the last day of activity that can be found in the SalesOrderHeader table.\n",
                "\n",
                "TODO: ???"
            ],
            "metadata": {
                "azdata_cell_guid": "c614af49-a2be-4460-9391-7dcc390a23f8"
            },
            "attachments": {}
        },
        {
            "cell_type": "code",
            "source": [
                "SELECT * \n",
                "FROM Sales.SalesOrderHeader\n",
                "WHERE SalesOrderID in (\n",
                "    SELECT SalesOrderID\n",
                "    FROM Sales.SalesOrderHeader\n",
                "    -- orders places on the last day of activity\n",
                "    WHERE DueDate = ShipDate\n",
                ")"
            ],
            "metadata": {
                "azdata_cell_guid": "ce3cb063-1834-4f63-8746-8dcef77f15a3"
            },
            "outputs": [
                {
                    "output_type": "display_data",
                    "data": {
                        "text/html": "(0 rows affected)"
                    },
                    "metadata": {}
                },
                {
                    "output_type": "display_data",
                    "data": {
                        "text/html": "Total execution time: 00:00:00.080"
                    },
                    "metadata": {}
                },
                {
                    "output_type": "execute_result",
                    "metadata": {},
                    "execution_count": 125,
                    "data": {
                        "application/vnd.dataresource+json": {
                            "schema": {
                                "fields": [
                                    {
                                        "name": "SalesOrderID"
                                    },
                                    {
                                        "name": "RevisionNumber"
                                    },
                                    {
                                        "name": "OrderDate"
                                    },
                                    {
                                        "name": "DueDate"
                                    },
                                    {
                                        "name": "ShipDate"
                                    },
                                    {
                                        "name": "Status"
                                    },
                                    {
                                        "name": "OnlineOrderFlag"
                                    },
                                    {
                                        "name": "SalesOrderNumber"
                                    },
                                    {
                                        "name": "PurchaseOrderNumber"
                                    },
                                    {
                                        "name": "AccountNumber"
                                    },
                                    {
                                        "name": "CustomerID"
                                    },
                                    {
                                        "name": "SalesPersonID"
                                    },
                                    {
                                        "name": "TerritoryID"
                                    },
                                    {
                                        "name": "BillToAddressID"
                                    },
                                    {
                                        "name": "ShipToAddressID"
                                    },
                                    {
                                        "name": "ShipMethodID"
                                    },
                                    {
                                        "name": "CreditCardID"
                                    },
                                    {
                                        "name": "CreditCardApprovalCode"
                                    },
                                    {
                                        "name": "CurrencyRateID"
                                    },
                                    {
                                        "name": "SubTotal"
                                    },
                                    {
                                        "name": "TaxAmt"
                                    },
                                    {
                                        "name": "Freight"
                                    },
                                    {
                                        "name": "TotalDue"
                                    },
                                    {
                                        "name": "Comment"
                                    },
                                    {
                                        "name": "rowguid"
                                    },
                                    {
                                        "name": "ModifiedDate"
                                    }
                                ]
                            },
                            "data": []
                        },
                        "text/html": [
                            "<table>",
                            "<tr><th>SalesOrderID</th><th>RevisionNumber</th><th>OrderDate</th><th>DueDate</th><th>ShipDate</th><th>Status</th><th>OnlineOrderFlag</th><th>SalesOrderNumber</th><th>PurchaseOrderNumber</th><th>AccountNumber</th><th>CustomerID</th><th>SalesPersonID</th><th>TerritoryID</th><th>BillToAddressID</th><th>ShipToAddressID</th><th>ShipMethodID</th><th>CreditCardID</th><th>CreditCardApprovalCode</th><th>CurrencyRateID</th><th>SubTotal</th><th>TaxAmt</th><th>Freight</th><th>TotalDue</th><th>Comment</th><th>rowguid</th><th>ModifiedDate</th></tr>",
                            "</table>"
                        ]
                    }
                }
            ],
            "execution_count": 125
        },
        {
            "cell_type": "markdown",
            "source": [
                "Write a query that returns all orders placed by the customer(s) who placed the highest number of orders. Note that more than one customer might have the same number of orders.\n",
                ""
            ],
            "metadata": {
                "azdata_cell_guid": "d84339ae-b9ec-46d8-96f9-f0b9f8b55129"
            }
        },
        {
            "cell_type": "code",
            "source": [
                "SELECT *\n",
                "FROM Sales.SalesOrderHeader\n",
                "WHERE CustomerID in (\n",
                "    SELECT TOP 1 c.CustomerID\n",
                "    FROM Sales.Customer AS c\n",
                "    JOIN Sales.SalesOrderHeader AS h\n",
                "    ON c.CustomerID = h.CustomerID\n",
                "    GROUP BY c.CustomerID\n",
                "    ORDER BY COUNT(h.SalesOrderID) DESC\n",
                ")"
            ],
            "metadata": {
                "azdata_cell_guid": "540db2ca-4b32-41ae-8548-d0939ef359e0"
            },
            "outputs": [],
            "execution_count": null
        }
    ]
}