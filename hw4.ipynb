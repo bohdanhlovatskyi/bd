{
    "metadata": {
        "kernelspec": {
            "name": "SQL",
            "display_name": "SQL",
            "language": "sql"
        },
        "language_info": {
            "name": "sql",
            "version": ""
        }
    },
    "nbformat_minor": 2,
    "nbformat": 4,
    "cells": [
        {
            "cell_type": "markdown",
            "source": [
                "# **Joins**"
            ],
            "metadata": {
                "azdata_cell_guid": "24a2235f-51cd-4a85-9981-3fa4d4318a7e"
            },
            "attachments": {}
        },
        {
            "cell_type": "code",
            "source": [
                "SELECT 2 + 2;"
            ],
            "metadata": {
                "azdata_cell_guid": "692433f7-ed17-4805-8b12-cc6722d7bbdb"
            },
            "outputs": [],
            "execution_count": null
        },
        {
            "cell_type": "markdown",
            "source": [
                "Write a query that displays all the products along with the SalesOrderID even if an order has never been placed for that product. Display OrderId, ProductId, ProductName and only products which weren’t ordered"
            ],
            "metadata": {
                "azdata_cell_guid": "deae8c59-4991-4953-abba-f26d38effa1c"
            }
        },
        {
            "cell_type": "code",
            "source": [
                "SELECT SalesOrderId, p.ProductID, [Name]\n",
                "FROM Production.Product AS p\n",
                "LEFT JOIN Sales.SalesOrderDetail AS o\n",
                "ON p.ProductID = o.ProductID\n",
                ""
            ],
            "metadata": {
                "azdata_cell_guid": "dfd26924-2dec-474d-bab4-8b83365cd9f9"
            },
            "outputs": [],
            "execution_count": null
        },
        {
            "cell_type": "markdown",
            "source": [
                "Write a query to display count each products within order with product name and order date.\n",
                ""
            ],
            "metadata": {
                "azdata_cell_guid": "ce8f417a-5046-4f1c-a4e0-b97ca0f2a4af"
            }
        },
        {
            "cell_type": "code",
            "source": [
                "SELECT p.Name, count(p.ProductId) [Ordered], h.OrderDate\n",
                "FROM Production.Product AS p\n",
                "JOIN Sales.SalesOrderDetail AS s\n",
                "ON p.[ProductID] = s.ProductID\n",
                "JOIN Sales.SalesOrderHeader AS h\n",
                "ON s.SalesOrderID = h.SalesOrderID\n",
                "GROUP BY p.Name, h.OrderDate"
            ],
            "metadata": {
                "azdata_cell_guid": "85b5546a-83bb-49ad-9a5c-68b25e987635"
            },
            "outputs": [],
            "execution_count": null
        },
        {
            "cell_type": "markdown",
            "source": [
                "Write a query to return list of customer names along with a count of the orders made by these customers.\n",
                ""
            ],
            "metadata": {
                "azdata_cell_guid": "145083d2-0ca2-4d8c-a6cc-f4ff38ed2bbf"
            }
        },
        {
            "cell_type": "code",
            "source": [
                "SELECT p.FirstName, p.LastName, count(c.CustomerID) [Products ordered]\n",
                "FROM Sales.Customer AS c \n",
                "JOIN Person.Person AS p\n",
                "ON c.PersonID = p.BusinessEntityID\n",
                "JOIN Sales.SalesOrderHeader AS s\n",
                "ON c.CustomerID = s.CustomerID\n",
                "GROUP BY c.CustomerID, p.FirstName, p.LastName"
            ],
            "metadata": {
                "azdata_cell_guid": "eb4ffb7d-064c-4fc9-8f82-585da8e83711"
            },
            "outputs": [],
            "execution_count": null
        },
        {
            "cell_type": "markdown",
            "source": [
                "We have been asked by the Products team for some information about every product and its description for those that have a culture originating in English (En). This information is required so that they know what is coming from England: \n",
                "\n",
                " Task1: identification of tables for required information\n",
                "\n",
                " Task2: identify common fields in table to link them together. Write the query that join them together and selects the product identifier, culture, product description, culture,, product model name\n",
                "\n",
                " Task3: Filtering for the ‘en’ culture. Adding to the query in task2, retrieve inly products that come from English (en) culture."
            ],
            "metadata": {
                "azdata_cell_guid": "da12d3f9-9fa7-4e1e-83f1-93422b5e018a"
            },
            "attachments": {}
        },
        {
            "cell_type": "code",
            "source": [
                "SELECT p.ProductID, m.Name [Model Name ], c.Name [Culture], [Description]\n",
                "FROM Production.Product AS p\n",
                "JOIN Production.ProductModel As m\n",
                "ON p.ProductModelID = m.ProductModelID\n",
                "JOIN Production.ProductModelProductDescriptionCulture AS cid\n",
                "ON m.ProductModelID = cid.ProductModelID\n",
                "JOIN Production.Culture AS c \n",
                "ON cid.CultureID = c.CultureID\n",
                "JOIN Production.ProductDescription AS d\n",
                "ON cid.ProductDescriptionID = d.ProductDescriptionID\n",
                "WHERE c.Name = 'English'"
            ],
            "metadata": {
                "azdata_cell_guid": "8c45ccaf-d7d2-4fcc-bef5-2c8678ab3ce4"
            },
            "outputs": [],
            "execution_count": null
        },
        {
            "cell_type": "markdown",
            "source": [
                "We have been asked be Adwenture Work Finance Department to find out the total amount due from two customers Walter Brian and Walter Mays on all order they have placed. It is worth noting each time a customer places an order they are treated as a new customer, so they get a separate record.\n",
                "\n",
                " Task1: Investigating the Customers’ data for customers who have first name Walter \n",
                "\n",
                " Task2: Identify whis data should be uset to group and join all appropriate tables. \n",
                "\n",
                " Task3: Use the needed aggregate functions"
            ],
            "metadata": {
                "azdata_cell_guid": "aa77f319-0031-4357-8526-0412558f616f"
            },
            "attachments": {}
        },
        {
            "cell_type": "code",
            "source": [
                "SELECT p.FirstName, p.LastName, SUM(h.TotalDue) [Total Due]\n",
                "FROM Sales.Customer AS s\n",
                "JOIN Person.Person AS p\n",
                "ON s.PersonID = p.BusinessEntityID\n",
                "JOIN Sales.SalesOrderHeader AS h\n",
                "ON s.CustomerID = h.CustomerID\n",
                "WHERE p.FirstName like 'Walter' and p.LastName in ('Brian', 'Mays')\n",
                "GROUP BY p.LastName, p.FirstName"
            ],
            "metadata": {
                "azdata_cell_guid": "411d94f8-de06-4658-81f6-5d334b573e55"
            },
            "outputs": [
                {
                    "output_type": "display_data",
                    "data": {
                        "text/html": "(2 rows affected)"
                    },
                    "metadata": {}
                },
                {
                    "output_type": "display_data",
                    "data": {
                        "text/html": "Total execution time: 00:00:00.086"
                    },
                    "metadata": {}
                },
                {
                    "output_type": "execute_result",
                    "metadata": {},
                    "execution_count": 51,
                    "data": {
                        "application/vnd.dataresource+json": {
                            "schema": {
                                "fields": [
                                    {
                                        "name": "FirstName"
                                    },
                                    {
                                        "name": "LastName"
                                    },
                                    {
                                        "name": "Total Due"
                                    }
                                ]
                            },
                            "data": [
                                {
                                    "0": "Walter",
                                    "1": "Brian",
                                    "2": "6504.8271"
                                },
                                {
                                    "0": "Walter",
                                    "1": "Mays",
                                    "2": "51015.5565"
                                }
                            ]
                        },
                        "text/html": [
                            "<table>",
                            "<tr><th>FirstName</th><th>LastName</th><th>Total Due</th></tr>",
                            "<tr><td>Walter</td><td>Brian</td><td>6504.8271</td></tr>",
                            "<tr><td>Walter</td><td>Mays</td><td>51015.5565</td></tr>",
                            "</table>"
                        ]
                    }
                }
            ],
            "execution_count": 51
        },
        {
            "cell_type": "markdown",
            "source": [
                "We want to see which employee have been working in more than one department. Use the tables Person. Person, HumanResources.Employee and HumanResources.EmployeeDepartmentHistory. The COUNT function in companion with GROUP BY and HAVING is used to find out the answer to our question."
            ],
            "metadata": {
                "azdata_cell_guid": "095f50f5-4d9a-4306-a468-e2c410ce3dd0"
            }
        },
        {
            "cell_type": "code",
            "source": [
                "SELECT p.FirstName, p.LastName, COUNT(DepartmentID) [N of departments]\n",
                "FROM HumanResources.Employee AS e\n",
                "JOIN HumanResources.EmployeeDepartmentHistory AS h\n",
                "ON e.BusinessEntityID = h.BusinessEntityID\n",
                "JOIN Person.Person AS p \n",
                "ON e.BusinessEntityID = p.BusinessEntityID\n",
                "GROUP BY e.BusinessEntityID, p.FirstName, p.LastName\n",
                "HAVING COUNT(DepartmentID) > 1\n",
                ""
            ],
            "metadata": {
                "azdata_cell_guid": "5650505e-2548-490b-afa9-039d14de9851"
            },
            "outputs": [
                {
                    "output_type": "display_data",
                    "data": {
                        "text/html": "(5 rows affected)"
                    },
                    "metadata": {}
                },
                {
                    "output_type": "display_data",
                    "data": {
                        "text/html": "Total execution time: 00:00:00.061"
                    },
                    "metadata": {}
                },
                {
                    "output_type": "execute_result",
                    "metadata": {},
                    "execution_count": 59,
                    "data": {
                        "application/vnd.dataresource+json": {
                            "schema": {
                                "fields": [
                                    {
                                        "name": "FirstName"
                                    },
                                    {
                                        "name": "LastName"
                                    },
                                    {
                                        "name": "N of departments"
                                    }
                                ]
                            },
                            "data": [
                                {
                                    "0": "Rob",
                                    "1": "Walters",
                                    "2": "2"
                                },
                                {
                                    "0": "David",
                                    "1": "Bradley",
                                    "2": "2"
                                },
                                {
                                    "0": "William",
                                    "1": "Vong",
                                    "2": "2"
                                },
                                {
                                    "0": "Laura",
                                    "1": "Norman",
                                    "2": "2"
                                },
                                {
                                    "0": "Sheela",
                                    "1": "Word",
                                    "2": "3"
                                }
                            ]
                        },
                        "text/html": [
                            "<table>",
                            "<tr><th>FirstName</th><th>LastName</th><th>N of departments</th></tr>",
                            "<tr><td>Rob</td><td>Walters</td><td>2</td></tr>",
                            "<tr><td>David</td><td>Bradley</td><td>2</td></tr>",
                            "<tr><td>William</td><td>Vong</td><td>2</td></tr>",
                            "<tr><td>Laura</td><td>Norman</td><td>2</td></tr>",
                            "<tr><td>Sheela</td><td>Word</td><td>3</td></tr>",
                            "</table>"
                        ]
                    }
                }
            ],
            "execution_count": 59
        },
        {
            "cell_type": "markdown",
            "source": [
                "We want to see information about countries and provinces. Join the CountryRegion and the StateProvince tables (both in the Person schema). Note that we want to keep the countries for which there are no provinces! Sort the result on country name and province name."
            ],
            "metadata": {
                "azdata_cell_guid": "35c8a676-5bc4-46f1-b174-6673d018f4b2"
            }
        },
        {
            "cell_type": "code",
            "source": [
                "SELECT r.Name [Country Name], p.Name [Province Name]\n",
                "FROM Person.CountryRegion AS r\n",
                "JOIN Person.StateProvince AS p\n",
                "ON r.CountryRegionCode = p.CountryRegionCode\n",
                "WHERE p.IsOnlyStateProvinceFlag = 1\n",
                "ORDER BY r.Name, p.Name"
            ],
            "metadata": {
                "azdata_cell_guid": "49a87cb4-088d-483d-b196-610ac6bc21d7"
            },
            "outputs": [
                {
                    "output_type": "display_data",
                    "data": {
                        "text/html": "(8 rows affected)"
                    },
                    "metadata": {}
                },
                {
                    "output_type": "display_data",
                    "data": {
                        "text/html": "Total execution time: 00:00:00.098"
                    },
                    "metadata": {}
                },
                {
                    "output_type": "execute_result",
                    "metadata": {},
                    "execution_count": 62,
                    "data": {
                        "application/vnd.dataresource+json": {
                            "schema": {
                                "fields": [
                                    {
                                        "name": "Country Name"
                                    },
                                    {
                                        "name": "Province Name"
                                    }
                                ]
                            },
                            "data": [
                                {
                                    "0": "American Samoa",
                                    "1": "American Samoa"
                                },
                                {
                                    "0": "France",
                                    "1": "France"
                                },
                                {
                                    "0": "Marshall Islands",
                                    "1": "Marshall Islands"
                                },
                                {
                                    "0": "Micronesia",
                                    "1": "Micronesia"
                                },
                                {
                                    "0": "Northern Mariana Islands",
                                    "1": "Northern Mariana Islands"
                                },
                                {
                                    "0": "Palau",
                                    "1": "Palau"
                                },
                                {
                                    "0": "United Kingdom",
                                    "1": "England"
                                },
                                {
                                    "0": "Virgin Islands, U.S.",
                                    "1": "Virgin Islands"
                                }
                            ]
                        },
                        "text/html": [
                            "<table>",
                            "<tr><th>Country Name</th><th>Province Name</th></tr>",
                            "<tr><td>American Samoa</td><td>American Samoa</td></tr>",
                            "<tr><td>France</td><td>France</td></tr>",
                            "<tr><td>Marshall Islands</td><td>Marshall Islands</td></tr>",
                            "<tr><td>Micronesia</td><td>Micronesia</td></tr>",
                            "<tr><td>Northern Mariana Islands</td><td>Northern Mariana Islands</td></tr>",
                            "<tr><td>Palau</td><td>Palau</td></tr>",
                            "<tr><td>United Kingdom</td><td>England</td></tr>",
                            "<tr><td>Virgin Islands, U.S.</td><td>Virgin Islands</td></tr>",
                            "</table>"
                        ]
                    }
                }
            ],
            "execution_count": 62
        },
        {
            "cell_type": "markdown",
            "source": [
                "# **Subqueries**"
            ],
            "metadata": {
                "azdata_cell_guid": "b1fdcb75-b62a-4a2f-b842-713aa06e628b"
            },
            "attachments": {}
        },
        {
            "cell_type": "code",
            "source": [
                ""
            ],
            "metadata": {
                "azdata_cell_guid": "dc4d170b-7e5a-40af-a130-6a579ff02433"
            },
            "outputs": [],
            "execution_count": null
        }
    ]
}