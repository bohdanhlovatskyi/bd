{
    "metadata": {
        "kernelspec": {
            "name": "SQL",
            "display_name": "SQL",
            "language": "sql"
        },
        "language_info": {
            "name": "sql",
            "version": ""
        }
    },
    "nbformat_minor": 2,
    "nbformat": 4,
    "cells": [
        {
            "cell_type": "code",
            "source": [
                "SELECT 2 + 2;"
            ],
            "metadata": {
                "azdata_cell_guid": "72360ce6-8404-42a5-ab83-0e460c327787"
            },
            "outputs": [],
            "execution_count": null
        },
        {
            "cell_type": "markdown",
            "source": [
                "Write a query that joins the HumanResources.Employee table to the Person.Person table so that you can display the FirstName, LastName, and HireDate columns for each employee. Display the JobTitle along with a count of employees for the title"
            ],
            "metadata": {
                "azdata_cell_guid": "2c69886e-722b-4474-9061-de44e6797ad3"
            },
            "attachments": {}
        },
        {
            "cell_type": "code",
            "source": [
                "SELECT FirstName, LastName, HireDate, JobTitle, \n",
                "       COUNT(*) OVER (PARTITION BY JobTitle) [Employees on this job title]\n",
                "FROM HumanResources.Employee AS e\n",
                "JOIN Person.Person AS p\n",
                "ON e.BusinessEntityID = p.BusinessEntityID"
            ],
            "metadata": {
                "azdata_cell_guid": "3bc41724-338c-4036-9c90-307ebb59c4b2"
            },
            "outputs": [],
            "execution_count": null
        },
        {
            "cell_type": "markdown",
            "source": [
                "Display the CustomerID, SalesOrderID, and OrderDate for each Sales.SalesOrderHeader row as long as the customer has placed at least five orders.\n",
                "\n",
                "_Hint: use IN operator and subquery (query1) and use JOIN and subquery (query2)_"
            ],
            "metadata": {
                "azdata_cell_guid": "ed91c1ac-66cf-4fa4-ae8a-8a2cae6f6503"
            },
            "attachments": {}
        },
        {
            "cell_type": "code",
            "source": [
                "SELECT CustomerID, SalesOrderID, OrderDate\n",
                "FROM Sales.SalesOrderHeader\n",
                "WHERE CustomerID IN (\n",
                "    SELECT CustomerID\n",
                "    FROM Sales.SalesOrderHeader\n",
                "    GROUP BY CustomerID\n",
                "    HAVING COUNT(*) > 4\n",
                ")"
            ],
            "metadata": {
                "azdata_cell_guid": "24d37979-e105-4f77-9c6a-c8af2777e6dc"
            },
            "outputs": [],
            "execution_count": null
        },
        {
            "cell_type": "code",
            "source": [
                "WITH sub AS (\n",
                "    SELECT CustomerID\n",
                "    FROM Sales.SalesOrderHeader\n",
                "    GROUP BY CustomerID\n",
                "    HAVING COUNT(*) > 4)\n",
                "SELECT sub.CustomerID, SalesOrderID, OrderDate\n",
                "FROM Sales.SalesOrderHeader AS s\n",
                "JOIN sub ON s.CustomerID = sub.CustomerID"
            ],
            "metadata": {
                "azdata_cell_guid": "c9103750-1986-4206-a970-331a938f18eb"
            },
            "outputs": [],
            "execution_count": null
        },
        {
            "cell_type": "markdown",
            "source": [
                "Write a batch that declares an integer variable called @Count to save the count of all the Sales.SalesOrderDetail records. Add an IF block that that prints “Over 100,000” if the value exceeds 100,000. Otherwise, print “100,000 or less.” (use PRINT function)\n",
                ""
            ],
            "metadata": {
                "azdata_cell_guid": "f4bee6b2-b39f-459d-8d35-ad7e76f3be2d"
            },
            "attachments": {}
        },
        {
            "cell_type": "code",
            "source": [
                "DECLARE @Count INT\n",
                "SET @Count = (SELECT COUNT(*) FROM Sales.SalesOrderHeader)\n",
                "\n",
                "IF @Count > 100000\n",
                "    PRINT 'Over 100,000'\n",
                "ELSE\n",
                "    PRINT '100,000 or less'\n",
                "\n",
                "SELECT @Count AS c"
            ],
            "metadata": {
                "azdata_cell_guid": "adb4a680-31e4-4e7b-83bf-b8912bc9126e"
            },
            "outputs": [],
            "execution_count": null
        },
        {
            "cell_type": "markdown",
            "source": [
                "Write a batch that contains nested IF blocks. The outer block should check to see whether the month is October or November. If that is the case, print “The month is ” and the month name. The inner block should check to see whether the year is even or odd and print the result.\n",
                ""
            ],
            "metadata": {
                "azdata_cell_guid": "3d1f8989-ea2c-4b68-8ec8-c7c053b520e1"
            },
            "attachments": {}
        },
        {
            "cell_type": "code",
            "source": [
                "DECLARE @Month VARCHAR(255)\n",
                "SET @Month = DATENAME(MONTH, GETDATE())\n",
                "DECLARE @Year INT\n",
                "SET @Year = YEAR(GETDATE())\n",
                "\n",
                "IF @Month not in ('October', 'November')\n",
                "BEGIN\n",
                "    PRINT 'The month is ' +  @Month\n",
                "    IF @Year % 2 = 0\n",
                "        PRINT 'Even'\n",
                "    ELSE\n",
                "        PRINT 'Odd'\n",
                "END\n",
                "GO"
            ],
            "metadata": {
                "azdata_cell_guid": "7eec61bb-c43a-4068-a3c2-cebd7082a216"
            },
            "outputs": [],
            "execution_count": null
        },
        {
            "cell_type": "markdown",
            "source": [
                "Write a script that contains a WHILE loop that counts up from 1 to 100. Print “Odd” or “Even” depending on the value of the counter\n",
                ""
            ],
            "metadata": {
                "azdata_cell_guid": "94e2e48d-d061-44ee-96a5-2f02a1c69bb2"
            },
            "attachments": {}
        },
        {
            "cell_type": "code",
            "source": [
                "DECLARE @i AS INT = 1;\n",
                "WHILE @i <= 100\n",
                "BEGIN\n",
                "    IF @i % 2 = 0\n",
                "        PRINT 'Even'\n",
                "    ELSE\n",
                "        PRINT 'Odd'\n",
                "    SET @i = @i + 1\n",
                "END"
            ],
            "metadata": {
                "azdata_cell_guid": "11901a4e-9fae-47a5-9149-d5ca18240ef5"
            },
            "outputs": [],
            "execution_count": null
        },
        {
            "cell_type": "markdown",
            "source": [
                "Write a statement that attempts to insert a duplicate row into the HumanResources.Department table. Use the @@ERROR function to display the error.\n",
                "\n",
                "Change the code you wrote in question 6 to use TRY…CATCH. Display the error number, message, and severity\n",
                "\n",
                "Change the code you wrote in question 7 to raise a custom error message instead of the actual error message."
            ],
            "metadata": {
                "azdata_cell_guid": "b70ea54c-c3b8-428c-ba07-eab5c6015747"
            },
            "attachments": {}
        },
        {
            "cell_type": "code",
            "source": [
                "BEGIN TRY\n",
                "INSERT INTO HumanResources.Department (Name, GroupName, ModifiedDate)\n",
                "SELECT Name, GroupName, ModifiedDate FROM HumanResources.Department WHERE DepartmentID = 1; \n",
                "END TRY\n",
                "BEGIN CATCH\n",
                "    PRINT @@ERROR;\n",
                "    PRINT ERROR_MESSAGE()\n",
                "    PRINT ERROR_SEVERITY()\n",
                "    RAISERROR ('Custom error message', 18, 1)\n",
                "END CATCH;"
            ],
            "metadata": {
                "azdata_cell_guid": "4c5aae8e-c7b3-493b-b8a5-5361989c46b3"
            },
            "outputs": [],
            "execution_count": null
        },
        {
            "cell_type": "markdown",
            "source": [
                "Create a temp table called #CustomerInfo that contains CustomerID, FirstName, and LastName columns. Include CountOfSales and SumOfTotalDue columns. Populate the table with a query using the Sales.Customer, Person.Person, and Sales.SalesOrderHeader tables"
            ],
            "metadata": {
                "azdata_cell_guid": "f4169497-2a80-438e-ba65-6c5e9edf0e01"
            },
            "attachments": {}
        },
        {
            "cell_type": "code",
            "source": [
                "CREATE TABLE dbo.#CustomerInfo (\n",
                "    CustomerID INT NOT NULL IDENTITY(1, 1) PRIMARY KEY,\n",
                "    FirstName VARCHAR(255),\n",
                "    LastName VARCHAR(255),\n",
                "    CountOfSales INT,\n",
                "    SumOfTotalDue FLOAT\n",
                ")\n",
                "\n",
                "INSERT INTO dbo.#CustomerInfo (FirstName, LastName, CountOfSales, SumOfTotalDue) (\n",
                "    SELECT FirstName, LastName,\n",
                "    COUNT(SalesOrderID) OVER (PARTITION BY s.CustomerID),\n",
                "    sum(TotalDue) OVER (PARTITION BY s.CustomerID)\n",
                "    FROM Sales.Customer AS c\n",
                "    JOIN Person.Person AS p\n",
                "    ON c.CustomerID = p.BusinessEntityID\n",
                "    JOIN Sales.SalesOrderHeader AS s\n",
                "    ON c.CustomerID = s.CustomerID\n",
                ")\n",
                "\n",
                "SELECT * FROM dbo.#CustomerInfo;"
            ],
            "metadata": {
                "azdata_cell_guid": "e8426226-0b46-47e7-9df0-9728eee4a138"
            },
            "outputs": [],
            "execution_count": null
        },
        {
            "cell_type": "code",
            "source": [
                "DROP TABLE dbo.#CustomerInfo;"
            ],
            "metadata": {
                "azdata_cell_guid": "41e54ad7-c9a2-421a-b003-9a1e353f1d67"
            },
            "outputs": [],
            "execution_count": null
        },
        {
            "cell_type": "markdown",
            "source": [
                "Change the code written in question 9 to use a table variable instead of a temp table\n",
                ""
            ],
            "metadata": {
                "azdata_cell_guid": "205cebf3-cf08-4bc5-9efe-4fd9185ac63b"
            },
            "attachments": {}
        },
        {
            "cell_type": "code",
            "source": [
                "DECLARE @CustomerInfo TABLE (\n",
                "    CustomerID INT NOT NULL IDENTITY(1, 1) PRIMARY KEY,\n",
                "    FirstName VARCHAR(255),\n",
                "    LastName VARCHAR(255),\n",
                "    CountOfSales INT,\n",
                "    SumOfTotalDue FLOAT\n",
                ")\n",
                "\n",
                "INSERT INTO @CustomerInfo (FirstName, LastName, CountOfSales, SumOfTotalDue) (\n",
                "    SELECT FirstName, LastName,\n",
                "    COUNT(SalesOrderID) OVER (PARTITION BY s.CustomerID),\n",
                "    sum(TotalDue) OVER (PARTITION BY s.CustomerID)\n",
                "    FROM Sales.Customer AS c\n",
                "    JOIN Person.Person AS p\n",
                "    ON c.CustomerID = p.BusinessEntityID\n",
                "    JOIN Sales.SalesOrderHeader AS s\n",
                "    ON c.CustomerID = s.CustomerID\n",
                ")\n",
                "\n",
                "SELECT * FROM @CustomerInfo;"
            ],
            "metadata": {
                "azdata_cell_guid": "b55d7827-60d4-469b-9674-fd234ff80b43"
            },
            "outputs": [],
            "execution_count": null
        },
        {
            "cell_type": "markdown",
            "source": [
                "Create a table variable with two integer columns, one of them an INDENTITY column. Use a WHILE loop to populate the table with 1,000 random integers using the following formula. Use a second WHILE loop to print the values from the table variable one by one.\n",
                "CAST(RND() * 10000 AS INT) + 1\n",
                ""
            ],
            "metadata": {
                "azdata_cell_guid": "455f0d38-f021-45ce-9953-11eed9142b77"
            },
            "attachments": {}
        },
        {
            "cell_type": "code",
            "source": [
                "CREATE TABLE dbo.#temp (\n",
                "    ID INT NOT NULL IDENTITY(1, 1) PRIMARY KEY,\n",
                "    Indentity INT\n",
                ")\n",
                "\n",
                "DECLARE @i AS INT = 1\n",
                "WHILE @i <= 100\n",
                "BEGIN\n",
                "    INSERT INTO dbo.#temp VALUES (CAST(RAND() * 10000 AS INT) + 1)\n",
                "    SET @i = @i + 1\n",
                "END"
            ],
            "metadata": {
                "azdata_cell_guid": "2fa52d6f-491e-4e05-b2a4-289d2676c6e1"
            },
            "outputs": [],
            "execution_count": null
        },
        {
            "cell_type": "code",
            "source": [
                "SELECT * FROM dbo.#temp\n",
                "DROP TABLE dbo.#temp;"
            ],
            "metadata": {
                "azdata_cell_guid": "8a271166-6bdf-4a4f-8c68-47fb14c4129a"
            },
            "outputs": [],
            "execution_count": null
        },
        {
            "cell_type": "markdown",
            "source": [
                "Write a script that declares an integer variable called @ID. Assign the value 70000 to the variable. Use the variable in a SELECT statement that returns all the SalesOrderID values from the Sales.SalesOrderHeader table that have a SalesOrderID greater than the value of the variable.\n",
                ""
            ],
            "metadata": {
                "azdata_cell_guid": "e25d1e59-2ae7-498a-a70f-eb1c1a045191"
            },
            "attachments": {}
        },
        {
            "cell_type": "code",
            "source": [
                "DECLARE @ID INT = 70000\n",
                "\n",
                "SELECT *\n",
                "FROM Sales.SalesOrderHeader\n",
                "WHERE SalesOrderID > @ID"
            ],
            "metadata": {
                "azdata_cell_guid": "549fa318-423d-4c8a-bf2c-a193d0ae0843"
            },
            "outputs": [],
            "execution_count": null
        },
        {
            "cell_type": "markdown",
            "source": [
                " Write a script that declares two integer variables called @MaxID and @MinID. Use the variables to print the highest and lowest SalesOrderID values from the Sales.SalesOrderHeader table.\n",
                "Hint: To convert max value to varchar use CONVERT(VARCHAR,@MaxID)\n",
                ""
            ],
            "metadata": {
                "azdata_cell_guid": "44639c3a-9bc8-4727-bbeb-56bebfba4cbb"
            },
            "attachments": {}
        },
        {
            "cell_type": "code",
            "source": [
                "DECLARE @MaxID INT\n",
                "DECLARE @MinID INT\n",
                "\n",
                "SET @MaxID = (SELECT max(SalesOrderID) FROM Sales.SalesOrderHeader)\n",
                "SET @MinID = (SELECT min(SalesOrderID) FROM Sales.SalesOrderHeader)\n",
                "\n",
                "PRINT 'Max: ' + CONVERT(VARCHAR, @MaxID) \n",
                "PRINT 'Min: ' + CONVERT(VARCHAR, @MinID) "
            ],
            "metadata": {
                "azdata_cell_guid": "a7597a35-4f74-4a6e-b8b3-09f81a406a63"
            },
            "outputs": [],
            "execution_count": null
        },
        {
            "cell_type": "code",
            "source": [
                ""
            ],
            "metadata": {
                "azdata_cell_guid": "811ae5a9-0048-4780-a275-7bbd0c991bcb"
            },
            "outputs": [],
            "execution_count": null
        }
    ]
}