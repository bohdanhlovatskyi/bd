{
    "metadata": {
        "kernelspec": {
            "name": "SQL",
            "display_name": "SQL",
            "language": "sql"
        },
        "language_info": {
            "name": "sql",
            "version": ""
        }
    },
    "nbformat_minor": 2,
    "nbformat": 4,
    "cells": [
        {
            "cell_type": "code",
            "source": [
                "SELECT 2 + 2;"
            ],
            "metadata": {
                "azdata_cell_guid": "6103e335-e61f-4857-94bf-8330c0a427f9"
            },
            "outputs": [
                {
                    "output_type": "display_data",
                    "data": {
                        "text/html": "(1 row affected)"
                    },
                    "metadata": {}
                },
                {
                    "output_type": "display_data",
                    "data": {
                        "text/html": "Total execution time: 00:00:00.050"
                    },
                    "metadata": {}
                },
                {
                    "output_type": "execute_result",
                    "execution_count": 1,
                    "data": {
                        "application/vnd.dataresource+json": {
                            "schema": {
                                "fields": [
                                    {
                                        "name": "(No column name)"
                                    }
                                ]
                            },
                            "data": [
                                {
                                    "0": "4"
                                }
                            ]
                        },
                        "text/html": "<table><tr><th>(No column name)</th></tr><tr><td>4</td></tr></table>"
                    },
                    "metadata": {}
                }
            ],
            "execution_count": 1
        },
        {
            "cell_type": "code",
            "source": [
                "IF NOT EXISTS (\n",
                "        SELECT *\n",
                "        FROM sys.schemas\n",
                "        WHERE name = N'BH'\n",
                "    )\n",
                "    EXEC('CREATE SCHEMA [BH]');\n",
                "GO"
            ],
            "metadata": {
                "azdata_cell_guid": "09ffb732-89d0-4b94-8196-ff401af30f9c"
            },
            "outputs": [
                {
                    "output_type": "display_data",
                    "data": {
                        "text/html": "Commands completed successfully."
                    },
                    "metadata": {}
                },
                {
                    "output_type": "display_data",
                    "data": {
                        "text/html": "Total execution time: 00:00:00.104"
                    },
                    "metadata": {}
                }
            ],
            "execution_count": 2
        },
        {
            "cell_type": "code",
            "source": [
                "CREATE TABLE BH.Customer (\n",
                "    Id int IDENTITY(1, 1) PRIMARY KEY,\n",
                "    FirstName VARCHAR(255),\n",
                "    SecondName VARCHAR(255),\n",
                "    LastName VARCHAR(255),\n",
                "    TerritoryName VARCHAR(255)\n",
                ");"
            ],
            "metadata": {
                "azdata_cell_guid": "438aed81-c1fb-4041-93d4-ea2446d60a07"
            },
            "outputs": [
                {
                    "output_type": "error",
                    "evalue": "Msg 2714, Level 16, State 6, Line 1\nThere is already an object named 'Customer' in the database.",
                    "ename": "",
                    "traceback": []
                },
                {
                    "output_type": "display_data",
                    "data": {
                        "text/html": "Total execution time: 00:00:00.092"
                    },
                    "metadata": {}
                }
            ],
            "execution_count": 1
        },
        {
            "cell_type": "code",
            "source": [
                "INSERT INTO BH.Customer (\n",
                "    FirstName, SecondName, LastName, TerritoryName\n",
                ") VALUES (\n",
                "    'Bohdan', 'Hlovatskyui', 'M', 'Ukraine'\n",
                ")\n",
                "GO 5;"
            ],
            "metadata": {
                "azdata_cell_guid": "ebb5e9c5-defe-4cd5-8952-ef9755780e26"
            },
            "outputs": [
                {
                    "output_type": "display_data",
                    "data": {
                        "text/html": "Beginning execution loop"
                    },
                    "metadata": {}
                },
                {
                    "output_type": "display_data",
                    "data": {
                        "text/html": "(1 row affected)"
                    },
                    "metadata": {}
                },
                {
                    "output_type": "display_data",
                    "data": {
                        "text/html": "(1 row affected)"
                    },
                    "metadata": {}
                },
                {
                    "output_type": "display_data",
                    "data": {
                        "text/html": "(1 row affected)"
                    },
                    "metadata": {}
                },
                {
                    "output_type": "display_data",
                    "data": {
                        "text/html": "(1 row affected)"
                    },
                    "metadata": {}
                },
                {
                    "output_type": "display_data",
                    "data": {
                        "text/html": "(1 row affected)"
                    },
                    "metadata": {}
                },
                {
                    "output_type": "display_data",
                    "data": {
                        "text/html": "Batch execution completed 5 times..."
                    },
                    "metadata": {}
                },
                {
                    "output_type": "display_data",
                    "data": {
                        "text/html": "Total execution time: 00:00:00.262"
                    },
                    "metadata": {}
                }
            ],
            "execution_count": 2
        },
        {
            "cell_type": "code",
            "source": [
                "SELECT * FROM BH.Customer;;"
            ],
            "metadata": {
                "azdata_cell_guid": "29ff0f8e-4efb-4c31-b823-9d13c263e36e"
            },
            "outputs": [
                {
                    "output_type": "display_data",
                    "data": {
                        "text/html": "(5 rows affected)"
                    },
                    "metadata": {}
                },
                {
                    "output_type": "display_data",
                    "data": {
                        "text/html": "Total execution time: 00:00:00.061"
                    },
                    "metadata": {}
                },
                {
                    "output_type": "execute_result",
                    "metadata": {},
                    "execution_count": 3,
                    "data": {
                        "application/vnd.dataresource+json": {
                            "schema": {
                                "fields": [
                                    {
                                        "name": "Id"
                                    },
                                    {
                                        "name": "FirstName"
                                    },
                                    {
                                        "name": "SecondName"
                                    },
                                    {
                                        "name": "LastName"
                                    },
                                    {
                                        "name": "TerritoryName"
                                    }
                                ]
                            },
                            "data": [
                                {
                                    "0": "1",
                                    "1": "Bohdan",
                                    "2": "Hlovatskyui",
                                    "3": "M",
                                    "4": "Ukraine"
                                },
                                {
                                    "0": "2",
                                    "1": "Bohdan",
                                    "2": "Hlovatskyui",
                                    "3": "M",
                                    "4": "Ukraine"
                                },
                                {
                                    "0": "3",
                                    "1": "Bohdan",
                                    "2": "Hlovatskyui",
                                    "3": "M",
                                    "4": "Ukraine"
                                },
                                {
                                    "0": "4",
                                    "1": "Bohdan",
                                    "2": "Hlovatskyui",
                                    "3": "M",
                                    "4": "Ukraine"
                                },
                                {
                                    "0": "5",
                                    "1": "Bohdan",
                                    "2": "Hlovatskyui",
                                    "3": "M",
                                    "4": "Ukraine"
                                }
                            ]
                        },
                        "text/html": [
                            "<table>",
                            "<tr><th>Id</th><th>FirstName</th><th>SecondName</th><th>LastName</th><th>TerritoryName</th></tr>",
                            "<tr><td>1</td><td>Bohdan</td><td>Hlovatskyui</td><td>M</td><td>Ukraine</td></tr>",
                            "<tr><td>2</td><td>Bohdan</td><td>Hlovatskyui</td><td>M</td><td>Ukraine</td></tr>",
                            "<tr><td>3</td><td>Bohdan</td><td>Hlovatskyui</td><td>M</td><td>Ukraine</td></tr>",
                            "<tr><td>4</td><td>Bohdan</td><td>Hlovatskyui</td><td>M</td><td>Ukraine</td></tr>",
                            "<tr><td>5</td><td>Bohdan</td><td>Hlovatskyui</td><td>M</td><td>Ukraine</td></tr>",
                            "</table>"
                        ]
                    }
                }
            ],
            "execution_count": 3
        },
        {
            "cell_type": "code",
            "source": [
                "INSERT INTO BH.Customer (FirstName, LastName, TerritoryName)\n",
                "(\n",
                "    SELECT p.FirstName, p.LastName, t.Name\n",
                "    FROM Sales.Customer AS s\n",
                "    LEFT JOIN Person.Person AS p\n",
                "    ON s.CustomerID = p.BusinessEntityID\n",
                "    LEFT JOIN Sales.SalesTerritory AS t\n",
                "    ON s.TerritoryID = t.TerritoryID\n",
                "    LEFT JOIN Sales.SalesOrderHeader AS o \n",
                "    ON s.CustomerID = o.CustomerID\n",
                ");"
            ],
            "metadata": {
                "azdata_cell_guid": "a2055792-8edf-4414-9c64-78e5ffb09838"
            },
            "outputs": [
                {
                    "output_type": "display_data",
                    "data": {
                        "text/html": "(32166 rows affected)"
                    },
                    "metadata": {}
                },
                {
                    "output_type": "display_data",
                    "data": {
                        "text/html": "Total execution time: 00:00:08.585"
                    },
                    "metadata": {}
                }
            ],
            "execution_count": 18
        },
        {
            "cell_type": "code",
            "source": [
                "SELECT p.FirstName, p.LastName, t.Name\n",
                "FROM Sales.Customer AS s\n",
                "LEFT JOIN Person.Person AS p\n",
                "ON s.CustomerID = p.BusinessEntityID\n",
                "LEFT JOIN Sales.SalesTerritory AS t\n",
                "ON s.TerritoryID = t.TerritoryID\n",
                "LEFT JOIN Sales.SalesOrderHeader AS o \n",
                "ON s.CustomerID = o.CustomerID;"
            ],
            "metadata": {
                "azdata_cell_guid": "6d304428-1565-44da-822f-dfa0e809e75d"
            },
            "outputs": [],
            "execution_count": null
        },
        {
            "cell_type": "code",
            "source": [
                "CREATE TABLE BH.Orders (\n",
                "    Id int IDENTITY(1, 1) PRIMARY KEY,\n",
                "    CustomerId int NOT NULL,\n",
                "    OrderDate date NOT NULL DEFAULT SYSDATETIME(),\n",
                "    Quantity int,\n",
                "\n",
                "    CONSTRAINT FK_Orders_CustomerId FOREIGN KEY(CustomerId) REFERENCES BH.Customer(Id),\n",
                "    CONSTRAINT CK_Orders_Qunatity CHECK (Quantity >= 1)\n",
                ");"
            ],
            "metadata": {
                "azdata_cell_guid": "b739eb6a-9ff9-4cb6-be5d-2b278245527a"
            },
            "outputs": [
                {
                    "output_type": "display_data",
                    "data": {
                        "text/html": "Commands completed successfully."
                    },
                    "metadata": {}
                },
                {
                    "output_type": "display_data",
                    "data": {
                        "text/html": "Total execution time: 00:00:00.087"
                    },
                    "metadata": {}
                }
            ],
            "execution_count": 26
        },
        {
            "cell_type": "code",
            "source": [
                "DROP TABLE BH.Orders;"
            ],
            "metadata": {
                "azdata_cell_guid": "7ad5ec92-7fd8-400a-bbd9-3b57c4ff237e"
            },
            "outputs": [
                {
                    "output_type": "display_data",
                    "data": {
                        "text/html": "Commands completed successfully."
                    },
                    "metadata": {}
                },
                {
                    "output_type": "display_data",
                    "data": {
                        "text/html": "Total execution time: 00:00:00.075"
                    },
                    "metadata": {}
                }
            ],
            "execution_count": 25
        },
        {
            "cell_type": "code",
            "source": [
                "INSERT INTO BH.Orders (CustomerId, OrderDate, Quantity) VALUES\n",
                "(1, CAST('07-05-2006' AS DATE), 3)\n",
                "GO 2"
            ],
            "metadata": {
                "azdata_cell_guid": "4d3ef9af-27a6-4da7-ad11-90efd616a634"
            },
            "outputs": [
                {
                    "output_type": "display_data",
                    "data": {
                        "text/html": "Beginning execution loop"
                    },
                    "metadata": {}
                },
                {
                    "output_type": "display_data",
                    "data": {
                        "text/html": "(1 row affected)"
                    },
                    "metadata": {}
                },
                {
                    "output_type": "display_data",
                    "data": {
                        "text/html": "(1 row affected)"
                    },
                    "metadata": {}
                },
                {
                    "output_type": "display_data",
                    "data": {
                        "text/html": "Batch execution completed 2 times..."
                    },
                    "metadata": {}
                },
                {
                    "output_type": "display_data",
                    "data": {
                        "text/html": "Total execution time: 00:00:00.122"
                    },
                    "metadata": {}
                }
            ],
            "execution_count": 27
        },
        {
            "cell_type": "code",
            "source": [
                "SELECT * FROM BH.Orders"
            ],
            "metadata": {
                "azdata_cell_guid": "61d0e2e9-ede0-4070-94e8-d98eadc04d40"
            },
            "outputs": [
                {
                    "output_type": "display_data",
                    "data": {
                        "text/html": "(2 rows affected)"
                    },
                    "metadata": {}
                },
                {
                    "output_type": "display_data",
                    "data": {
                        "text/html": "Total execution time: 00:00:00.065"
                    },
                    "metadata": {}
                },
                {
                    "output_type": "execute_result",
                    "metadata": {},
                    "execution_count": 28,
                    "data": {
                        "application/vnd.dataresource+json": {
                            "schema": {
                                "fields": [
                                    {
                                        "name": "Id"
                                    },
                                    {
                                        "name": "CustomerId"
                                    },
                                    {
                                        "name": "OrderDate"
                                    },
                                    {
                                        "name": "Quantity"
                                    }
                                ]
                            },
                            "data": [
                                {
                                    "0": "1",
                                    "1": "1",
                                    "2": "2006-07-05",
                                    "3": "3"
                                },
                                {
                                    "0": "2",
                                    "1": "1",
                                    "2": "2006-07-05",
                                    "3": "3"
                                }
                            ]
                        },
                        "text/html": [
                            "<table>",
                            "<tr><th>Id</th><th>CustomerId</th><th>OrderDate</th><th>Quantity</th></tr>",
                            "<tr><td>1</td><td>1</td><td>2006-07-05</td><td>3</td></tr>",
                            "<tr><td>2</td><td>1</td><td>2006-07-05</td><td>3</td></tr>",
                            "</table>"
                        ]
                    }
                }
            ],
            "execution_count": 28
        },
        {
            "cell_type": "code",
            "source": [
                "ALTER TABLE BH.Orders\n",
                "ALTER COLUMN OrderDate\n",
                "date NOT NULL;"
            ],
            "metadata": {
                "azdata_cell_guid": "c8ad6839-6c88-419b-9c85-c1e6127ef95d"
            },
            "outputs": [
                {
                    "output_type": "display_data",
                    "data": {
                        "text/html": "Commands completed successfully."
                    },
                    "metadata": {}
                },
                {
                    "output_type": "display_data",
                    "data": {
                        "text/html": "Total execution time: 00:00:00.049"
                    },
                    "metadata": {}
                }
            ],
            "execution_count": 46
        },
        {
            "cell_type": "code",
            "source": [
                "ALTER TABLE BH.Orders\n",
                "ADD DEFAULT GETDATE() FOR OrderDate;"
            ],
            "metadata": {
                "azdata_cell_guid": "8198a7e3-f05a-46bf-93ce-eba087815176"
            },
            "outputs": [
                {
                    "output_type": "error",
                    "evalue": "Msg 156, Level 15, State 1, Line 3\nIncorrect syntax near the keyword 'CONSTRAINT'.",
                    "ename": "",
                    "traceback": []
                },
                {
                    "output_type": "display_data",
                    "data": {
                        "text/html": "Total execution time: 00:00:00.051"
                    },
                    "metadata": {}
                }
            ],
            "execution_count": 51
        },
        {
            "cell_type": "code",
            "source": [
                "SELECT * FROM BH.Orders"
            ],
            "metadata": {
                "azdata_cell_guid": "80855d79-6e1c-4b2c-82d0-b2bc2ec5de93"
            },
            "outputs": [
                {
                    "output_type": "display_data",
                    "data": {
                        "text/html": "(2 rows affected)"
                    },
                    "metadata": {}
                },
                {
                    "output_type": "display_data",
                    "data": {
                        "text/html": "Total execution time: 00:00:00.053"
                    },
                    "metadata": {}
                },
                {
                    "output_type": "execute_result",
                    "metadata": {},
                    "execution_count": 49,
                    "data": {
                        "application/vnd.dataresource+json": {
                            "schema": {
                                "fields": [
                                    {
                                        "name": "Id"
                                    },
                                    {
                                        "name": "CustomerId"
                                    },
                                    {
                                        "name": "OrderDate"
                                    },
                                    {
                                        "name": "Quantity"
                                    }
                                ]
                            },
                            "data": [
                                {
                                    "0": "1",
                                    "1": "1",
                                    "2": "2006-07-05",
                                    "3": "3"
                                },
                                {
                                    "0": "2",
                                    "1": "1",
                                    "2": "2006-07-05",
                                    "3": "3"
                                }
                            ]
                        },
                        "text/html": [
                            "<table>",
                            "<tr><th>Id</th><th>CustomerId</th><th>OrderDate</th><th>Quantity</th></tr>",
                            "<tr><td>1</td><td>1</td><td>2006-07-05</td><td>3</td></tr>",
                            "<tr><td>2</td><td>1</td><td>2006-07-05</td><td>3</td></tr>",
                            "</table>"
                        ]
                    }
                }
            ],
            "execution_count": 49
        },
        {
            "cell_type": "code",
            "source": [
                "ALTER TABLE BH.Orders\n",
                "ADD Comments varchar(255) DEFAULT '<None>'"
            ],
            "metadata": {
                "azdata_cell_guid": "6df69446-19cc-472a-9ab7-e0200f4b46db"
            },
            "outputs": [
                {
                    "output_type": "display_data",
                    "data": {
                        "text/html": "Commands completed successfully."
                    },
                    "metadata": {}
                },
                {
                    "output_type": "display_data",
                    "data": {
                        "text/html": "Total execution time: 00:00:00.062"
                    },
                    "metadata": {}
                }
            ],
            "execution_count": 55
        },
        {
            "cell_type": "code",
            "source": [
                "SELECT * FROM BH.Orders"
            ],
            "metadata": {
                "azdata_cell_guid": "2aaff258-c836-453d-a6a6-fbfb5aa663c9"
            },
            "outputs": [
                {
                    "output_type": "display_data",
                    "data": {
                        "text/html": "(2 rows affected)"
                    },
                    "metadata": {}
                },
                {
                    "output_type": "display_data",
                    "data": {
                        "text/html": "Total execution time: 00:00:00.049"
                    },
                    "metadata": {}
                },
                {
                    "output_type": "execute_result",
                    "metadata": {},
                    "execution_count": 56,
                    "data": {
                        "application/vnd.dataresource+json": {
                            "schema": {
                                "fields": [
                                    {
                                        "name": "Id"
                                    },
                                    {
                                        "name": "CustomerId"
                                    },
                                    {
                                        "name": "OrderDate"
                                    },
                                    {
                                        "name": "Quantity"
                                    },
                                    {
                                        "name": "Comments"
                                    }
                                ]
                            },
                            "data": [
                                {
                                    "0": "1",
                                    "1": "1",
                                    "2": "2006-07-05",
                                    "3": "3",
                                    "4": "NULL"
                                },
                                {
                                    "0": "2",
                                    "1": "1",
                                    "2": "2006-07-05",
                                    "3": "3",
                                    "4": "NULL"
                                }
                            ]
                        },
                        "text/html": [
                            "<table>",
                            "<tr><th>Id</th><th>CustomerId</th><th>OrderDate</th><th>Quantity</th><th>Comments</th></tr>",
                            "<tr><td>1</td><td>1</td><td>2006-07-05</td><td>3</td><td>NULL</td></tr>",
                            "<tr><td>2</td><td>1</td><td>2006-07-05</td><td>3</td><td>NULL</td></tr>",
                            "</table>"
                        ]
                    }
                }
            ],
            "execution_count": 56
        },
        {
            "cell_type": "code",
            "source": [
                ""
            ],
            "metadata": {
                "azdata_cell_guid": "e97b7a7f-47cc-4ec8-ae11-e7dfec481df0"
            },
            "outputs": [],
            "execution_count": null
        }
    ]
}