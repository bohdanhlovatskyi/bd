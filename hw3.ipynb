{
    "metadata": {
        "kernelspec": {
            "name": "SQL",
            "display_name": "SQL",
            "language": "sql"
        },
        "language_info": {
            "name": "sql",
            "version": ""
        }
    },
    "nbformat_minor": 2,
    "nbformat": 4,
    "cells": [
        {
            "cell_type": "code",
            "source": [
                "SELECT 2 + 2;"
            ],
            "metadata": {
                "azdata_cell_guid": "6103e335-e61f-4857-94bf-8330c0a427f9"
            },
            "outputs": [
                {
                    "output_type": "display_data",
                    "data": {
                        "text/html": "(1 row affected)"
                    },
                    "metadata": {}
                },
                {
                    "output_type": "display_data",
                    "data": {
                        "text/html": "Total execution time: 00:00:00.081"
                    },
                    "metadata": {}
                },
                {
                    "output_type": "execute_result",
                    "metadata": {},
                    "execution_count": 116,
                    "data": {
                        "application/vnd.dataresource+json": {
                            "schema": {
                                "fields": [
                                    {
                                        "name": "(No column name)"
                                    }
                                ]
                            },
                            "data": [
                                {
                                    "0": "4"
                                }
                            ]
                        },
                        "text/html": [
                            "<table>",
                            "<tr><th>(No column name)</th></tr>",
                            "<tr><td>4</td></tr>",
                            "</table>"
                        ]
                    }
                }
            ],
            "execution_count": 116
        },
        {
            "cell_type": "code",
            "source": [
                "IF NOT EXISTS (\n",
                "        SELECT *\n",
                "        FROM sys.schemas\n",
                "        WHERE name = N'BH'\n",
                "    )\n",
                "    EXEC('CREATE SCHEMA [BH]');\n",
                "GO"
            ],
            "metadata": {
                "azdata_cell_guid": "09ffb732-89d0-4b94-8196-ff401af30f9c"
            },
            "outputs": [
                {
                    "output_type": "display_data",
                    "data": {
                        "text/html": "Commands completed successfully."
                    },
                    "metadata": {}
                },
                {
                    "output_type": "display_data",
                    "data": {
                        "text/html": "Total execution time: 00:00:00.104"
                    },
                    "metadata": {}
                }
            ],
            "execution_count": 2
        },
        {
            "cell_type": "code",
            "source": [
                "IF NOT EXISTS (\n",
                "    SELECT * FROM sys.objects\n",
                "    WHERE object_id = OBJECT_ID(N'BH.Customer') \n",
                ")\n",
                "\n",
                "BEGIN\n",
                "CREATE TABLE BH.Customer (\n",
                "    Id int IDENTITY(1, 1) PRIMARY KEY,\n",
                "    FirstName VARCHAR(255),\n",
                "    SecondName VARCHAR(255),\n",
                "    LastName VARCHAR(255),\n",
                "    TerritoryName VARCHAR(255)\n",
                ");\n",
                "END"
            ],
            "metadata": {
                "azdata_cell_guid": "438aed81-c1fb-4041-93d4-ea2446d60a07"
            },
            "outputs": [
                {
                    "output_type": "display_data",
                    "data": {
                        "text/html": "Commands completed successfully."
                    },
                    "metadata": {}
                },
                {
                    "output_type": "display_data",
                    "data": {
                        "text/html": "Total execution time: 00:00:00.063"
                    },
                    "metadata": {}
                }
            ],
            "execution_count": 117
        },
        {
            "cell_type": "code",
            "source": [
                "INSERT INTO BH.Customer (\n",
                "    FirstName, SecondName, LastName, TerritoryName\n",
                ") VALUES\n",
                "    ('Bohdan', 'Hlovatskyui', 'M', 'Ukraine'),\n",
                "    ('HM', 'HH', 'M', 'Australia'),\n",
                "    ('HHH', 'H', 'H', 'Canada');"
            ],
            "metadata": {
                "azdata_cell_guid": "ebb5e9c5-defe-4cd5-8952-ef9755780e26"
            },
            "outputs": [
                {
                    "output_type": "display_data",
                    "data": {
                        "text/html": "(3 rows affected)"
                    },
                    "metadata": {}
                },
                {
                    "output_type": "display_data",
                    "data": {
                        "text/html": "Total execution time: 00:00:00.058"
                    },
                    "metadata": {}
                }
            ],
            "execution_count": 118
        },
        {
            "cell_type": "code",
            "source": [
                "SELECT * FROM BH.Customer;"
            ],
            "metadata": {
                "azdata_cell_guid": "29ff0f8e-4efb-4c31-b823-9d13c263e36e"
            },
            "outputs": [
                {
                    "output_type": "display_data",
                    "data": {
                        "text/html": "(3 rows affected)"
                    },
                    "metadata": {}
                },
                {
                    "output_type": "display_data",
                    "data": {
                        "text/html": "Total execution time: 00:00:00.055"
                    },
                    "metadata": {}
                },
                {
                    "output_type": "execute_result",
                    "metadata": {},
                    "execution_count": 119,
                    "data": {
                        "application/vnd.dataresource+json": {
                            "schema": {
                                "fields": [
                                    {
                                        "name": "Id"
                                    },
                                    {
                                        "name": "FirstName"
                                    },
                                    {
                                        "name": "SecondName"
                                    },
                                    {
                                        "name": "LastName"
                                    },
                                    {
                                        "name": "TerritoryName"
                                    }
                                ]
                            },
                            "data": [
                                {
                                    "0": "1",
                                    "1": "Bohdan",
                                    "2": "Hlovatskyui",
                                    "3": "M",
                                    "4": "Ukraine"
                                },
                                {
                                    "0": "2",
                                    "1": "HM",
                                    "2": "HH",
                                    "3": "M",
                                    "4": "Australia"
                                },
                                {
                                    "0": "3",
                                    "1": "HHH",
                                    "2": "H",
                                    "3": "H",
                                    "4": "Canada"
                                }
                            ]
                        },
                        "text/html": [
                            "<table>",
                            "<tr><th>Id</th><th>FirstName</th><th>SecondName</th><th>LastName</th><th>TerritoryName</th></tr>",
                            "<tr><td>1</td><td>Bohdan</td><td>Hlovatskyui</td><td>M</td><td>Ukraine</td></tr>",
                            "<tr><td>2</td><td>HM</td><td>HH</td><td>M</td><td>Australia</td></tr>",
                            "<tr><td>3</td><td>HHH</td><td>H</td><td>H</td><td>Canada</td></tr>",
                            "</table>"
                        ]
                    }
                }
            ],
            "execution_count": 119
        },
        {
            "cell_type": "code",
            "source": [
                "INSERT INTO BH.Customer (FirstName, LastName, TerritoryName)\n",
                "(\n",
                "    SELECT p.FirstName, p.LastName, t.Name\n",
                "    FROM Sales.Customer AS s\n",
                "    LEFT JOIN Person.Person AS p\n",
                "    ON s.CustomerID = p.BusinessEntityID\n",
                "    LEFT JOIN Sales.SalesTerritory AS t\n",
                "    ON s.TerritoryID = t.TerritoryID\n",
                "    LEFT JOIN Sales.SalesOrderHeader AS o \n",
                "    ON s.CustomerID = o.CustomerID\n",
                ");"
            ],
            "metadata": {
                "azdata_cell_guid": "a2055792-8edf-4414-9c64-78e5ffb09838"
            },
            "outputs": [],
            "execution_count": 120
        },
        {
            "cell_type": "code",
            "source": [
                "SELECT p.FirstName, p.LastName, t.Name\n",
                "FROM Sales.Customer AS s\n",
                "LEFT JOIN Person.Person AS p\n",
                "ON s.CustomerID = p.BusinessEntityID\n",
                "LEFT JOIN Sales.SalesTerritory AS t\n",
                "ON s.TerritoryID = t.TerritoryID\n",
                "LEFT JOIN Sales.SalesOrderHeader AS o \n",
                "ON s.CustomerID = o.CustomerID;"
            ],
            "metadata": {
                "azdata_cell_guid": "6d304428-1565-44da-822f-dfa0e809e75d"
            },
            "outputs": [],
            "execution_count": null
        },
        {
            "cell_type": "code",
            "source": [
                "IF NOT EXISTS (\n",
                "    SELECT * FROM sys.objects\n",
                "    WHERE object_id = OBJECT_ID(N'BH.Orders') \n",
                ")\n",
                "BEGIN\n",
                "CREATE TABLE BH.Orders (\n",
                "    Id int IDENTITY(1, 1) PRIMARY KEY,\n",
                "    CustomerId int NOT NULL,\n",
                "    OrderDate date,\n",
                "    Quantity int,\n",
                "\n",
                "    CONSTRAINT FK_Orders_CustomerId FOREIGN KEY(CustomerId) REFERENCES BH.Customer(Id),\n",
                "    CONSTRAINT CK_Orders_Qunatity CHECK (Quantity >= 1)\n",
                ");\n",
                "END"
            ],
            "metadata": {
                "azdata_cell_guid": "b739eb6a-9ff9-4cb6-be5d-2b278245527a"
            },
            "outputs": [
                {
                    "output_type": "display_data",
                    "data": {
                        "text/html": "Commands completed successfully."
                    },
                    "metadata": {}
                },
                {
                    "output_type": "display_data",
                    "data": {
                        "text/html": "Total execution time: 00:00:00.065"
                    },
                    "metadata": {}
                }
            ],
            "execution_count": 123
        },
        {
            "cell_type": "code",
            "source": [
                "INSERT INTO BH.Orders (CustomerId, OrderDate, Quantity) VALUES\n",
                "(3, CAST('07-09-2006' AS DATE), 7)\n",
                "GO 2"
            ],
            "metadata": {
                "azdata_cell_guid": "4d3ef9af-27a6-4da7-ad11-90efd616a634"
            },
            "outputs": [
                {
                    "output_type": "display_data",
                    "data": {
                        "text/html": "Beginning execution loop"
                    },
                    "metadata": {}
                },
                {
                    "output_type": "display_data",
                    "data": {
                        "text/html": "(1 row affected)"
                    },
                    "metadata": {}
                },
                {
                    "output_type": "display_data",
                    "data": {
                        "text/html": "(1 row affected)"
                    },
                    "metadata": {}
                },
                {
                    "output_type": "display_data",
                    "data": {
                        "text/html": "Batch execution completed 2 times..."
                    },
                    "metadata": {}
                },
                {
                    "output_type": "display_data",
                    "data": {
                        "text/html": "Total execution time: 00:00:00.111"
                    },
                    "metadata": {}
                }
            ],
            "execution_count": 127
        },
        {
            "cell_type": "code",
            "source": [
                "ALTER TABLE BH.Orders\n",
                " ADD CONSTRAINT BH_Orders_OrderDate DEFAULT GETDATE() FOR OrderDate"
            ],
            "metadata": {
                "azdata_cell_guid": "c8ad6839-6c88-419b-9c85-c1e6127ef95d"
            },
            "outputs": [
                {
                    "output_type": "display_data",
                    "data": {
                        "text/html": "Commands completed successfully."
                    },
                    "metadata": {}
                },
                {
                    "output_type": "display_data",
                    "data": {
                        "text/html": "Total execution time: 00:00:00.059"
                    },
                    "metadata": {}
                }
            ],
            "execution_count": 128
        },
        {
            "cell_type": "code",
            "source": [
                "SELECT * FROM BH.Orders"
            ],
            "metadata": {
                "azdata_cell_guid": "80855d79-6e1c-4b2c-82d0-b2bc2ec5de93"
            },
            "outputs": [
                {
                    "output_type": "display_data",
                    "data": {
                        "text/html": "(6 rows affected)"
                    },
                    "metadata": {}
                },
                {
                    "output_type": "display_data",
                    "data": {
                        "text/html": "Total execution time: 00:00:00.064"
                    },
                    "metadata": {}
                },
                {
                    "output_type": "execute_result",
                    "metadata": {},
                    "execution_count": 129,
                    "data": {
                        "application/vnd.dataresource+json": {
                            "schema": {
                                "fields": [
                                    {
                                        "name": "Id"
                                    },
                                    {
                                        "name": "CustomerId"
                                    },
                                    {
                                        "name": "OrderDate"
                                    },
                                    {
                                        "name": "Quantity"
                                    }
                                ]
                            },
                            "data": [
                                {
                                    "0": "3",
                                    "1": "1",
                                    "2": "2004-07-05",
                                    "3": "5"
                                },
                                {
                                    "0": "4",
                                    "1": "1",
                                    "2": "2004-07-05",
                                    "3": "5"
                                },
                                {
                                    "0": "5",
                                    "1": "2",
                                    "2": "2008-07-05",
                                    "3": "3"
                                },
                                {
                                    "0": "6",
                                    "1": "2",
                                    "2": "2008-07-05",
                                    "3": "3"
                                },
                                {
                                    "0": "7",
                                    "1": "3",
                                    "2": "2006-07-09",
                                    "3": "7"
                                },
                                {
                                    "0": "8",
                                    "1": "3",
                                    "2": "2006-07-09",
                                    "3": "7"
                                }
                            ]
                        },
                        "text/html": [
                            "<table>",
                            "<tr><th>Id</th><th>CustomerId</th><th>OrderDate</th><th>Quantity</th></tr>",
                            "<tr><td>3</td><td>1</td><td>2004-07-05</td><td>5</td></tr>",
                            "<tr><td>4</td><td>1</td><td>2004-07-05</td><td>5</td></tr>",
                            "<tr><td>5</td><td>2</td><td>2008-07-05</td><td>3</td></tr>",
                            "<tr><td>6</td><td>2</td><td>2008-07-05</td><td>3</td></tr>",
                            "<tr><td>7</td><td>3</td><td>2006-07-09</td><td>7</td></tr>",
                            "<tr><td>8</td><td>3</td><td>2006-07-09</td><td>7</td></tr>",
                            "</table>"
                        ]
                    }
                }
            ],
            "execution_count": 129
        },
        {
            "cell_type": "code",
            "source": [
                "ALTER TABLE BH.Orders\n",
                "ADD Comments varchar(255) DEFAULT '<None>'"
            ],
            "metadata": {
                "azdata_cell_guid": "6df69446-19cc-472a-9ab7-e0200f4b46db"
            },
            "outputs": [
                {
                    "output_type": "display_data",
                    "data": {
                        "text/html": "Commands completed successfully."
                    },
                    "metadata": {}
                },
                {
                    "output_type": "display_data",
                    "data": {
                        "text/html": "Total execution time: 00:00:00.060"
                    },
                    "metadata": {}
                }
            ],
            "execution_count": 130
        },
        {
            "cell_type": "code",
            "source": [
                "SELECT * FROM BH.Orders"
            ],
            "metadata": {
                "azdata_cell_guid": "2aaff258-c836-453d-a6a6-fbfb5aa663c9"
            },
            "outputs": [
                {
                    "output_type": "display_data",
                    "data": {
                        "text/html": "(6 rows affected)"
                    },
                    "metadata": {}
                },
                {
                    "output_type": "display_data",
                    "data": {
                        "text/html": "Total execution time: 00:00:00.073"
                    },
                    "metadata": {}
                },
                {
                    "output_type": "execute_result",
                    "metadata": {},
                    "execution_count": 131,
                    "data": {
                        "application/vnd.dataresource+json": {
                            "schema": {
                                "fields": [
                                    {
                                        "name": "Id"
                                    },
                                    {
                                        "name": "CustomerId"
                                    },
                                    {
                                        "name": "OrderDate"
                                    },
                                    {
                                        "name": "Quantity"
                                    },
                                    {
                                        "name": "Comments"
                                    }
                                ]
                            },
                            "data": [
                                {
                                    "0": "3",
                                    "1": "1",
                                    "2": "2004-07-05",
                                    "3": "5",
                                    "4": "NULL"
                                },
                                {
                                    "0": "4",
                                    "1": "1",
                                    "2": "2004-07-05",
                                    "3": "5",
                                    "4": "NULL"
                                },
                                {
                                    "0": "5",
                                    "1": "2",
                                    "2": "2008-07-05",
                                    "3": "3",
                                    "4": "NULL"
                                },
                                {
                                    "0": "6",
                                    "1": "2",
                                    "2": "2008-07-05",
                                    "3": "3",
                                    "4": "NULL"
                                },
                                {
                                    "0": "7",
                                    "1": "3",
                                    "2": "2006-07-09",
                                    "3": "7",
                                    "4": "NULL"
                                },
                                {
                                    "0": "8",
                                    "1": "3",
                                    "2": "2006-07-09",
                                    "3": "7",
                                    "4": "NULL"
                                }
                            ]
                        },
                        "text/html": [
                            "<table>",
                            "<tr><th>Id</th><th>CustomerId</th><th>OrderDate</th><th>Quantity</th><th>Comments</th></tr>",
                            "<tr><td>3</td><td>1</td><td>2004-07-05</td><td>5</td><td>NULL</td></tr>",
                            "<tr><td>4</td><td>1</td><td>2004-07-05</td><td>5</td><td>NULL</td></tr>",
                            "<tr><td>5</td><td>2</td><td>2008-07-05</td><td>3</td><td>NULL</td></tr>",
                            "<tr><td>6</td><td>2</td><td>2008-07-05</td><td>3</td><td>NULL</td></tr>",
                            "<tr><td>7</td><td>3</td><td>2006-07-09</td><td>7</td><td>NULL</td></tr>",
                            "<tr><td>8</td><td>3</td><td>2006-07-09</td><td>7</td><td>NULL</td></tr>",
                            "</table>"
                        ]
                    }
                }
            ],
            "execution_count": 131
        },
        {
            "cell_type": "code",
            "source": [
                "DELETE FROM BH.Orders\n",
                "WHERE OrderDate < CAST('AUGUST 2006' AS DATE)"
            ],
            "metadata": {
                "azdata_cell_guid": "e97b7a7f-47cc-4ec8-ae11-e7dfec481df0",
                "tags": []
            },
            "outputs": [
                {
                    "output_type": "display_data",
                    "data": {
                        "text/html": "(4 rows affected)"
                    },
                    "metadata": {}
                },
                {
                    "output_type": "display_data",
                    "data": {
                        "text/html": "Total execution time: 00:00:00.080"
                    },
                    "metadata": {}
                }
            ],
            "execution_count": 132
        },
        {
            "cell_type": "code",
            "source": [
                "DELETE BH.Orders FROM BH.Orders AS t1\n",
                "JOIN BH.Customer AS t2 ON t1.CustomerId = t2.Id\n",
                "WHERE t2.TerritoryName = 'Canada'"
            ],
            "metadata": {
                "azdata_cell_guid": "1aa8e6e8-a5d7-460b-9162-11245efe114e"
            },
            "outputs": [
                {
                    "output_type": "display_data",
                    "data": {
                        "text/html": "(0 rows affected)"
                    },
                    "metadata": {}
                },
                {
                    "output_type": "display_data",
                    "data": {
                        "text/html": "Total execution time: 00:00:00.078"
                    },
                    "metadata": {}
                }
            ],
            "execution_count": 133
        },
        {
            "cell_type": "markdown",
            "source": [
                "Try delete from Customer table one customer who has  some orders (see what happens)\n",
                ""
            ],
            "metadata": {
                "azdata_cell_guid": "fddf4e9a-891f-486d-9e12-b0ccff78301f"
            }
        },
        {
            "cell_type": "code",
            "source": [
                "BEGIN TRANSACTION;\n",
                "BEGIN TRY   \n",
                "    DELETE BH.Customer FROM BH.Customer AS c\n",
                "    -- inner join as we are interested only in those that\n",
                "    -- made the order\n",
                "    INNER JOIN BH.Orders AS o ON c.Id = o.CustomerId\n",
                "    COMMIT TRANSACTION;\n",
                "END TRY\n",
                "BEGIN CATCH\n",
                "  ROLLBACK TRANSACTION;\n",
                "END CATCH"
            ],
            "metadata": {
                "azdata_cell_guid": "1a1f8e01-cf0f-4bf9-b76c-9a75d4a72d8b"
            },
            "outputs": [
                {
                    "output_type": "display_data",
                    "data": {
                        "text/html": "(0 rows affected)"
                    },
                    "metadata": {}
                },
                {
                    "output_type": "display_data",
                    "data": {
                        "text/html": "Total execution time: 00:00:00.076"
                    },
                    "metadata": {}
                }
            ],
            "execution_count": 134
        },
        {
            "cell_type": "markdown",
            "source": [
                "Update all orders in Orders table that were placed by Australia customers and set Quantity = 5 for these orders"
            ],
            "metadata": {
                "azdata_cell_guid": "d3a2397a-bfd6-4103-9f70-b37f7c8fb83a"
            },
            "attachments": {}
        },
        {
            "cell_type": "code",
            "source": [
                "UPDATE BH.Orders\n",
                "SET Quantity = 5\n",
                "FROM BH.Orders AS o\n",
                "INNER JOIN BH.Customer AS c\n",
                "ON o.CustomerId = c.Id \n",
                "WHERE c.TerritoryName = 'Australia';"
            ],
            "metadata": {
                "azdata_cell_guid": "3ec73b6d-dc04-4a62-b531-1dc066c65301"
            },
            "outputs": [
                {
                    "output_type": "display_data",
                    "data": {
                        "text/html": "(0 rows affected)"
                    },
                    "metadata": {}
                },
                {
                    "output_type": "display_data",
                    "data": {
                        "text/html": "Total execution time: 00:00:00.131"
                    },
                    "metadata": {}
                }
            ],
            "execution_count": 64
        },
        {
            "cell_type": "code",
            "source": [
                "UPDATE BH.Orders\n",
                "SET Quantity = Quantity * 1.1 \n",
                "FROM BH.Orders AS o\n",
                "INNER JOIN BH.Customer AS c\n",
                "ON o.CustomerId = c.Id \n",
                "WHERE c.TerritoryName = 'Canada';"
            ],
            "metadata": {
                "azdata_cell_guid": "a6406d1e-8621-4c67-a998-b34aea00204d"
            },
            "outputs": [
                {
                    "output_type": "display_data",
                    "data": {
                        "text/html": "(0 rows affected)"
                    },
                    "metadata": {}
                },
                {
                    "output_type": "display_data",
                    "data": {
                        "text/html": "Total execution time: 00:00:00.055"
                    },
                    "metadata": {}
                }
            ],
            "execution_count": 65
        },
        {
            "cell_type": "code",
            "source": [
                "-- note that here we need o.Id\n",
                "SELECT o.Id, CustomerId, OrderDate, Quantity INTO BH.Orders_Sub\n",
                "FROM BH.Orders AS o\n",
                "JOIN BH.Customer AS c ON o.CustomerId = c.Id\n",
                "WHERE FirstName LIKE 'N%' or LastName in ('Scott')"
            ],
            "metadata": {
                "azdata_cell_guid": "177e02cb-5433-4f9c-a35a-e84cf05f556a"
            },
            "outputs": [
                {
                    "output_type": "display_data",
                    "data": {
                        "text/html": "(0 rows affected)"
                    },
                    "metadata": {}
                },
                {
                    "output_type": "display_data",
                    "data": {
                        "text/html": "Total execution time: 00:00:00.642"
                    },
                    "metadata": {}
                }
            ],
            "execution_count": 70
        },
        {
            "cell_type": "code",
            "source": [
                "UPDATE BH.Orders_Sub\n",
                "SET OrderDate = CAST('2012-12-12' AS DATE)\n",
                "FROM BH.Orders_Sub WHERE Quantity=5"
            ],
            "metadata": {
                "azdata_cell_guid": "2603c993-735f-432d-8312-c588e16fc87e"
            },
            "outputs": [
                {
                    "output_type": "display_data",
                    "data": {
                        "text/html": "(0 rows affected)"
                    },
                    "metadata": {}
                },
                {
                    "output_type": "display_data",
                    "data": {
                        "text/html": "Total execution time: 00:00:00.109"
                    },
                    "metadata": {}
                }
            ],
            "execution_count": 72
        },
        {
            "cell_type": "code",
            "source": [
                "-- this one is the fastest, as delete processes row-by-row and\n",
                "-- drop deletes the table as well\n",
                "TRUNCATE TABLE BH.Orders_Sub;"
            ],
            "metadata": {
                "azdata_cell_guid": "c5191201-5cde-4e2b-ae90-be772ce4c158"
            },
            "outputs": [
                {
                    "output_type": "display_data",
                    "data": {
                        "text/html": "Commands completed successfully."
                    },
                    "metadata": {}
                },
                {
                    "output_type": "display_data",
                    "data": {
                        "text/html": "Total execution time: 00:00:00.109"
                    },
                    "metadata": {}
                }
            ],
            "execution_count": 74
        },
        {
            "cell_type": "code",
            "source": [
                "DROP TABLE IF EXISTS BH.Orders, BH.Orders_Sub, BH.Customer;"
            ],
            "metadata": {
                "azdata_cell_guid": "eb1bde4d-d8bd-4c01-95a6-45814bad6738"
            },
            "outputs": [
                {
                    "output_type": "display_data",
                    "data": {
                        "text/html": "Commands completed successfully."
                    },
                    "metadata": {}
                },
                {
                    "output_type": "display_data",
                    "data": {
                        "text/html": "Total execution time: 00:00:00.073"
                    },
                    "metadata": {}
                }
            ],
            "execution_count": 135
        },
        {
            "cell_type": "code",
            "source": [
                ""
            ],
            "metadata": {
                "azdata_cell_guid": "7ecd9b22-5ec1-407d-886a-91f005bab481"
            },
            "outputs": [],
            "execution_count": null
        }
    ]
}