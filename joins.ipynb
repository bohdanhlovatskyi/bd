{
    "metadata": {
        "kernelspec": {
            "name": "SQL",
            "display_name": "SQL",
            "language": "sql"
        },
        "language_info": {
            "name": "sql",
            "version": ""
        }
    },
    "nbformat_minor": 2,
    "nbformat": 4,
    "cells": [
        {
            "cell_type": "code",
            "source": [
                "SELECT 2 + 2;"
            ],
            "metadata": {
                "azdata_cell_guid": "d63b2687-0c17-48c3-afa6-78ef247e41a6"
            },
            "outputs": [],
            "execution_count": null
        },
        {
            "cell_type": "code",
            "source": [
                "SELECT CustomerID, BusinessEntityID\n",
                "FROM Sales.Customer\n",
                "-- simple Outer product\n",
                "CROSS JOIN HumanResources.Employee;"
            ],
            "metadata": {
                "azdata_cell_guid": "023aabac-f518-43ab-977a-e1544744cd99"
            },
            "outputs": [],
            "execution_count": null
        },
        {
            "cell_type": "code",
            "source": [
                "SELECT CustomerID, StoreID, TerritoryID\n",
                "FROM Sales.Customer AS c\n",
                "INNER JOIN Person.Person AS p \n",
                "ON c.PersonID = p.BusinessEntityID"
            ],
            "metadata": {
                "azdata_cell_guid": "c255bfd0-670c-4a52-8d38-88a4c21edcf0"
            },
            "outputs": [],
            "execution_count": null
        },
        {
            "cell_type": "code",
            "source": [
                "select FirstName, [Name]\n",
                "from Sales.Customer as c\n",
                "inner join Person.Person as p\n",
                "on c.CustomerID = p.BusinessEntityID\n",
                "inner join Sales.SalesOrderHeader as s\n",
                "on c.CustomerID = s.CustomerID\n",
                "inner join Sales.SalesOrderDetail as sd \n",
                "on sd.SalesOrderID = s.SalesOrderID\n",
                "inner join Production.Product as pr\n",
                "on sd.ProductID = pr.ProductID;"
            ],
            "metadata": {
                "azdata_cell_guid": "2a29920c-b3f2-4a31-9c95-d87b1a6b50d9",
                "tags": []
            },
            "outputs": [],
            "execution_count": null
        },
        {
            "cell_type": "code",
            "source": [
                ""
            ],
            "metadata": {
                "azdata_cell_guid": "01703ad8-b59a-4c24-befe-d237d6d37fcc"
            },
            "outputs": [],
            "execution_count": null
        }
    ]
}