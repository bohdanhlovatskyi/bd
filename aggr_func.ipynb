{
    "metadata": {
        "kernelspec": {
            "name": "SQL",
            "display_name": "SQL",
            "language": "sql"
        },
        "language_info": {
            "name": "sql",
            "version": ""
        }
    },
    "nbformat_minor": 2,
    "nbformat": 4,
    "cells": [
        {
            "cell_type": "code",
            "source": [
                "SELECT 2 + 2; "
            ],
            "metadata": {
                "azdata_cell_guid": "d1997e12-bd71-4a84-bbda-0cd8610b8878"
            },
            "outputs": [],
            "execution_count": null
        },
        {
            "cell_type": "code",
            "source": [
                "SELECT ProductID, Name, ProductLine, Weight,\n",
                "    rank() over (PARTITION by ProductLine order by Weight) as rank\n",
                "from Production.Product\n",
                "where ProductLine is not null and weight is not null;"
            ],
            "metadata": {
                "azdata_cell_guid": "4b630469-0081-483a-a4da-dc747ee9f2a2"
            },
            "outputs": [],
            "execution_count": null
        },
        {
            "cell_type": "code",
            "source": [
                "SELECT ProductID, Name, ProductLine, Weight,\n",
                "    dense_rank() over (PARTITION by ProductLine order by Weight) as rank\n",
                "from Production.Product\n",
                "where ProductLine is not null and weight is not null;"
            ],
            "metadata": {
                "azdata_cell_guid": "59dca078-826c-48c7-87e1-cf6a9963c060"
            },
            "outputs": [],
            "execution_count": null
        },
        {
            "cell_type": "code",
            "source": [
                "SELECT ProductID, Name, ProductLine, Weight,\n",
                "    row_number() over (PARTITION by ProductLine order by Weight) as rank\n",
                "from Production.Product\n",
                "where ProductLine is not null and weight is not null;"
            ],
            "metadata": {
                "azdata_cell_guid": "d3d51f24-902f-481c-809b-7f699d36d7ed"
            },
            "outputs": [],
            "execution_count": null
        },
        {
            "cell_type": "code",
            "source": [
                "-- ordeers that was first each month\n",
                "select SalesOrderID, OrderDate, rank\n",
                "from (\n",
                "    select SalesOrderID, OrderDate,\n",
                "    rank() over (PARTITION by datepart(MONTH, OrderDate) order by OrderDate) as rank\n",
                "    from Sales.SalesOrderHeader\n",
                ") t -- note how here we should add name to the table\n",
                "where rank = 1;"
            ],
            "metadata": {
                "azdata_cell_guid": "7235f72b-7ec6-418f-83f4-8e18b7127c7a",
                "tags": []
            },
            "outputs": [],
            "execution_count": null
        },
        {
            "cell_type": "code",
            "source": [
                " select CustomerID, avg(diff) AS avg_diff \n",
                " from (\n",
                "     select CustomerID, \n",
                "    DATEDIFF(day, OrderDate,\n",
                "     lead(OrderDate) over (partition by CustomerID order by OrderDate))\n",
                "     AS diff\n",
                " from Sales.SalesOrderHeader\n",
                " ) t\n",
                " group by CustomerID;"
            ],
            "metadata": {
                "azdata_cell_guid": "e78fb214-43c7-4fab-be58-2afa39d80019"
            },
            "outputs": [],
            "execution_count": null
        }
    ]
}