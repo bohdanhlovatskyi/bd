{
    "metadata": {
        "kernelspec": {
            "name": "SQL",
            "display_name": "SQL",
            "language": "sql"
        },
        "language_info": {
            "name": "sql",
            "version": ""
        }
    },
    "nbformat_minor": 2,
    "nbformat": 4,
    "cells": [
        {
            "cell_type": "code",
            "source": [
                "select 2 + 2;"
            ],
            "metadata": {
                "azdata_cell_guid": "55c2080d-fdfc-4567-930f-bd62fec0a072"
            },
            "outputs": [],
            "execution_count": null
        },
        {
            "cell_type": "markdown",
            "source": [
                "1. <span style=\"font-size: 13pt;\">Display FirstName and LastName of all people (Person.Person) for whom FirstName or LastName contains two or more </span> <span style=\"font-size: 13pt;\">‘</span><span style=\"font-size: 13pt;\">a</span><span style=\"font-size: 13pt;\">’ </span> <span style=\"font-size: 13pt;\">characters.&nbsp;</span>"
            ],
            "metadata": {
                "azdata_cell_guid": "95314913-bbc2-4c4e-9cd2-23b85a3c76dd"
            },
            "attachments": {}
        },
        {
            "cell_type": "code",
            "source": [
                "SELECT FirstName, LastName\n",
                "FROM Person.Person\n",
                "WHERE FirstName LIKE '%a%a%' or LastName LIKE '%a%a%';\n",
                "-- WHERE (LEN(FirstName) - LEN(replace(FirstName, 'a', '')) >= 2) or\n",
                "--       (LEN(LastName) - LEN(replace(LastName, 'a', '')) >= 2)"
            ],
            "metadata": {
                "azdata_cell_guid": "46f2d711-a03a-43e3-ae71-2567e4ea4bd6",
                "tags": []
            },
            "outputs": [],
            "execution_count": null
        },
        {
            "cell_type": "markdown",
            "source": [
                "1. <span style=\"font-size: 13pt;\">Display all products (Name of product and Product Number) with weight within the range 12-20 </span> <span style=\"font-size: 13pt;\">‘</span><span style=\"font-size: 13pt;\">LB</span><span style=\"font-size: 13pt;\">’ </span> <span style=\"font-size: 13pt;\">(unit of measure). Please display the products which are not available to sale now. (Production.Product, use BETWEEN operator)&nbsp;</span>"
            ],
            "metadata": {
                "azdata_cell_guid": "d9835b41-e2bd-4a78-bc5a-843bf7e357d1"
            },
            "attachments": {}
        },
        {
            "cell_type": "code",
            "source": [
                "SELECT [Name], ProductNumber, FinishedGoodsFlag\n",
                "FROM Production.Product\n",
                "-- how to know measure of weight, there is nothing in the table ?\n",
                "--\n",
                "-- Product is salable : FinishedGoodsFlag, though it contains\n",
                "-- only ones, thus will result into empty table ?\n",
                "WHERE ([Weight] BETWEEN 12 and 20) and (SellStartDate > GETDATE()\n",
                "or SellEndDate < GETDATE());\n",
                " \n",
                " -- WHERE [Weight] BETWEEN 12 and 20 AND \n",
                " -- (SellEndDate IS NULL AND SellStartDate IS NOT NULL);"
            ],
            "metadata": {
                "azdata_cell_guid": "88ced514-e2fe-49fe-a8dd-0dfaa2f64fb1",
                "tags": []
            },
            "outputs": [],
            "execution_count": null
        },
        {
            "cell_type": "markdown",
            "source": [
                "1. <span style=\"font-size: 13pt;\">Display all customers who are not from territories 1 and 5. Please display only the customers who are people and whose account number contains 000000. (Sales.Customer, use LIKE operator)&nbsp;</span>"
            ],
            "metadata": {
                "azdata_cell_guid": "8a97d875-113c-4bdd-92a8-a364a738faf3"
            },
            "attachments": {}
        },
        {
            "cell_type": "code",
            "source": [
                "SELECT CustomerID, TerritoryID, AccountNumber\n",
                "FROM Sales.Customer\n",
                "WHERE TerritoryID NOT IN (1, 5)\n",
                "AND CAST(AccountNumber AS VARCHAR) like '%000000%'\n",
                "-- display those who are people\n",
                "AND PersonID IS NOT NULL;"
            ],
            "metadata": {
                "azdata_cell_guid": "ab0b662b-8425-4534-aea4-25aede0b5b88"
            },
            "outputs": [],
            "execution_count": null
        },
        {
            "cell_type": "markdown",
            "source": [
                "1. <span style=\"font-size: 13pt;\">Display unique person</span><span style=\"font-size: 13pt;\">’</span><span style=\"font-size: 13pt;\">s last names where it contains 4 characters and starts from </span> <span style=\"font-size: 13pt;\">‘</span><span style=\"font-size: 13pt;\">cho</span><span style=\"font-size: 13pt;\">’ </span> <span style=\"font-size: 13pt;\">and not contains </span> <span style=\"font-size: 13pt;\">‘</span><span style=\"font-size: 13pt;\">i</span><span style=\"font-size: 13pt;\">’ </span> <span style=\"font-size: 13pt;\">(Person.Person, use LIKE operator)&nbsp;</span>"
            ],
            "metadata": {
                "azdata_cell_guid": "9ee42321-c90a-45d0-9182-402ee80e3779"
            },
            "attachments": {}
        },
        {
            "cell_type": "code",
            "source": [
                "SELECT DISTINCT LastName\n",
                "FROM Person.Person\n",
                "-- this is guaranteed by the regex LEN(LastName) = 4 AND \n",
                "WHERE LastName LIKE 'cho[^i]';"
            ],
            "metadata": {
                "azdata_cell_guid": "f594d1ab-dbc2-4bed-9d9b-7d64303fbbc4"
            },
            "outputs": [],
            "execution_count": null
        },
        {
            "cell_type": "markdown",
            "source": [
                "1. <span style=\"font-size: 13pt;\">Display all products (Product Name, Product Number) and count of years how long company sells this product (still continue selling) (Production.Product, use GETDATE and DATEDIFF system functions)&nbsp;</span>"
            ],
            "metadata": {
                "azdata_cell_guid": "51225f3c-7244-40a7-bca4-4257e75661ad"
            },
            "attachments": {}
        },
        {
            "cell_type": "code",
            "source": [
                "SELECT [Name], ProductNumber,\n",
                "DATEDIFF(YEAR, SellStartDate, COALESCE(SellEndDate, GETDATE())) YearsSellProducts\n",
                "FROM Production.Product\n",
                "ORDER BY DATEDIFF(YEAR, SellStartDate, GETDATE())"
            ],
            "metadata": {
                "azdata_cell_guid": "467a28e4-9618-471a-894b-07cf0d019e2c"
            },
            "outputs": [],
            "execution_count": null
        },
        {
            "cell_type": "markdown",
            "source": [
                "1. <span style=\"font-size: 13pt;\">Display all products (Product Name, Product Number) which product number starts from </span> <span style=\"font-size: 13pt;\">‘</span><span style=\"font-size: 13pt;\">BK</span><span style=\"font-size: 13pt;\">’ </span> <span style=\"font-size: 13pt;\">and the company continues selling these products (Production.Product, use LIKE operator)&nbsp;</span>"
            ],
            "metadata": {
                "azdata_cell_guid": "84bfefc0-22c2-4c89-a6a6-02a5405ada38"
            },
            "attachments": {}
        },
        {
            "cell_type": "code",
            "source": [
                "SELECT [Name], ProductNumber, SellEndDate\n",
                "FROM Production.Product\n",
                "WHERE ProductNumber LIKE 'BK%'\n",
                "AND SellEndDate IS NULL;"
            ],
            "metadata": {
                "azdata_cell_guid": "3157c226-32a6-4d2d-921a-37382994566c"
            },
            "outputs": [],
            "execution_count": null
        },
        {
            "cell_type": "markdown",
            "source": [
                "1. <span style=\"font-size: 13pt;\">Display all orders from Sales.SalesOrderHeader table (display SalesOrderNumber and OrderDate) which were</span>\n",
                "    \n",
                "\n",
                "<span style=\"font-size: 13.000000pt; font-family: 'Calibri'\">a) placed during 2006 year (use system function YEAR)<br>b) madeinlastdayofDecember,2001(use2possibleoptions(providetwo</span>\n",
                "\n",
                "<span style=\"font-size: 13.000000pt; font-family: 'Calibri'\">queries) to compare with date and function EOMONTH)&nbsp;</span>"
            ],
            "metadata": {
                "azdata_cell_guid": "06e026f8-d91d-4260-9cb5-356e1b1754d7"
            },
            "attachments": {}
        },
        {
            "cell_type": "code",
            "source": [
                "SELECT SalesOrderNumber, OrderDate\n",
                "FROM Sales.SalesOrderHeader\n",
                "WHERE YEAR(OrderDate) = 2006;"
            ],
            "metadata": {
                "azdata_cell_guid": "779cf187-ff24-4aa5-8bb4-d07951add1c5"
            },
            "outputs": [],
            "execution_count": null
        },
        {
            "cell_type": "code",
            "source": [
                "SELECT SalesOrderNumber, OrderDate, CAST(OrderDate AS DATE)\n",
                "FROM Sales.SalesOrderHeader\n",
                "-- ??? There are no entries for such date;\n",
                "WHERE OrderDate = CAST('2001-12-31' AS DATE);\n",
                "-- ORDER BY CAST(OrderDate AS DATE)"
            ],
            "metadata": {
                "azdata_cell_guid": "940be1ae-e0fa-484e-8826-8c88cefbd81d"
            },
            "outputs": [],
            "execution_count": null
        },
        {
            "cell_type": "code",
            "source": [
                "SELECT SalesOrderNumber, OrderDate\n",
                "FROM Sales.SalesOrderHeader\n",
                "-- ASK: mssql do we need to cast literal to date while comparing them ?\n",
                "WHERE OrderDate = EOMONTH(CAST('2001-12-01' AS DATE))"
            ],
            "metadata": {
                "azdata_cell_guid": "adaa98e2-0d94-48e8-9f5c-185f23b8593d"
            },
            "outputs": [],
            "execution_count": null
        },
        {
            "cell_type": "markdown",
            "source": [
                "8. <span style=\"font-size: 13pt;\">Display all people (PersonType, FirstName, LastName). Sort the results in the</span>\n",
                "    \n",
                "    <span style=\"font-size: 13pt;\">following way: rows with PersonType of </span> <span style=\"font-size: 13pt;\">‘</span><span style=\"font-size: 13pt;\">IN</span><span style=\"font-size: 13pt;\">’</span><span style=\"font-size: 13pt;\">, </span> <span style=\"font-size: 13pt;\">‘</span><span style=\"font-size: 13pt;\">SP</span><span style=\"font-size: 13pt;\">’ </span> <span style=\"font-size: 13pt;\">or </span> <span style=\"font-size: 13pt;\">‘</span><span style=\"font-size: 13pt;\">SC</span><span style=\"font-size: 13pt;\">’ </span> <span style=\"font-size: 13pt;\">sort by LastName other rows sort by FirstName (Person.Person, use CASE function with IN operator within ORDER BY part of the query)&nbsp;</span>"
            ],
            "metadata": {
                "azdata_cell_guid": "904bca9c-e545-4f1e-aff2-1417b4bd7536"
            },
            "attachments": {}
        },
        {
            "cell_type": "code",
            "source": [
                "SELECT PersonType, FirstName, LastName\n",
                "FROM Person.Person\n",
                "ORDER BY\n",
                "CASE \n",
                "WHEN PersonType in ('IN', 'SP', 'SC') THEN LastName\n",
                "ELSE FirstName\n",
                "END"
            ],
            "metadata": {
                "azdata_cell_guid": "8ae0021a-a167-48f6-a44e-4df054830f53"
            },
            "outputs": [],
            "execution_count": null
        },
        {
            "cell_type": "markdown",
            "source": [
                "8. <span style=\"font-size: 13pt;\">Display all order(s) (SalesOrderId, OrderNumber, OrderDate, ShipDate ) which hasn</span><span style=\"font-size: 13pt;\">’</span><span style=\"font-size: 13pt;\">t beet shipped to the customer yet (Sales.SalesOrderHeader)&nbsp;</span>"
            ],
            "metadata": {
                "azdata_cell_guid": "ce028eb9-a1bd-467f-a419-7dccbc3c140d"
            },
            "attachments": {}
        },
        {
            "cell_type": "code",
            "source": [
                "SELECT SalesOrderID, SalesOrderNumber, OrderDate, ShipDate\n",
                "FROM Sales.SalesOrderHeader\n",
                "WHERE ShipDate is NULL; "
            ],
            "metadata": {
                "azdata_cell_guid": "2fa2ede2-3fd7-46cb-9354-eb935f32e393"
            },
            "outputs": [],
            "execution_count": null
        },
        {
            "cell_type": "markdown",
            "source": [
                "8. <span style=\"font-size: 13pt;\">Display all orders (SalesOrderId, OrderNumber, OrderDate, ShipDate ) with the number of days between the date when order was placed and the date that it was shipped (name result column as </span> <span style=\"font-size: 13pt;\">‘</span><span style=\"font-size: 13pt;\">Days to ship</span><span style=\"font-size: 13pt;\">’</span><span style=\"font-size: 13pt;\">) (Sales.SalesOrderHeader)&nbsp;</span>"
            ],
            "metadata": {
                "azdata_cell_guid": "21314d8e-e6f3-44da-a0f1-cf0746ddb5c5"
            },
            "attachments": {}
        },
        {
            "cell_type": "code",
            "source": [
                "SELECT SalesOrderID, SalesOrderNumber,\n",
                "       OrderDate, ShipDate,\n",
                "       DATEDIFF(DAY, OrderDate, ShipDate) AS [Days to ship]\n",
                "FROM Sales.SalesOrderHeader\n",
                "WHERE ShipDate is NOT NULL\n",
                "ORDER BY DATEDIFF(DAY, OrderDate, ShipDate);"
            ],
            "metadata": {
                "azdata_cell_guid": "7b504952-2f81-44f3-9a2b-5216bae5b9f2"
            },
            "outputs": [],
            "execution_count": null
        },
        {
            "cell_type": "markdown",
            "source": [
                "8. <span style=\"font-size: 13pt;\">Display order (SalesOrderId, OrderNumber, OrderDate, ShipDate) with the most days needed to ship it to customer (Sales.SalesOrderHeader, use DATEDIFF function)&nbsp;</span>"
            ],
            "metadata": {
                "azdata_cell_guid": "abc20bdf-cf43-4e99-b09d-f1977081037f"
            },
            "attachments": {}
        },
        {
            "cell_type": "code",
            "source": [
                "SELECT TOP 1 SalesOrderID, SalesOrderNumber,\n",
                "       OrderDate, ShipDate, \n",
                "       DATEDIFF(DAY, OrderDate, ShipDate) AS [Days to ship]\n",
                "FROM Sales.SalesOrderHeader\n",
                "WHERE ShipDate is NOT NULL\n",
                "ORDER BY DATEDIFF(DAY, OrderDate, ShipDate) DESC;"
            ],
            "metadata": {
                "azdata_cell_guid": "420abd3f-4797-46e1-ac46-03fe5fd80751"
            },
            "outputs": [],
            "execution_count": null
        },
        {
            "cell_type": "markdown",
            "source": [
                "12. <span style=\"font-size: 13pt;\">Display all special offers with columns SpecialOfferId, Description and difference between MaxQty and MinQty as </span> <span style=\"font-size: 13pt;\">‘</span><span style=\"font-size: 13pt;\">Diff</span><span style=\"font-size: 13pt;\">’</span><span style=\"font-size: 13pt;\">. Please display only offers with positive difference. (Sales.SpecialOffers)&nbsp;</span>"
            ],
            "metadata": {
                "azdata_cell_guid": "2f025b7a-6928-49d5-b899-e18b3131c897"
            },
            "attachments": {}
        },
        {
            "cell_type": "code",
            "source": [
                "SELECT SpecialOfferId, [Description],\n",
                "    DIFFERENCE(MaxQty, MinQty) AS Diff\n",
                "FROM Sales.SpecialOffer\n",
                "WHERE DIFFERENCE(MaxQty, MinQty) > 0;"
            ],
            "metadata": {
                "azdata_cell_guid": "c0803d10-74d1-4770-b65e-4c5de29e57eb"
            },
            "outputs": [],
            "execution_count": null
        },
        {
            "cell_type": "markdown",
            "source": [
                "12. <span style=\"font-size: 13pt;\">Display all products (ProductId, Color, Name) in case if product</span><span style=\"font-size: 13pt;\">’</span><span style=\"font-size: 13pt;\">s color is not set display </span> <span style=\"font-size: 13pt;\">‘</span><span style=\"font-size: 13pt;\">No Color</span><span style=\"font-size: 13pt;\">’ </span> <span style=\"font-size: 13pt;\">(Production.Product, use ISNULL function)&nbsp;</span>"
            ],
            "metadata": {
                "azdata_cell_guid": "c5ed11ab-1863-4ccb-813c-788358d1cbf7"
            },
            "attachments": {}
        },
        {
            "cell_type": "code",
            "source": [
                "SELECT ProductID, ISNULL(Color, 'No Color'), [Name]\n",
                "FROM Production.Product"
            ],
            "metadata": {
                "azdata_cell_guid": "fabc5042-8b4d-43da-bbb4-851461dcbeb4"
            },
            "outputs": [],
            "execution_count": null
        },
        {
            "cell_type": "markdown",
            "source": [
                "12. <span style=\"font-size: 13pt;\">Display all orders (SalesOrderId, OrderDate, TotalDue) made in range from July 22, 2005 till July 28, 2005 and already shipped to the customer from territory with id 4, 7 or 9 (Sales.SalesOrderDetails, use BETWEEN and IN functions)&nbsp;</span>"
            ],
            "metadata": {
                "azdata_cell_guid": "0e09a0b9-b71b-40d9-9bb1-5a08ce971927"
            },
            "attachments": {}
        },
        {
            "cell_type": "code",
            "source": [
                "SELECT SalesOrderID, OrderDate, TotalDue\n",
                "-- note that there is a mistake in the task, wrong table\n",
                "FROM Sales.SalesOrderHeader\n",
                "-- status 5 = Shiped\n",
                "WHERE Status = 5 AND TerritoryID in (4, 7, 9)\n",
                "AND OrderDate BETWEEN CAST('July 22, 2005' AS DATE) AND \n",
                "                  CAST('July 28, 2005' AS DATE)"
            ],
            "metadata": {
                "azdata_cell_guid": "b4ff62b2-1f48-4f9d-b794-0fa54889ef8c"
            },
            "outputs": [],
            "execution_count": null
        },
        {
            "cell_type": "markdown",
            "source": [
                "12. <span style=\"font-size: 13pt;\">Write a query that displays the ProductId and Name for each product from Production.Product table with the name starting with </span> <span style=\"font-size: 13pt;\">‘</span><span style=\"font-size: 13pt;\">Chain</span><span style=\"font-size: 13pt;\">’&nbsp;</span>"
            ],
            "metadata": {
                "azdata_cell_guid": "941e5572-4c69-4321-bbb3-406e95b880e3"
            },
            "attachments": {}
        },
        {
            "cell_type": "code",
            "source": [
                "SELECT ProductID, [Name]\n",
                "FROM Production.Product\n",
                "WHERE [Name] like 'Chain%'"
            ],
            "metadata": {
                "azdata_cell_guid": "21460ee9-198d-4a02-99f1-05840b51e152"
            },
            "outputs": [],
            "execution_count": null
        },
        {
            "cell_type": "markdown",
            "source": [
                "12. <span style=\"font-size: 13pt;\">Display BusinessEntityId and </span> <span style=\"font-size: 13pt;\">write ‘</span><span style=\"font-size: 13pt;\">Even</span><span style=\"font-size: 13pt;\">’ </span> <span style=\"font-size: 13pt;\">if BusinessEntityId is an even number or </span> <span style=\"font-size: 13pt;\">‘</span><span style=\"font-size: 13pt;\">Odd</span><span style=\"font-size: 13pt;\">’ </span> <span style=\"font-size: 13pt;\">when it is odd. (HumanResources.Employee, use CASE and module operator).&nbsp;</span>"
            ],
            "metadata": {
                "azdata_cell_guid": "81e4d116-c83d-4c20-bc23-32cccef428eb"
            },
            "attachments": {}
        },
        {
            "cell_type": "code",
            "source": [
                "SELECT BusinessEntityID,\n",
                "CASE WHEN BusinessEntityID % 2 = 0 THEN 'Even' ELSE 'Odd' END\n",
                "FROM HumanResources.Employee"
            ],
            "metadata": {
                "azdata_cell_guid": "815d45a8-15fe-4303-adcd-2a50f94b670e"
            },
            "outputs": [],
            "execution_count": null
        },
        {
            "cell_type": "markdown",
            "source": [
                "12. <span style=\"font-size: 13pt;\">Display all orders</span><span style=\"font-size: 13pt;\">’ </span> <span style=\"font-size: 13pt;\">details with columns SalesOrderId, OrderQty and display value (</span><span style=\"font-size: 13pt;\">“</span><span style=\"font-size: 13pt;\">Under 10</span><span style=\"font-size: 13pt;\">” </span> <span style=\"font-size: 13pt;\">or </span> <span style=\"font-size: 13pt;\">“</span><span style=\"font-size: 13pt;\">10-19</span><span style=\"font-size: 13pt;\">” </span> <span style=\"font-size: 13pt;\">or </span> <span style=\"font-size: 13pt;\">“</span><span style=\"font-size: 13pt;\">20-29</span><span style=\"font-size: 13pt;\">” </span> <span style=\"font-size: 13pt;\">or </span> <span style=\"font-size: 13pt;\">“</span><span style=\"font-size: 13pt;\">30-39</span><span style=\"font-size: 13pt;\">” </span> <span style=\"font-size: 13pt;\">or </span> <span style=\"font-size: 13pt;\">“</span><span style=\"font-size: 13pt;\">40 and over</span><span style=\"font-size: 13pt;\">”</span><span style=\"font-size: 13pt;\">) based on the OrderQty value. (Sales.SalesOrderDetails, use CASE function)&nbsp;</span>"
            ],
            "metadata": {
                "azdata_cell_guid": "6aecb3f4-9c01-455f-8f8d-d967791bbc69"
            },
            "attachments": {}
        },
        {
            "cell_type": "code",
            "source": [
                "SELECT SalesOrderID, OrderQty,\n",
                "CASE\n",
                "WHEN OrderQty BETWEEN 0 AND 9 THEN 'Under 10'\n",
                "WHEN OrderQty BETWEEN 10 AND 19 THEN '10-19'\n",
                "WHEN OrderQty BETWEEN 20 AND 29 THEN '20-29'\n",
                "WHEN OrderQty BETWEEN 30 AND 39 THEN '30-39'\n",
                "WHEN OrderQty > 39 THEN '40 and over'\n",
                "END\n",
                "\n",
                "FROM Sales.SalesOrderDetail"
            ],
            "metadata": {
                "azdata_cell_guid": "ad237d31-17e2-4dba-8fa8-8b40a90d8596"
            },
            "outputs": [],
            "execution_count": null
        },
        {
            "cell_type": "markdown",
            "source": [
                "12. <span style=\"font-size: 13pt;\">Write a query displaying the sales orders where the total due exceeds $1000. Retrieve only those rows where the sales person identifier is 279 or the territory ID is 6 (display SalesOrderId, OrderDate, TotalDue, SalesPersonId, TerritoryId, table Sales.SalesOrderHeader)&nbsp;</span>"
            ],
            "metadata": {
                "azdata_cell_guid": "ff2ffa26-18df-4c7d-980a-08edb1387d26"
            },
            "attachments": {}
        },
        {
            "cell_type": "code",
            "source": [
                "SELECT SalesOrderID, OrderDate, TotalDue, SalesPersonID,\n",
                "        TerritoryID\n",
                "FROM Sales.SalesOrderHeader\n",
                "WHERE (SalesPersonID = 279 OR TerritoryID = 6) AND TotalDue > 1000"
            ],
            "metadata": {
                "azdata_cell_guid": "a0f5eb23-9bc7-49df-b41f-ede1640dbf71"
            },
            "outputs": [],
            "execution_count": null
        },
        {
            "cell_type": "markdown",
            "source": [
                "12. <span style=\"font-size: 13pt;\">Display all orders (SalesOrderId, OrdrDate, SalesOrderNumber) made on July 14, 2005 or July 17, 2005 or November 26, 2005 and which aren</span><span style=\"font-size: 13pt;\">’</span><span style=\"font-size: 13pt;\">t shipped to customer yet. (Sales.SalesOrderHeader, use IN function)&nbsp;</span>"
            ],
            "metadata": {
                "azdata_cell_guid": "bd0b06a8-6daf-4a1a-8294-3c64ea4d09cb"
            },
            "attachments": {}
        },
        {
            "cell_type": "code",
            "source": [
                "SELECT SalesOrderID, OrderDate, SalesOrderNumber\n",
                "FROM Sales.SalesOrderHeader\n",
                "WHERE ShipDate is NULL \n",
                "AND OrderDate in (\n",
                "    CAST('July 14, 2005' AS DATE),\n",
                "    CAST('July 17, 2005' AS DATE), \n",
                "    CAST('November 26, 2005' AS DATE)\n",
                ")"
            ],
            "metadata": {
                "azdata_cell_guid": "4101e5b9-c3aa-43fa-8d8f-2bec66746509"
            },
            "outputs": [],
            "execution_count": null
        },
        {
            "cell_type": "markdown",
            "source": [
                "12. <span style=\"font-size: 13pt;\">Display all employees whose day offs (Vacation Hours + Sick Leave Hours) exceed 100 hours. Display NationalIDNumber, JobTitle and sum of hours spent for day offs as </span> <span style=\"font-size: 13pt;\">‘</span><span style=\"font-size: 13pt;\">Day off (in hours)</span><span style=\"font-size: 13pt;\">’ </span> <span style=\"font-size: 13pt;\">(HumanResources.Employee)&nbsp;</span>"
            ],
            "metadata": {
                "azdata_cell_guid": "ac6fcf69-461a-4d5e-9366-ff188c78b077"
            },
            "attachments": {}
        },
        {
            "cell_type": "code",
            "source": [
                "SELECT NationalIDNumber, JobTitle,\n",
                "        SUM(SickLeaveHours) + SUM(VacationHours) AS [Day off (in hours)]\n",
                "FROM HumanResources.Employee\n",
                "GROUP BY BusinessEntityID, NationalIDNumber, JobTitle\n",
                "HAVING SUM(SickLeaveHours) + SUM(VacationHours) > 100"
            ],
            "metadata": {
                "azdata_cell_guid": "83104a5d-8371-410b-b4d9-b244e83ea471"
            },
            "outputs": [],
            "execution_count": null
        },
        {
            "cell_type": "markdown",
            "source": [
                "12. <span style=\"font-size: 13pt;\">Display BussinessEntityID, and </span> <span style=\"font-size: 13pt;\">‘</span><span style=\"font-size: 13pt;\">Full Name</span><span style=\"font-size: 13pt;\">’ </span> <span style=\"font-size: 13pt;\">which is concatenation of FirstName, MiddleName and LastName (example Taras R Kovalyk). Please consider MiddleName can be null. (Person.Person, use two options with ISNULL and COALESCE functions)&nbsp;</span>"
            ],
            "metadata": {
                "azdata_cell_guid": "12089241-b4d3-4c5b-95a3-4e91b4f8ab38"
            },
            "attachments": {}
        },
        {
            "cell_type": "code",
            "source": [
                "SELECT BusinessEntityID,\n",
                "    -- handles MiddleName null automatically\n",
                "    CONCAT(FirstName + ' ', MiddleName + ' ', LastName) AS [Full Name]\n",
                "FROM Person.Person;"
            ],
            "metadata": {
                "azdata_cell_guid": "20009bd0-4a3c-474d-83b0-93e136131a4f",
                "tags": []
            },
            "outputs": [],
            "execution_count": null
        },
        {
            "cell_type": "markdown",
            "source": [
                "Select all addresses which are located at Heiderplatz (use AddressLine1 column). Display AddressLine1, City, PostalCode. (Person.Address, use LIKE operator)"
            ],
            "metadata": {
                "azdata_cell_guid": "80737d65-6404-470e-8c4d-7ab84dd476d1"
            }
        },
        {
            "cell_type": "code",
            "source": [
                "SELECT AddressLine1, City, PostalCode\n",
                "FROM Person.Address\n",
                "WHERE AddressLine1 like '%Heiderplatz%'"
            ],
            "metadata": {
                "azdata_cell_guid": "b72c7626-c50e-4315-8a9f-c290f91545c6"
            },
            "outputs": [],
            "execution_count": null
        },
        {
            "cell_type": "markdown",
            "source": [
                "Display orders from Sales.SalesOrderHeader table (display SalesOrderId, SalesOrderNumber, OrderDate, ShipDate) which\n",
                "a) are still not shipped to the customer\n",
                "b) shippedtothecustomersinrangestartingfromOctober20,2005to\n",
                "October, 24, 2005"
            ],
            "metadata": {
                "azdata_cell_guid": "49e0862e-f066-4527-a4db-b1703a85f60b"
            }
        },
        {
            "cell_type": "code",
            "source": [
                "SELECT SalesOrderID, SalesOrderNumber, OrderDate, ShipDate\n",
                "FROM Sales.SalesOrderHeader\n",
                "-- 1 : In process, 2 : Approved , 5 : Shipped\n",
                "-- all the others are related to cancellation\n",
                "WHERE [Status] in (1, 2);"
            ],
            "metadata": {
                "azdata_cell_guid": "fcee8755-fecb-46e7-bc8f-a0d6b71d5b7d"
            },
            "outputs": [],
            "execution_count": null
        },
        {
            "cell_type": "code",
            "source": [
                "SELECT SalesOrderID, SalesOrderNumber, OrderDate, ShipDate\n",
                "FROM Sales.SalesOrderHeader\n",
                "WHERE ShipDate BETWEEN\n",
                "     CAST('October 20 2005' AS DATE) AND\n",
                "     CAST('October 24 2005' AS DATE)"
            ],
            "metadata": {
                "azdata_cell_guid": "5e43163d-d715-4efb-9571-9e3a39d228a2",
                "tags": []
            },
            "outputs": [],
            "execution_count": null
        },
        {
            "cell_type": "markdown",
            "source": [
                "24. <span style=\"font-size: 13pt;\">Display all peoples</span><span style=\"font-size: 13pt;\">’ </span> <span style=\"font-size: 13pt;\">emails from Person.EmailAddress table which aren</span><span style=\"font-size: 13pt;\">’</span><span style=\"font-size: 13pt;\">t in domain </span> <span style=\"font-size: 13pt;\">‘</span><span style=\"font-size: 13pt;\">adventure-works.com</span><span style=\"font-size: 13pt;\">’ </span> <span style=\"font-size: 13pt;\">(use LIKE operator).&nbsp;</span>"
            ],
            "metadata": {
                "azdata_cell_guid": "93067d4d-32bf-465e-8de1-bd40f04a5a95"
            },
            "attachments": {}
        },
        {
            "cell_type": "code",
            "source": [
                "SELECT EmailAddress\n",
                "FROM Person.EmailAddress\n",
                "-- easy to check that entry should indeed be empty\n",
                "WHERE EmailAddress NOT LIKE '%@adventure-works.com'"
            ],
            "metadata": {
                "azdata_cell_guid": "a02383af-1379-4652-8794-033d67b9aa3f"
            },
            "outputs": [],
            "execution_count": null
        },
        {
            "cell_type": "markdown",
            "source": [
                "24. <span style=\"font-size: 13pt;\">Display all customers who haven</span><span style=\"font-size: 13pt;\">’</span><span style=\"font-size: 13pt;\">t received orders yet. Display CustomerID, DueDate and how many days passed from planned date when orders should be received till now (display this column as </span> <span style=\"font-size: 13pt;\">‘</span><span style=\"font-size: 13pt;\">Days passed</span><span style=\"font-size: 13pt;\">’</span><span style=\"font-size: 13pt;\">) (Sales.SalesOrderHeader, use DATEDIFF and GETDATE functions)&nbsp;</span>"
            ],
            "metadata": {
                "azdata_cell_guid": "bc52fb40-7d60-4040-9089-73bd335c50ac"
            },
            "attachments": {}
        },
        {
            "cell_type": "code",
            "source": [
                "SELECT CustomerID, DueDate, \n",
                "    DATEDIFF(DAY, DueDate, GETDATE()) AS [Days passed]\n",
                "FROM Sales.SalesOrderHeader\n",
                "WHERE [Status] IN (1, 2)\n",
                "ORDER BY DATEDIFF(DAY, DueDate, GETDATE());"
            ],
            "metadata": {
                "azdata_cell_guid": "8dd0b09a-e23a-46ca-a48d-fd26acd8551c"
            },
            "outputs": [],
            "execution_count": null
        },
        {
            "cell_type": "markdown",
            "source": [
                "24. <span style=\"font-size: 13pt;\">Display all orders where difference between shipped date and planned due date exceeds 10 days. Display SalesOrderId, SalesOrderNumber, OrderDate, CustomerID, DueDate, ShippDate and difference between real ship date and planned due date (display this column as </span> <span style=\"font-size: 13pt;\">‘</span><span style=\"font-size: 13pt;\">Exceed days</span><span style=\"font-size: 13pt;\">’</span><span style=\"font-size: 13pt;\">) (Sales.SalesOrderHeader)&nbsp;</span>"
            ],
            "metadata": {
                "azdata_cell_guid": "c3f79320-a00f-4cf5-808d-8f86e62214af"
            },
            "attachments": {}
        },
        {
            "cell_type": "code",
            "source": [
                "SELECT SalesOrderID, SalesOrderNumber, CustomerID, DueDate, ShipDate,\n",
                "    DATEDIFF(DAY, DueDate, ShipDate) AS [Exceed days]\n",
                "FROM Sales.SalesOrderHeader\n",
                "WHERE DATEDIFF(DAY, DueDate, ShipDate) > 10;\n",
                "-- ORDER BY DATEDIFF(DAY, ShipDate, DueDate) DESC;"
            ],
            "metadata": {
                "azdata_cell_guid": "630fce7d-ba6c-495f-a373-3951a52ee748"
            },
            "outputs": [],
            "execution_count": null
        },
        {
            "cell_type": "markdown",
            "source": [
                "24. <span style=\"font-size: 13pt;\">Display all orders which aren</span><span style=\"font-size: 13pt;\">’</span><span style=\"font-size: 13pt;\">t received by customers yet and where due date has been already passed. Display SalesOrderId, SalesOrderNumber, OrderDate, DueDate, CustomerId. (Sales.SalesOrderHeader, use GETDATE function)&nbsp;</span>"
            ],
            "metadata": {
                "azdata_cell_guid": "3071f336-96e1-4c03-a4b6-60143a175989"
            },
            "attachments": {}
        },
        {
            "cell_type": "code",
            "source": [
                "SELECT SalesOrderID, SalesOrderNumber, OrderDate, DueDate, CustomerID\n",
                "FROM Sales.SalesOrderHeader\n",
                "WHERE [Status] in (1, 2) and GETDATE() > DueDate"
            ],
            "metadata": {
                "azdata_cell_guid": "0ffc2fbb-89fa-461a-80b7-900c2ca69e57"
            },
            "outputs": [],
            "execution_count": null
        }
    ]
}