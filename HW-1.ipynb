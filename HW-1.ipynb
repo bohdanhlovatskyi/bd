{
    "metadata": {
        "kernelspec": {
            "name": "SQL",
            "display_name": "SQL",
            "language": "sql"
        },
        "language_info": {
            "name": "sql",
            "version": ""
        }
    },
    "nbformat_minor": 2,
    "nbformat": 4,
    "cells": [
        {
            "cell_type": "markdown",
            "source": [
                "- <span style=\"font-size: 11.000000pt; font-family: 'TrebuchetMS'\">Write a query using WHERE clause that displays all the employees who have the job title ‘Research and Development Engineer’. Display the business entity id number, the login ID and the title for each one. (</span><span style=\"font-size: 11.000000pt; font-family: 'TrebuchetMS'; font-weight: 700\">HumanResources</span><span style=\"font-size: 11.000000pt; font-family: 'TrebuchetMS'; font-weight: 700; color: rgb(3.137255%, 3.137255%, 3.137255%)\">.</span><span style=\"font-size: 11.000000pt; font-family: 'TrebuchetMS'; font-weight: 700\">Employee</span><span style=\"font-size: 11.000000pt; font-family: 'TrebuchetMS'\">)&nbsp;</span>"
            ],
            "metadata": {
                "azdata_cell_guid": "66b8ba21-2caf-4210-be24-2a2065241103"
            },
            "attachments": {}
        },
        {
            "cell_type": "code",
            "source": [
                "SELECT BusinessEntityID, LoginID, JobTitle\n",
                "FROM HumanResources.Employee\n",
                "WHERE JobTitle = 'Research and Development Engineer';"
            ],
            "metadata": {
                "azdata_cell_guid": "1d1b4b98-62cc-4203-ae5c-8f865edfde7d",
                "tags": []
            },
            "outputs": [],
            "execution_count": null
        },
        {
            "cell_type": "markdown",
            "source": [
                "- <span style=\"font-size: 11.000000pt; font-family: 'TrebuchetMS'\">Write a query using a WHERE clause that displays all the persons with the middle name ‘J’. Display the first, last and middle names along with the ID numbers. (</span><span style=\"font-size: 11.000000pt; font-family: 'TrebuchetMS'; font-weight: 700\">Person</span><span style=\"font-size: 11.000000pt; font-family: 'TrebuchetMS'; font-weight: 700; color: rgb(3.137255%, 3.137255%, 3.137255%)\">.</span><span style=\"font-size: 11.000000pt; font-family: 'TrebuchetMS'; font-weight: 700\">Person</span><span style=\"font-size: 11.000000pt; font-family: 'TrebuchetMS'\">)&nbsp;</span>"
            ],
            "metadata": {
                "azdata_cell_guid": "26841105-dce3-4a97-95bc-a191c23ff2d7"
            },
            "attachments": {}
        },
        {
            "cell_type": "code",
            "source": [
                "SELECT FirstName, LastName, MiddleName, BusinessEntityID\n",
                "FROM Person.Person\n",
                "WHERE MiddleName = 'J'; "
            ],
            "metadata": {
                "azdata_cell_guid": "58a2e6fe-1057-4290-b68e-10cfc6b4912b"
            },
            "outputs": [],
            "execution_count": null
        },
        {
            "cell_type": "markdown",
            "source": [
                "- <span style=\"font-size: 11.000000pt; font-family: 'TrebuchetMS'\">Write the query to return the employees who do not have the title ‘Research and Development Engineer’. Display the business entity Id number, the login ID and the title for each one (</span><span style=\"font-size: 11.000000pt; font-family: 'TrebuchetMS'; font-weight: 700\">HumanResources</span><span style=\"font-size: 11.000000pt; font-family: 'TrebuchetMS'; font-weight: 700; color: rgb(3.137255%, 3.137255%, 3.137255%)\">.</span><span style=\"font-size: 11.000000pt; font-family: 'TrebuchetMS'; font-weight: 700\">Employee</span><span style=\"font-size: 11.000000pt; font-family: 'TrebuchetMS'\">)&nbsp;</span>"
            ],
            "metadata": {
                "azdata_cell_guid": "be4d5315-4185-443a-8bb1-8935cb25f128"
            },
            "attachments": {}
        },
        {
            "cell_type": "code",
            "source": [
                "SELECT BusinessEntityID, LoginID, JobTitle\n",
                "FROM HumanResources.Employee\n",
                "WHERE JobTitle <> 'Research and Development Engineer';"
            ],
            "metadata": {
                "azdata_cell_guid": "1658ac5c-3c53-4aff-99a3-292c27c26f55"
            },
            "outputs": [],
            "execution_count": null
        },
        {
            "cell_type": "markdown",
            "source": [
                "- <span style=\"font-size: 11.000000pt; font-family: 'TrebuchetMS'\">Write the query (using TOP(n) and ORDER BY) to select last 3 newest orders from Sales.SalesOrderHeader table made by Customer with customer id equals 11019. Display sales order id, order date, account number, territory id, freight and status columns. </span> <span style=\"font-size: 11.000000pt; font-family: 'TrebuchetMS'; font-weight: 700\">(Sales.SalesOrderHeader)&nbsp;</span>"
            ],
            "metadata": {
                "azdata_cell_guid": "d363d8de-0ba3-4ebd-b5fe-6b1a145cb3c5"
            },
            "attachments": {}
        },
        {
            "cell_type": "code",
            "source": [
                "SELECT TOP 3\n",
                "       SalesOrderID as OrderID, OrderDate,\n",
                "       AccountNumber, TerritoryID,\n",
                "       -- note that here we include CustomerID only\n",
                "       -- to show that the query wors as intended\n",
                "       Freight, [Status], CustomerID \n",
                "FROM Sales.SalesOrderHeader\n",
                "WHERE CustomerID = 11019\n",
                "ORDER BY OrderDate DESC;"
            ],
            "metadata": {
                "azdata_cell_guid": "565024ba-f34a-4b33-a587-c0bf8a27eeff"
            },
            "outputs": [],
            "execution_count": null
        },
        {
            "cell_type": "markdown",
            "source": [
                "- <span style=\"font-size: 11.000000pt; font-family: 'TrebuchetMS'\">Write a query using WHERE clause to display the sales orders where the total due exceeds $1.000. Retrieve only those rows where salesperson ID is 279 or the territory ID is 6. Display order Id, order date, total due, sales person id, territory id. </span> <span style=\"font-size: 11.000000pt; font-family: 'TrebuchetMS'; font-weight: 700\">(Sales.SalesOrderHeader)&nbsp;</span>"
            ],
            "metadata": {
                "azdata_cell_guid": "1634dcd3-cc95-4afc-8c23-c6b4edbc7e75"
            },
            "attachments": {}
        },
        {
            "cell_type": "code",
            "source": [
                "SELECT SalesOrderID as OrderID,\n",
                "       OrderDate, TotalDue,\n",
                "       SalesPersonID, TerritoryID\n",
                "FROM Sales.SalesOrderHeader\n",
                "WHERE SalesPersonID = 279 or TerritoryID = 6;"
            ],
            "metadata": {
                "azdata_cell_guid": "8ec4b5a7-3925-4c06-8804-e505dec63c76",
                "tags": []
            },
            "outputs": [],
            "execution_count": null
        },
        {
            "cell_type": "markdown",
            "source": [
                "- <span style=\"font-size: 11.000000pt; font-family: 'TrebuchetMS'\">Write a query displaying all the products with the product id, name and color columns. Display only those products where color is Blue, Red or Green. </span> <span style=\"font-size: 11.000000pt; font-family: 'TrebuchetMS'; font-weight: 700\">(Production</span><span style=\"font-size: 11.000000pt; font-family: 'TrebuchetMS'; font-weight: 700; color: rgb(3.137255%, 3.137255%, 3.137255%)\">.</span><span style=\"font-size: 11.000000pt; font-family: 'TrebuchetMS'; font-weight: 700\">Product)&nbsp;</span>"
            ],
            "metadata": {
                "azdata_cell_guid": "e4187c66-74a7-4018-bdee-a61a99a5f09f"
            },
            "attachments": {}
        },
        {
            "cell_type": "code",
            "source": [
                "SELECT ProductID, [Name], Color\n",
                "FROM Production.Product\n",
                "WHERE Color in ('Blue', 'Red', 'Green');"
            ],
            "metadata": {
                "azdata_cell_guid": "7ef7c49b-fb00-4d69-9f6d-54380ab58437"
            },
            "outputs": [],
            "execution_count": null
        },
        {
            "cell_type": "markdown",
            "source": [
                "- <span style=\"font-size: 11.000000pt; font-family: 'TrebuchetMS'\">Write a query to display product id (display this column as ‘Product Identifier’) and name of all products where weight is unknown/not set (</span><span style=\"font-size: 11.000000pt; font-family: 'TrebuchetMS'; font-weight: 700\">Production.Product</span><span style=\"font-size: 11.000000pt; font-family: 'TrebuchetMS'\">)&nbsp;</span>"
            ],
            "metadata": {
                "azdata_cell_guid": "3e086f80-e6e9-498a-8158-e0c2ffb9f3ea"
            },
            "attachments": {}
        },
        {
            "cell_type": "code",
            "source": [
                "SELECT ProductID as [Product Identifier]\n",
                "FROM Production.Product\n",
                "WHERE Weight is NULL;"
            ],
            "metadata": {
                "azdata_cell_guid": "96b40100-4ef1-472c-83c4-55b709e7173e",
                "tags": []
            },
            "outputs": [],
            "execution_count": null
        },
        {
            "cell_type": "markdown",
            "source": [
                "- <span style=\"font-size: 11.000000pt; font-family: 'TrebuchetMS'\">Write a query to display all products without Color (display product name) sorted by Product Name in descending order (</span><span style=\"font-size: 11.000000pt; font-family: 'TrebuchetMS'; font-weight: 700\">Production.Product)&nbsp;</span>"
            ],
            "metadata": {
                "azdata_cell_guid": "eca6b312-f378-4733-ba40-eae339cd9681"
            },
            "attachments": {}
        },
        {
            "cell_type": "code",
            "source": [
                "SELECT [Name] as [Product Name]\n",
                "FROM Production.Product\n",
                "ORDER BY [Name] DESC;"
            ],
            "metadata": {
                "azdata_cell_guid": "741fe9be-694f-4285-9f9c-052b37666097"
            },
            "outputs": [],
            "execution_count": null
        },
        {
            "cell_type": "markdown",
            "source": [
                "- <span style=\"font-size: 11.000000pt; font-family: 'TrebuchetMS'\">Write a query to display 3 the most priced orders (display Product Id as ‘Product Identifier’ and Sales Order Id as ‘Order Identifier’ and Unit Price as ‘Price’)) </span> <span style=\"font-size: 11.000000pt; font-family: 'TrebuchetMS'; font-weight: 700\">(Sales.SalesOrderDetail, </span> <span style=\"font-size: 11.000000pt; font-family: 'TrebuchetMS'\">use TOP(n), ORDER BY</span><span style=\"font-size: 11.000000pt; font-family: 'TrebuchetMS'; font-weight: 700\">)&nbsp;</span>"
            ],
            "metadata": {
                "azdata_cell_guid": "0226ee61-11e2-453f-ad9a-4d00088a492b"
            },
            "attachments": {}
        },
        {
            "cell_type": "code",
            "source": [
                "SELECT TOP 3 \n",
                "       ProductID as [Product Identifier],\n",
                "       SalesOrderID as [Order Identifier],\n",
                "       UnitPrice - UnitPriceDiscount as Price\n",
                "       -- UnitPrice,\n",
                "       -- UnitPriceDiscount\n",
                "FROM Sales.SalesOrderDetail\n",
                "-- WHERE UnitPriceDiscount <> CAST(0 AS numeric)\n",
                "ORDER BY UnitPrice - UnitPriceDiscount DESC;"
            ],
            "metadata": {
                "azdata_cell_guid": "67448d55-4f17-4c36-808b-31659065da2c",
                "tags": []
            },
            "outputs": [],
            "execution_count": null
        },
        {
            "cell_type": "markdown",
            "source": [
                ""
            ],
            "metadata": {
                "azdata_cell_guid": "68339750-9b42-44e6-860c-ac40e3288c4f"
            }
        }
    ]
}