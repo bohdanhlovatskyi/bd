{
 "cells": [
  {
   "cell_type": "markdown",
   "metadata": {
    "azdata_cell_guid": "66b8ba21-2caf-4210-be24-2a2065241103"
   },
   "source": [
    "- <span style=\"font-size: 11.000000pt; font-family: 'TrebuchetMS'\">Write a query using WHERE clause that displays all the employees who have the job title ‘Research and Development Engineer’. Display the business entity id number, the login ID and the title for each one. (</span><span style=\"font-size: 11.000000pt; font-family: 'TrebuchetMS'; font-weight: 700\">HumanResources</span><span style=\"font-size: 11.000000pt; font-family: 'TrebuchetMS'; font-weight: 700; color: rgb(3.137255%, 3.137255%, 3.137255%)\">.</span><span style=\"font-size: 11.000000pt; font-family: 'TrebuchetMS'; font-weight: 700\">Employee</span><span style=\"font-size: 11.000000pt; font-family: 'TrebuchetMS'\">)&nbsp;</span>"
   ]
  },
  {
   "cell_type": "code",
   "execution_count": null,
   "metadata": {
    "azdata_cell_guid": "1d1b4b98-62cc-4203-ae5c-8f865edfde7d",
    "tags": []
   },
   "outputs": [],
   "source": [
    "SELECT BusinessEntityID, LoginID, JobTitle\n",
    "FROM HumanResources.Employee\n",
    "WHERE JobTitle = 'Research and Development Engineer';"
   ]
  },
  {
   "cell_type": "markdown",
   "metadata": {
    "azdata_cell_guid": "26841105-dce3-4a97-95bc-a191c23ff2d7"
   },
   "source": [
    "- <span style=\"font-size: 11.000000pt; font-family: 'TrebuchetMS'\">Write a query using a WHERE clause that displays all the persons with the middle name ‘J’. Display the first, last and middle names along with the ID numbers. (</span><span style=\"font-size: 11.000000pt; font-family: 'TrebuchetMS'; font-weight: 700\">Person</span><span style=\"font-size: 11.000000pt; font-family: 'TrebuchetMS'; font-weight: 700; color: rgb(3.137255%, 3.137255%, 3.137255%)\">.</span><span style=\"font-size: 11.000000pt; font-family: 'TrebuchetMS'; font-weight: 700\">Person</span><span style=\"font-size: 11.000000pt; font-family: 'TrebuchetMS'\">)&nbsp;</span>"
   ]
  },
  {
   "cell_type": "code",
   "execution_count": null,
   "metadata": {
    "azdata_cell_guid": "58a2e6fe-1057-4290-b68e-10cfc6b4912b"
   },
   "outputs": [],
   "source": [
    "SELECT FirstName, LastName, MiddleName, BusinessEntityID\n",
    "FROM Person.Person\n",
    "WHERE MiddleName = 'J'; "
   ]
  },
  {
   "cell_type": "markdown",
   "metadata": {
    "azdata_cell_guid": "be4d5315-4185-443a-8bb1-8935cb25f128"
   },
   "source": [
    "- <span style=\"font-size: 11.000000pt; font-family: 'TrebuchetMS'\">Write the query to return the employees who do not have the title ‘Research and Development Engineer’. Display the business entity Id number, the login ID and the title for each one (</span><span style=\"font-size: 11.000000pt; font-family: 'TrebuchetMS'; font-weight: 700\">HumanResources</span><span style=\"font-size: 11.000000pt; font-family: 'TrebuchetMS'; font-weight: 700; color: rgb(3.137255%, 3.137255%, 3.137255%)\">.</span><span style=\"font-size: 11.000000pt; font-family: 'TrebuchetMS'; font-weight: 700\">Employee</span><span style=\"font-size: 11.000000pt; font-family: 'TrebuchetMS'\">)&nbsp;</span>"
   ]
  },
  {
   "cell_type": "code",
   "execution_count": null,
   "metadata": {
    "azdata_cell_guid": "1658ac5c-3c53-4aff-99a3-292c27c26f55"
   },
   "outputs": [],
   "source": [
    "SELECT BusinessEntityID, LoginID, JobTitle\n",
    "FROM HumanResources.Employee\n",
    "WHERE JobTitle <> 'Research and Development Engineer';"
   ]
  },
  {
   "cell_type": "markdown",
   "metadata": {
    "azdata_cell_guid": "d363d8de-0ba3-4ebd-b5fe-6b1a145cb3c5"
   },
   "source": [
    "- <span style=\"font-size: 11.000000pt; font-family: 'TrebuchetMS'\">Write the query (using TOP(n) and ORDER BY) to select last 3 newest orders from Sales.SalesOrderHeader table made by Customer with customer id equals 11019. Display sales order id, order date, account number, territory id, freight and status columns. </span> <span style=\"font-size: 11.000000pt; font-family: 'TrebuchetMS'; font-weight: 700\">(Sales.SalesOrderHeader)&nbsp;</span>"
   ]
  },
  {
   "cell_type": "code",
   "execution_count": null,
   "metadata": {
    "azdata_cell_guid": "565024ba-f34a-4b33-a587-c0bf8a27eeff"
   },
   "outputs": [],
   "source": [
    "SELECT TOP 3\n",
    "       SalesOrderID as OrderID, OrderDate,\n",
    "       AccountNumber, TerritoryID,\n",
    "       -- note that here we include CustomerID only\n",
    "       -- to show that the query wors as intended\n",
    "       Freight, [Status], CustomerID \n",
    "FROM Sales.SalesOrderHeader\n",
    "WHERE CustomerID = 11019\n",
    "ORDER BY OrderDate DESC;"
   ]
  },
  {
   "cell_type": "markdown",
   "metadata": {
    "azdata_cell_guid": "1634dcd3-cc95-4afc-8c23-c6b4edbc7e75"
   },
   "source": [
    "- <span style=\"font-size: 11.000000pt; font-family: 'TrebuchetMS'\">Write a query using WHERE clause to display the sales orders where the total due exceeds $1.000. Retrieve only those rows where salesperson ID is 279 or the territory ID is 6. Display order Id, order date, total due, sales person id, territory id. </span> <span style=\"font-size: 11.000000pt; font-family: 'TrebuchetMS'; font-weight: 700\">(Sales.SalesOrderHeader)&nbsp;</span>"
   ]
  },
  {
   "cell_type": "code",
   "execution_count": null,
   "metadata": {
    "azdata_cell_guid": "8ec4b5a7-3925-4c06-8804-e505dec63c76",
    "tags": []
   },
   "outputs": [],
   "source": [
    "SELECT SalesOrderID as OrderID,\n",
    "       OrderDate, TotalDue,\n",
    "       SalesPersonID, TerritoryID\n",
    "FROM Sales.SalesOrderHeader\n",
    "WHERE SalesPersonID = 279 or TerritoryID = 6;"
   ]
  },
  {
   "cell_type": "markdown",
   "metadata": {
    "azdata_cell_guid": "e4187c66-74a7-4018-bdee-a61a99a5f09f"
   },
   "source": [
    "- <span style=\"font-size: 11.000000pt; font-family: 'TrebuchetMS'\">Write a query displaying all the products with the product id, name and color columns. Display only those products where color is Blue, Red or Green. </span> <span style=\"font-size: 11.000000pt; font-family: 'TrebuchetMS'; font-weight: 700\">(Production</span><span style=\"font-size: 11.000000pt; font-family: 'TrebuchetMS'; font-weight: 700; color: rgb(3.137255%, 3.137255%, 3.137255%)\">.</span><span style=\"font-size: 11.000000pt; font-family: 'TrebuchetMS'; font-weight: 700\">Product)&nbsp;</span>"
   ]
  },
  {
   "cell_type": "code",
   "execution_count": null,
   "metadata": {
    "azdata_cell_guid": "7ef7c49b-fb00-4d69-9f6d-54380ab58437"
   },
   "outputs": [],
   "source": [
    "SELECT ProductID, [Name], Color\n",
    "FROM Production.Product\n",
    "WHERE Color in ('Blue', 'Red', 'Green');"
   ]
  },
  {
   "cell_type": "markdown",
   "metadata": {
    "azdata_cell_guid": "3e086f80-e6e9-498a-8158-e0c2ffb9f3ea"
   },
   "source": [
    "- <span style=\"font-size: 11.000000pt; font-family: 'TrebuchetMS'\">Write a query to display product id (display this column as ‘Product Identifier’) and name of all products where weight is unknown/not set (</span><span style=\"font-size: 11.000000pt; font-family: 'TrebuchetMS'; font-weight: 700\">Production.Product</span><span style=\"font-size: 11.000000pt; font-family: 'TrebuchetMS'\">)&nbsp;</span>"
   ]
  },
  {
   "cell_type": "code",
   "execution_count": null,
   "metadata": {
    "azdata_cell_guid": "96b40100-4ef1-472c-83c4-55b709e7173e",
    "tags": []
   },
   "outputs": [],
   "source": [
    "SELECT ProductID as [Product Identifier]\n",
    "FROM Production.Product\n",
    "WHERE Weight is NULL;"
   ]
  },
  {
   "cell_type": "markdown",
   "metadata": {
    "azdata_cell_guid": "eca6b312-f378-4733-ba40-eae339cd9681"
   },
   "source": [
    "- <span style=\"font-size: 11.000000pt; font-family: 'TrebuchetMS'\">Write a query to display all products without Color (display product name) sorted by Product Name in descending order (</span><span style=\"font-size: 11.000000pt; font-family: 'TrebuchetMS'; font-weight: 700\">Production.Product)&nbsp;</span>"
   ]
  },
  {
   "cell_type": "code",
   "execution_count": null,
   "metadata": {
    "azdata_cell_guid": "741fe9be-694f-4285-9f9c-052b37666097"
   },
   "outputs": [],
   "source": [
    "SELECT [Name] as [Product Name]\n",
    "FROM Production.Product\n",
    "ORDER BY [Name] DESC;"
   ]
  },
  {
   "cell_type": "markdown",
   "metadata": {
    "azdata_cell_guid": "0226ee61-11e2-453f-ad9a-4d00088a492b"
   },
   "source": [
    "- <span style=\"font-size: 11.000000pt; font-family: 'TrebuchetMS'\">Write a query to display 3 the most priced orders (display Product Id as ‘Product Identifier’ and Sales Order Id as ‘Order Identifier’ and Unit Price as ‘Price’)) </span> <span style=\"font-size: 11.000000pt; font-family: 'TrebuchetMS'; font-weight: 700\">(Sales.SalesOrderDetail, </span> <span style=\"font-size: 11.000000pt; font-family: 'TrebuchetMS'\">use TOP(n), ORDER BY</span><span style=\"font-size: 11.000000pt; font-family: 'TrebuchetMS'; font-weight: 700\">)&nbsp;</span>"
   ]
  },
  {
   "cell_type": "code",
   "execution_count": null,
   "metadata": {
    "azdata_cell_guid": "67448d55-4f17-4c36-808b-31659065da2c",
    "tags": []
   },
   "outputs": [],
   "source": [
    "SELECT TOP 3 \n",
    "       ProductID as [Product Identifier],\n",
    "       SalesOrderID as [Order Identifier],\n",
    "       UnitPrice - UnitPriceDiscount as Price\n",
    "       -- UnitPrice,\n",
    "       -- UnitPriceDiscount\n",
    "FROM Sales.SalesOrderDetail\n",
    "-- WHERE UnitPriceDiscount <> CAST(0 AS numeric)\n",
    "ORDER BY UnitPrice - UnitPriceDiscount DESC;"
   ]
  },
  {
   "cell_type": "markdown",
   "metadata": {
    "azdata_cell_guid": "68339750-9b42-44e6-860c-ac40e3288c4f"
   },
   "source": []
  },
  {
   "cell_type": "markdown",
   "metadata": {},
   "source": [
    "## Relational algebra"
   ]
  },
  {
   "cell_type": "markdown",
   "metadata": {},
   "source": [
    "Assume there are the following relations:\n",
    "\n",
    "- BOOKS(DocId, Title, Publisher, Year)\n",
    "\n",
    "- STUDENTS(StId, StName, Major, Age)\n",
    "\n",
    "- AUTHORS(AName, Address)\n",
    "\n",
    "- borrows(DocId, StId, Date)\n",
    "\n",
    "- has-written(DocId, AName)\n",
    "\n",
    "- describes(DocId, Keyword)"
   ]
  },
  {
   "cell_type": "markdown",
   "metadata": {},
   "source": [
    "Perform the following operations using relational algebra:\n",
    "- Return names of all students who have borrowed a book and who are CS majors.\n",
    "\n",
    "if each student, who is in the database of library has borrowed a book:\n",
    "\n",
    "**pi name (sigma Majos='CS' (STUDENTS))**\n",
    "\n",
    "otherwise:\n",
    "\n",
    "**pi name (sigma Major='CS' (STUDENTS join BORROWS))**\n",
    "\n",
    "- Return the title of books written by the author ‘Shevchenko’ but without books which have the keyword ‘database’\n",
    "\n",
    "**pi title (BOOKS join (sigma AName='Shevchenko'(has-written)  -   sigma Keyword ='databse' (has_written join descrives)))**\n",
    "\n",
    "- Return the title of the books which were borrowed by students older than 30 years.\n",
    "\n",
    "**pi title (BOOKS join (sigma age > 30 (STUDENTS join borrows)))**\n",
    "\n",
    "\n",
    "- List the titles of books that were written by the author ‘Shevchenko’ and were published after 2010 year.\n",
    "\n",
    "! Note that this can be written as 'and' of two sets rathenr than and of predicates\n",
    "\n",
    "**pi title (sigma year > 2010 and AName=‘Shevchenko’ (BOOKS join has-written)**\n",
    "\n",
    "\n",
    "- Return the name of the youngest student (use relational algebra’s operators: π, σ (Age > Age), cartesian product (students x students) and difference operator (students – students))\n",
    "\n",
    "\n",
    "**pi year (sigma min(year) (STUDENTS - STUDENTS * borrows))**\n",
    "\n"
   ]
  },
  {
   "cell_type": "markdown",
   "metadata": {},
   "source": []
  }
 ],
 "metadata": {
  "kernelspec": {
   "display_name": "Python 3",
   "language": "python",
   "name": "python3"
  },
  "language_info": {
   "codemirror_mode": {
    "name": "ipython",
    "version": 3
   },
   "file_extension": ".py",
   "mimetype": "text/x-python",
   "name": "python",
   "nbconvert_exporter": "python",
   "pygments_lexer": "ipython3",
   "version": "3.9.0"
  }
 },
 "nbformat": 4,
 "nbformat_minor": 2
}
