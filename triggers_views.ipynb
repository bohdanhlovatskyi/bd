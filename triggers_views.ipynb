{
    "metadata": {
        "kernelspec": {
            "name": "SQL",
            "display_name": "SQL",
            "language": "sql"
        },
        "language_info": {
            "name": "sql",
            "version": ""
        }
    },
    "nbformat_minor": 2,
    "nbformat": 4,
    "cells": [
        {
            "cell_type": "code",
            "source": [
                "SELECT 2 + 2;"
            ],
            "metadata": {
                "azdata_cell_guid": "022416d8-dd10-43a5-9f23-62abc33ba4b6"
            },
            "outputs": [
                {
                    "output_type": "display_data",
                    "data": {
                        "text/html": "(1 row affected)"
                    },
                    "metadata": {}
                },
                {
                    "output_type": "display_data",
                    "data": {
                        "text/html": "Total execution time: 00:00:00.054"
                    },
                    "metadata": {}
                },
                {
                    "output_type": "execute_result",
                    "metadata": {},
                    "execution_count": 1,
                    "data": {
                        "application/vnd.dataresource+json": {
                            "schema": {
                                "fields": [
                                    {
                                        "name": "(No column name)"
                                    }
                                ]
                            },
                            "data": [
                                {
                                    "0": "4"
                                }
                            ]
                        },
                        "text/html": [
                            "<table>",
                            "<tr><th>(No column name)</th></tr>",
                            "<tr><td>4</td></tr>",
                            "</table>"
                        ]
                    }
                }
            ],
            "execution_count": 1
        },
        {
            "cell_type": "code",
            "source": [
                "-- stored procedures\n",
                "-- group commands into logical unit\n",
                "    -- can reduce network traffic\n",
                "    -- code reusability\n",
                "    -- stabilizing influence on query response time (\n",
                "    -- procedures are cached)\n",
                "-- custom and system defined stored procedures\n",
                "-- cons: businees logic now is on the base side, we cannot properly test it\n",
                ""
            ],
            "metadata": {
                "azdata_cell_guid": "506e2a28-c146-44cd-aeb9-e689b6cb5ed0"
            },
            "outputs": [],
            "execution_count": null
        },
        {
            "cell_type": "code",
            "source": [
                "CREATE PROCEDURE dbo.uspBHTotalDues\n",
                "    @CustomereID INT = -1,\n",
                "    @Count INT OUTPUT\n",
                "AS BEGIN\n",
                "Print 'Hello world';\n",
                "END"
            ],
            "metadata": {
                "azdata_cell_guid": "83b5651a-3db9-4660-815e-d31b77089ea2"
            },
            "outputs": [
                {
                    "output_type": "display_data",
                    "data": {
                        "text/html": "Commands completed successfully."
                    },
                    "metadata": {}
                },
                {
                    "output_type": "display_data",
                    "data": {
                        "text/html": "Total execution time: 00:00:00.155"
                    },
                    "metadata": {}
                }
            ],
            "execution_count": 18
        },
        {
            "cell_type": "code",
            "source": [
                "ALTER PROCEDURE dbo.uspBHTotalDues\n",
                "    @CustomereID INT = -1,\n",
                "    @Count INT OUTPUT\n",
                "AS BEGIN\n",
                "Print 'Hello world' + CONVERT(NVARCHAR(60), @CustomereID);\n",
                "END"
            ],
            "metadata": {
                "azdata_cell_guid": "40442cf3-165c-407e-833b-855fe0eeaeae",
                "tags": []
            },
            "outputs": [
                {
                    "output_type": "display_data",
                    "data": {
                        "text/html": "Commands completed successfully."
                    },
                    "metadata": {}
                },
                {
                    "output_type": "display_data",
                    "data": {
                        "text/html": "Total execution time: 00:00:00.076"
                    },
                    "metadata": {}
                }
            ],
            "execution_count": 3
        },
        {
            "cell_type": "code",
            "source": [
                "DECLARE @Count1 INT, @ReturnValue INT;\n",
                "EXEC @ReturnValue = [dbo.uspBHTotalDues]\n",
                "     @Count = @Count1 OUTPUT;\n",
                "\n",
                "SELECT @Count1 AS N'@Count'\n",
                "SELECT 'Return Value' = @ReturnValue\n",
                "GO"
            ],
            "metadata": {
                "azdata_cell_guid": "6c046711-8ad7-43bf-8da7-7620b09332c8",
                "tags": [
                    "hide_input"
                ]
            },
            "outputs": [
                {
                    "output_type": "display_data",
                    "data": {
                        "text/html": "(1 row affected)"
                    },
                    "metadata": {}
                },
                {
                    "output_type": "display_data",
                    "data": {
                        "text/html": "(1 row affected)"
                    },
                    "metadata": {}
                },
                {
                    "output_type": "display_data",
                    "data": {
                        "text/html": "Total execution time: 00:00:00.091"
                    },
                    "metadata": {}
                },
                {
                    "output_type": "execute_result",
                    "metadata": {},
                    "execution_count": 20,
                    "data": {
                        "application/vnd.dataresource+json": {
                            "schema": {
                                "fields": [
                                    {
                                        "name": "@Count"
                                    }
                                ]
                            },
                            "data": [
                                {
                                    "0": "NULL"
                                }
                            ]
                        },
                        "text/html": [
                            "<table>",
                            "<tr><th>@Count</th></tr>",
                            "<tr><td>NULL</td></tr>",
                            "</table>"
                        ]
                    }
                },
                {
                    "output_type": "execute_result",
                    "metadata": {},
                    "execution_count": 20,
                    "data": {
                        "application/vnd.dataresource+json": {
                            "schema": {
                                "fields": [
                                    {
                                        "name": "Return Value"
                                    }
                                ]
                            },
                            "data": [
                                {
                                    "0": "NULL"
                                }
                            ]
                        },
                        "text/html": [
                            "<table>",
                            "<tr><th>Return Value</th></tr>",
                            "<tr><td>NULL</td></tr>",
                            "</table>"
                        ]
                    }
                },
                {
                    "output_type": "error",
                    "evalue": "Msg 2812, Level 16, State 62, Line 2\nCould not find stored procedure 'dbo.uspBHTotalDues'.",
                    "ename": "",
                    "traceback": []
                }
            ],
            "execution_count": 20
        },
        {
            "cell_type": "code",
            "source": [
                "DROP PROCEDURE dbo.uspBHTotalDues"
            ],
            "metadata": {
                "azdata_cell_guid": "a2693b0c-5c53-497f-b96a-e534b5a55ebd"
            },
            "outputs": [
                {
                    "output_type": "display_data",
                    "data": {
                        "text/html": "Commands completed successfully."
                    },
                    "metadata": {}
                },
                {
                    "output_type": "display_data",
                    "data": {
                        "text/html": "Total execution time: 00:00:00.058"
                    },
                    "metadata": {}
                }
            ],
            "execution_count": 21
        },
        {
            "cell_type": "code",
            "source": [
                "-- User Defined Functions (UDF) and types (UDT)\n",
                "-- can be used in select, runs for each row (not always ?)\n",
                "-- create aliases: account number for nvarchar(14);\n",
                "-- return one value\n",
                "-- accept one or more values\n",
                "-- if, while, could not change date, could call other functions"
            ],
            "metadata": {
                "azdata_cell_guid": "d96c80fc-a72e-41bc-ae4d-c3524d46e6c6",
                "tags": []
            },
            "outputs": [],
            "execution_count": null
        },
        {
            "cell_type": "code",
            "source": [
                "-- returns some value for id\n",
                "CREATE FUNCTION dbo.udf_BH_Adresses\n",
                "(@BusinessEntityID int)\n",
                "RETURNS TABLE AS RETURN (\n",
                "    SELECT *\n",
                "    FROM Person.Person\n",
                "    WHERE BusinessEntityID = @BusinessEntityID\n",
                ")"
            ],
            "metadata": {
                "azdata_cell_guid": "183c3f86-e844-405e-9e15-0a5ca459b413"
            },
            "outputs": [
                {
                    "output_type": "error",
                    "evalue": "Msg 2714, Level 16, State 3, Procedure udf_BH_Adresses, Line 2\nThere is already an object named 'udf_BH_Adresses' in the database.",
                    "ename": "",
                    "traceback": []
                },
                {
                    "output_type": "display_data",
                    "data": {
                        "text/html": "Total execution time: 00:00:00.060"
                    },
                    "metadata": {}
                }
            ],
            "execution_count": 30
        },
        {
            "cell_type": "code",
            "source": [
                "SELECT TOP 1 * FROM Person.Person"
            ],
            "metadata": {
                "azdata_cell_guid": "f70638e6-8d7b-4780-8e75-7821efd0b7e6"
            },
            "outputs": [
                {
                    "output_type": "display_data",
                    "data": {
                        "text/html": "(1 row affected)"
                    },
                    "metadata": {}
                },
                {
                    "output_type": "display_data",
                    "data": {
                        "text/html": "Total execution time: 00:00:00.108"
                    },
                    "metadata": {}
                },
                {
                    "output_type": "execute_result",
                    "metadata": {},
                    "execution_count": 25,
                    "data": {
                        "application/vnd.dataresource+json": {
                            "schema": {
                                "fields": [
                                    {
                                        "name": "BusinessEntityID"
                                    },
                                    {
                                        "name": "PersonType"
                                    },
                                    {
                                        "name": "NameStyle"
                                    },
                                    {
                                        "name": "Title"
                                    },
                                    {
                                        "name": "FirstName"
                                    },
                                    {
                                        "name": "MiddleName"
                                    },
                                    {
                                        "name": "LastName"
                                    },
                                    {
                                        "name": "Suffix"
                                    },
                                    {
                                        "name": "EmailPromotion"
                                    },
                                    {
                                        "name": "AdditionalContactInfo"
                                    },
                                    {
                                        "name": "Demographics"
                                    },
                                    {
                                        "name": "rowguid"
                                    },
                                    {
                                        "name": "ModifiedDate"
                                    }
                                ]
                            },
                            "data": [
                                {
                                    "0": "1",
                                    "1": "EM",
                                    "2": "0",
                                    "3": "NULL",
                                    "4": "Ken",
                                    "5": "J",
                                    "6": "Sánchez",
                                    "7": "NULL",
                                    "8": "0",
                                    "9": "NULL",
                                    "10": "<IndividualSurvey xmlns=\"http://schemas.microsoft.com/sqlserver/2004/07/adventure-works/IndividualSurvey\"><TotalPurchaseYTD>0</TotalPurchaseYTD></IndividualSurvey>",
                                    "11": "92c4279f-1207-48a3-8448-4636514eb7e2",
                                    "12": "2003-02-08 00:00:00.000"
                                }
                            ]
                        },
                        "text/html": [
                            "<table>",
                            "<tr><th>BusinessEntityID</th><th>PersonType</th><th>NameStyle</th><th>Title</th><th>FirstName</th><th>MiddleName</th><th>LastName</th><th>Suffix</th><th>EmailPromotion</th><th>AdditionalContactInfo</th><th>Demographics</th><th>rowguid</th><th>ModifiedDate</th></tr>",
                            "<tr><td>1</td><td>EM</td><td>0</td><td>NULL</td><td>Ken</td><td>J</td><td>Sánchez</td><td>NULL</td><td>0</td><td>NULL</td><td>&lt;IndividualSurvey xmlns=&quot;http://schemas.microsoft.com/sqlserver/2004/07/adventure-works/IndividualSurvey&quot;&gt;&lt;TotalPurchaseYTD&gt;0&lt;/TotalPurchaseYTD&gt;&lt;/IndividualSurvey&gt;</td><td>92c4279f-1207-48a3-8448-4636514eb7e2</td><td>2003-02-08 00:00:00.000</td></tr>",
                            "</table>"
                        ]
                    }
                }
            ],
            "execution_count": 25
        },
        {
            "cell_type": "code",
            "source": [
                "-- this one seems to be very slow, as it runs for each row in the table\n",
                "SELECT * FROM dbo.udf_BH_Adresses(1)"
            ],
            "metadata": {
                "azdata_cell_guid": "9a6be2ec-dfd4-4013-be15-dbb75f53e479"
            },
            "outputs": [
                {
                    "output_type": "display_data",
                    "data": {
                        "text/html": "(1 row affected)"
                    },
                    "metadata": {}
                },
                {
                    "output_type": "display_data",
                    "data": {
                        "text/html": "Total execution time: 00:00:00.065"
                    },
                    "metadata": {}
                },
                {
                    "output_type": "execute_result",
                    "metadata": {},
                    "execution_count": 32,
                    "data": {
                        "application/vnd.dataresource+json": {
                            "schema": {
                                "fields": [
                                    {
                                        "name": "BusinessEntityID"
                                    },
                                    {
                                        "name": "PersonType"
                                    },
                                    {
                                        "name": "NameStyle"
                                    },
                                    {
                                        "name": "Title"
                                    },
                                    {
                                        "name": "FirstName"
                                    },
                                    {
                                        "name": "MiddleName"
                                    },
                                    {
                                        "name": "LastName"
                                    },
                                    {
                                        "name": "Suffix"
                                    },
                                    {
                                        "name": "EmailPromotion"
                                    },
                                    {
                                        "name": "AdditionalContactInfo"
                                    },
                                    {
                                        "name": "Demographics"
                                    },
                                    {
                                        "name": "rowguid"
                                    },
                                    {
                                        "name": "ModifiedDate"
                                    }
                                ]
                            },
                            "data": [
                                {
                                    "0": "1",
                                    "1": "EM",
                                    "2": "0",
                                    "3": "NULL",
                                    "4": "Ken",
                                    "5": "J",
                                    "6": "Sánchez",
                                    "7": "NULL",
                                    "8": "0",
                                    "9": "NULL",
                                    "10": "<IndividualSurvey xmlns=\"http://schemas.microsoft.com/sqlserver/2004/07/adventure-works/IndividualSurvey\"><TotalPurchaseYTD>0</TotalPurchaseYTD></IndividualSurvey>",
                                    "11": "92c4279f-1207-48a3-8448-4636514eb7e2",
                                    "12": "2003-02-08 00:00:00.000"
                                }
                            ]
                        },
                        "text/html": [
                            "<table>",
                            "<tr><th>BusinessEntityID</th><th>PersonType</th><th>NameStyle</th><th>Title</th><th>FirstName</th><th>MiddleName</th><th>LastName</th><th>Suffix</th><th>EmailPromotion</th><th>AdditionalContactInfo</th><th>Demographics</th><th>rowguid</th><th>ModifiedDate</th></tr>",
                            "<tr><td>1</td><td>EM</td><td>0</td><td>NULL</td><td>Ken</td><td>J</td><td>Sánchez</td><td>NULL</td><td>0</td><td>NULL</td><td>&lt;IndividualSurvey xmlns=&quot;http://schemas.microsoft.com/sqlserver/2004/07/adventure-works/IndividualSurvey&quot;&gt;&lt;TotalPurchaseYTD&gt;0&lt;/TotalPurchaseYTD&gt;&lt;/IndividualSurvey&gt;</td><td>92c4279f-1207-48a3-8448-4636514eb7e2</td><td>2003-02-08 00:00:00.000</td></tr>",
                            "</table>"
                        ]
                    }
                }
            ],
            "execution_count": 32
        },
        {
            "cell_type": "code",
            "source": [
                "DROP FUNCTION dbo.udf_BH_Adresses;"
            ],
            "metadata": {
                "azdata_cell_guid": "6c39422c-ec5b-435e-97a6-17c7f996b80a"
            },
            "outputs": [
                {
                    "output_type": "display_data",
                    "data": {
                        "text/html": "Commands completed successfully."
                    },
                    "metadata": {}
                },
                {
                    "output_type": "display_data",
                    "data": {
                        "text/html": "Total execution time: 00:00:00.086"
                    },
                    "metadata": {}
                }
            ],
            "execution_count": 34
        },
        {
            "cell_type": "code",
            "source": [
                "IF OBJECT_ID('dbo.udfBHSum') IS NOT NULL BEGIN\n",
                "    DROP FUNCTION dbo.udfBHSum;\n",
                "END;\n",
                "GO"
            ],
            "metadata": {
                "azdata_cell_guid": "b0f81736-6e83-46f2-9069-fd98609c94ab"
            },
            "outputs": [
                {
                    "output_type": "display_data",
                    "data": {
                        "text/html": "Commands completed successfully."
                    },
                    "metadata": {}
                },
                {
                    "output_type": "display_data",
                    "data": {
                        "text/html": "Total execution time: 00:00:00.059"
                    },
                    "metadata": {}
                }
            ],
            "execution_count": 35
        },
        {
            "cell_type": "code",
            "source": [
                "CREATE FUNCTION dbo.udfBHSum (@a INT, @b INT)\n",
                "RETURNS INT AS BEGIN \n",
                "    RETURN @a + @b;\n",
                "END;"
            ],
            "metadata": {
                "azdata_cell_guid": "28c82b52-6d16-446f-98ea-f2b7ea7b3dd4"
            },
            "outputs": [
                {
                    "output_type": "display_data",
                    "data": {
                        "text/html": "Commands completed successfully."
                    },
                    "metadata": {}
                },
                {
                    "output_type": "display_data",
                    "data": {
                        "text/html": "Total execution time: 00:00:00.076"
                    },
                    "metadata": {}
                }
            ],
            "execution_count": 38
        },
        {
            "cell_type": "code",
            "source": [
                "SELECT dbo.udfBHSum(11, 12)"
            ],
            "metadata": {
                "azdata_cell_guid": "eff74be3-0e92-47d1-9c9e-478c19e79ae7"
            },
            "outputs": [
                {
                    "output_type": "display_data",
                    "data": {
                        "text/html": "(1 row affected)"
                    },
                    "metadata": {}
                },
                {
                    "output_type": "display_data",
                    "data": {
                        "text/html": "Total execution time: 00:00:00.071"
                    },
                    "metadata": {}
                },
                {
                    "output_type": "execute_result",
                    "metadata": {},
                    "execution_count": 40,
                    "data": {
                        "application/vnd.dataresource+json": {
                            "schema": {
                                "fields": [
                                    {
                                        "name": "(No column name)"
                                    }
                                ]
                            },
                            "data": [
                                {
                                    "0": "23"
                                }
                            ]
                        },
                        "text/html": [
                            "<table>",
                            "<tr><th>(No column name)</th></tr>",
                            "<tr><td>23</td></tr>",
                            "</table>"
                        ]
                    }
                }
            ],
            "execution_count": 40
        },
        {
            "cell_type": "code",
            "source": [
                "DROP FUNCTION dbo.udfBHSum;"
            ],
            "metadata": {
                "azdata_cell_guid": "3a8f0199-1947-4dbf-ae28-03c76eb89475"
            },
            "outputs": [
                {
                    "output_type": "display_data",
                    "data": {
                        "text/html": "Commands completed successfully."
                    },
                    "metadata": {}
                },
                {
                    "output_type": "display_data",
                    "data": {
                        "text/html": "Total execution time: 00:00:00.064"
                    },
                    "metadata": {}
                }
            ],
            "execution_count": 41
        },
        {
            "cell_type": "code",
            "source": [
                "-- views : base level api for filtering data (select + filter + join)\n",
                "-- allow some users to work with views, but not with tables directly\n",
                "-- stored procedures are better from the point of efficienccy\n",
                "-- (execution plan can be cached for them)"
            ],
            "metadata": {
                "azdata_cell_guid": "049dafb4-eabe-44b9-8dfc-5fc9b3a931de"
            },
            "outputs": [],
            "execution_count": null
        },
        {
            "cell_type": "code",
            "source": [
                "CREATE VIEW dbo.vBH AS (\n",
                "    SELECT * FROM Person.Person\n",
                ")"
            ],
            "metadata": {
                "azdata_cell_guid": "6050f544-3e49-4d17-a117-5333485173d1"
            },
            "outputs": [
                {
                    "output_type": "display_data",
                    "data": {
                        "text/html": "Commands completed successfully."
                    },
                    "metadata": {}
                },
                {
                    "output_type": "display_data",
                    "data": {
                        "text/html": "Total execution time: 00:00:00.107"
                    },
                    "metadata": {}
                }
            ],
            "execution_count": 42
        },
        {
            "cell_type": "code",
            "source": [
                "SELECT TOP 1 * FROM dbo.vBH"
            ],
            "metadata": {
                "azdata_cell_guid": "3aad777d-ef6b-4605-9223-72ab567ff1e7"
            },
            "outputs": [
                {
                    "output_type": "display_data",
                    "data": {
                        "text/html": "(1 row affected)"
                    },
                    "metadata": {}
                },
                {
                    "output_type": "display_data",
                    "data": {
                        "text/html": "Total execution time: 00:00:00.089"
                    },
                    "metadata": {}
                },
                {
                    "output_type": "execute_result",
                    "metadata": {},
                    "execution_count": 45,
                    "data": {
                        "application/vnd.dataresource+json": {
                            "schema": {
                                "fields": [
                                    {
                                        "name": "BusinessEntityID"
                                    },
                                    {
                                        "name": "PersonType"
                                    },
                                    {
                                        "name": "NameStyle"
                                    },
                                    {
                                        "name": "Title"
                                    },
                                    {
                                        "name": "FirstName"
                                    },
                                    {
                                        "name": "MiddleName"
                                    },
                                    {
                                        "name": "LastName"
                                    },
                                    {
                                        "name": "Suffix"
                                    },
                                    {
                                        "name": "EmailPromotion"
                                    },
                                    {
                                        "name": "AdditionalContactInfo"
                                    },
                                    {
                                        "name": "Demographics"
                                    },
                                    {
                                        "name": "rowguid"
                                    },
                                    {
                                        "name": "ModifiedDate"
                                    }
                                ]
                            },
                            "data": [
                                {
                                    "0": "1",
                                    "1": "EM",
                                    "2": "0",
                                    "3": "NULL",
                                    "4": "Ken",
                                    "5": "J",
                                    "6": "Sánchez",
                                    "7": "NULL",
                                    "8": "0",
                                    "9": "NULL",
                                    "10": "<IndividualSurvey xmlns=\"http://schemas.microsoft.com/sqlserver/2004/07/adventure-works/IndividualSurvey\"><TotalPurchaseYTD>0</TotalPurchaseYTD></IndividualSurvey>",
                                    "11": "92c4279f-1207-48a3-8448-4636514eb7e2",
                                    "12": "2003-02-08 00:00:00.000"
                                }
                            ]
                        },
                        "text/html": [
                            "<table>",
                            "<tr><th>BusinessEntityID</th><th>PersonType</th><th>NameStyle</th><th>Title</th><th>FirstName</th><th>MiddleName</th><th>LastName</th><th>Suffix</th><th>EmailPromotion</th><th>AdditionalContactInfo</th><th>Demographics</th><th>rowguid</th><th>ModifiedDate</th></tr>",
                            "<tr><td>1</td><td>EM</td><td>0</td><td>NULL</td><td>Ken</td><td>J</td><td>Sánchez</td><td>NULL</td><td>0</td><td>NULL</td><td>&lt;IndividualSurvey xmlns=&quot;http://schemas.microsoft.com/sqlserver/2004/07/adventure-works/IndividualSurvey&quot;&gt;&lt;TotalPurchaseYTD&gt;0&lt;/TotalPurchaseYTD&gt;&lt;/IndividualSurvey&gt;</td><td>92c4279f-1207-48a3-8448-4636514eb7e2</td><td>2003-02-08 00:00:00.000</td></tr>",
                            "</table>"
                        ]
                    }
                }
            ],
            "execution_count": 45
        },
        {
            "cell_type": "code",
            "source": [
                "DROP VIEW dbo.vBH;"
            ],
            "metadata": {
                "azdata_cell_guid": "b41b1300-c2a7-4526-99f2-a3257593b63b"
            },
            "outputs": [
                {
                    "output_type": "display_data",
                    "data": {
                        "text/html": "Commands completed successfully."
                    },
                    "metadata": {}
                },
                {
                    "output_type": "display_data",
                    "data": {
                        "text/html": "Total execution time: 00:00:00.055"
                    },
                    "metadata": {}
                }
            ],
            "execution_count": 47
        },
        {
            "cell_type": "code",
            "source": [
                "-- triggers"
            ],
            "metadata": {
                "azdata_cell_guid": "84ce2094-21b7-4102-9c5d-89f646d8ebe9"
            },
            "outputs": [],
            "execution_count": null
        }
    ]
}