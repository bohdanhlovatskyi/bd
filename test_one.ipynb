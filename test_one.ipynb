{
    "metadata": {
        "kernelspec": {
            "name": "SQL",
            "display_name": "SQL",
            "language": "sql"
        },
        "language_info": {
            "name": "sql",
            "version": ""
        }
    },
    "nbformat_minor": 2,
    "nbformat": 4,
    "cells": [
        {
            "cell_type": "code",
            "source": [
                "SELECT 2 + 2;"
            ],
            "metadata": {
                "azdata_cell_guid": "1af22b53-c98a-45bb-8039-d74a54c491d7"
            },
            "outputs": [],
            "execution_count": null
        },
        {
            "cell_type": "markdown",
            "source": [
                "Display average age of employees separately for men and woman. Please consider all employees hired for 2003 year."
            ],
            "metadata": {
                "azdata_cell_guid": "f7d96068-5a55-49ea-8e8f-315a31a41a51"
            },
            "attachments": {}
        },
        {
            "cell_type": "code",
            "source": [
                "SELECT Gender, AVG(DATEDIFF(YEAR, BirthDate, GETDATE())) [Avg age]\n",
                "FROM HumanResources.Employee\n",
                "GROUP BY Gender"
            ],
            "metadata": {
                "azdata_cell_guid": "63c777fa-ac7a-496e-8925-eac326c7bda7"
            },
            "outputs": [],
            "execution_count": null
        },
        {
            "cell_type": "markdown",
            "source": [
                "Display top 3 employees’ first and last names where rate was changed more than two times. Additionally, to name please print count of rate’s changes, max rate and last date when it was changed"
            ],
            "metadata": {
                "azdata_cell_guid": "d55cba92-7188-44a5-b5f6-68c8d2fe57d9"
            },
            "attachments": {}
        },
        {
            "cell_type": "code",
            "source": [
                "SELECT TOP 3 FirstName, LastName,\n",
                " COUNT(e.BusinessEntityID) [count of rate changes],\n",
                " MAX(ph.Rate) [max rate]\n",
                "FROM HumanResources.Employee AS e\n",
                "JOIN Person.Person AS p\n",
                "ON e.BusinessEntityID = p.BusinessEntityID\n",
                "JOIN HumanResources.EmployeePayHistory AS ph\n",
                "ON e.BusinessEntityID = ph.BusinessEntityID\n",
                "GROUP BY FirstName, LastName\n",
                "HAVING COUNT(ph.BusinessEntityID) > 2"
            ],
            "metadata": {
                "azdata_cell_guid": "7b80406e-6194-4c53-9e82-6e1655c955f4",
                "tags": [
                    "hide_input"
                ]
            },
            "outputs": [
                {
                    "output_type": "display_data",
                    "data": {
                        "text/html": "(3 rows affected)"
                    },
                    "metadata": {}
                },
                {
                    "output_type": "display_data",
                    "data": {
                        "text/html": "Total execution time: 00:00:00.059"
                    },
                    "metadata": {}
                },
                {
                    "output_type": "execute_result",
                    "metadata": {},
                    "execution_count": 170,
                    "data": {
                        "application/vnd.dataresource+json": {
                            "schema": {
                                "fields": [
                                    {
                                        "name": "FirstName"
                                    },
                                    {
                                        "name": "LastName"
                                    },
                                    {
                                        "name": "count of rate changes"
                                    },
                                    {
                                        "name": "max rate"
                                    }
                                ]
                            },
                            "data": [
                                {
                                    "0": "Wanida",
                                    "1": "Benshoof",
                                    "2": "10",
                                    "3": "150.00"
                                },
                                {
                                    "0": "David",
                                    "1": "Bradley",
                                    "2": "10",
                                    "3": "150.00"
                                },
                                {
                                    "0": "Kevin",
                                    "1": "Brown",
                                    "2": "10",
                                    "3": "150.00"
                                }
                            ]
                        },
                        "text/html": [
                            "<table>",
                            "<tr><th>FirstName</th><th>LastName</th><th>count of rate changes</th><th>max rate</th></tr>",
                            "<tr><td>Wanida</td><td>Benshoof</td><td>10</td><td>150.00</td></tr>",
                            "<tr><td>David</td><td>Bradley</td><td>10</td><td>150.00</td></tr>",
                            "<tr><td>Kevin</td><td>Brown</td><td>10</td><td>150.00</td></tr>",
                            "</table>"
                        ]
                    }
                }
            ],
            "execution_count": 170
        },
        {
            "cell_type": "code",
            "source": [
                ""
            ],
            "metadata": {
                "azdata_cell_guid": "d0bf3f1a-fd17-4e37-9f21-88701a9052f8"
            },
            "outputs": [],
            "execution_count": null
        },
        {
            "cell_type": "markdown",
            "source": [
                "Add new records to define new rate (150) with rate change date equals to current date for all employees whose Job Title contains ‘Marketing’ \n",
                ""
            ],
            "metadata": {
                "azdata_cell_guid": "444e258f-9878-492d-bd70-223a7a1838a9"
            },
            "attachments": {}
        },
        {
            "cell_type": "code",
            "source": [
                "UPDATE HumanResources.EmployeePayHistory\n",
                "SET Rate = 150\n",
                "WHERE BusinessEntityID in (\n",
                "    SELECT e.BusinessEntityID\n",
                "    FROM HumanResources.Employee AS e\n",
                "    JOIN HumanResources.EmployeePayHistory AS h\n",
                "    ON e.BusinessEntityID = h.BusinessEntityID\n",
                "    WHERE JobTitle = 'Marketing' AND RateChangeDate = GETDATE()\n",
                ")"
            ],
            "metadata": {
                "azdata_cell_guid": "f5acaba5-0e65-4fa0-b923-55cf5bf0db47"
            },
            "outputs": [],
            "execution_count": null
        },
        {
            "cell_type": "markdown",
            "source": [
                "Delete all records with information about rates’ changes modified ‘today’ \n",
                ""
            ],
            "metadata": {
                "azdata_cell_guid": "c2440006-fbc8-48d4-81ee-e231518c33c7"
            },
            "attachments": {}
        },
        {
            "cell_type": "code",
            "source": [
                "DELETE FROM HumanResources.EmployeePayHistory\n",
                "WHERE RateChangeDate = GETDATE()"
            ],
            "metadata": {
                "azdata_cell_guid": "d51d8438-c70a-48a3-9578-f19ed278e96f"
            },
            "outputs": [],
            "execution_count": null
        },
        {
            "cell_type": "markdown",
            "source": [
                "Change constraints for Rate setting it in range from 10 till 200\n",
                ""
            ],
            "metadata": {
                "azdata_cell_guid": "13331c96-ea5a-4565-b39b-c84a6309f313"
            },
            "attachments": {}
        },
        {
            "cell_type": "code",
            "source": [
                "DELETE FROM HumanResources.EmployeePayHistory\n",
                "WHERE Rate < 10 or RATE > 200;\n",
                "\n",
                "ALTER TABLE HumanResources.EmployeePayHistory\n",
                "ADD CONSTRAINT Rate_Constr CHECK (Rate BETWEEN 10 AND 200);"
            ],
            "metadata": {
                "azdata_cell_guid": "d5200db4-319d-42d7-a477-9eba25553c6e",
                "tags": []
            },
            "outputs": [],
            "execution_count": null
        },
        {
            "cell_type": "markdown",
            "source": [
                "Display information about orders with total order qty more than 10. Besides, I would like to see only orders shipped to France, Germany or United Kingdom. Please display order Id, total quantity count, order date, customer’s first name and customer’s last name and salesperson’s name (first name + last name) if it is available and territory’s name.\n",
                ""
            ],
            "metadata": {
                "azdata_cell_guid": "23383e26-6fa3-4efc-a875-ee0d835275a6"
            },
            "attachments": {}
        },
        {
            "cell_type": "code",
            "source": [
                "SELECT d.SalesOrderID, OrderQty, h.OrderDate, p.FirstName, p.LastName,\n",
                "pp.FirstName + ' ' + pp.[LastName] [person name], t.Name\n",
                "FROM Sales.SalesOrderDetail AS d\n",
                "JOIN Sales.SalesOrderHeader AS h\n",
                "ON d.SalesOrderID = h.SalesOrderID\n",
                "JOIN Sales.Customer AS c\n",
                "ON h.CustomerID = c.CustomerID\n",
                "JOIN Person.Person AS p\n",
                "ON c.PersonID = p.BusinessEntityID\n",
                "JOIN Sales.SalesPerson as sp\n",
                "ON sp.BusinessEntityID = h.SalesPersonID\n",
                "JOIN Person.Person AS pp\n",
                "ON pp.BusinessEntityID = sp.BusinessEntityID\n",
                "JOIN Sales.SalesTerritory AS t\n",
                "ON t.TerritoryID = h.TerritoryID\n",
                "WHERE OrderQty > 10 AND t.Name in ('France', 'Germany', 'United Kingdom')"
            ],
            "metadata": {
                "azdata_cell_guid": "fe13cdfa-0dd3-4dbe-807e-86dfaf49d8c5",
                "tags": [
                    "hide_input"
                ]
            },
            "outputs": [],
            "execution_count": null
        },
        {
            "cell_type": "markdown",
            "source": [
                "Display information how much each customer (customer’s name) from US spent for shipping of his/her orders. Please consider only orders made in 2005, 2007, 2008 years. \n",
                ""
            ],
            "metadata": {
                "azdata_cell_guid": "940ec055-9140-44b7-8a0e-94a59d5e81db"
            },
            "attachments": {}
        },
        {
            "cell_type": "code",
            "source": [
                "SELECT FirstName + ' ' + LastName [Name],\n",
                "    SUM(Freight) OVER (PARTITION BY h.CustomerID) [Total shipping],\n",
                "    t.Name, h.OrderDate\n",
                "FROM Sales.Customer AS c\n",
                "JOIN Person.Person AS p\n",
                "ON c.PersonID = p.BusinessEntityID\n",
                "JOIN Sales.SalesOrderHeader AS h\n",
                "ON c.CustomerID = h.CustomerID\n",
                "JOIN Sales.SalesTerritory AS t\n",
                "ON t.TerritoryID = c.TerritoryID\n",
                "WHERE t.Name = 'Canada' AND YEAR(h.OrderDate) in (2005, 2007, 2008)"
            ],
            "metadata": {
                "azdata_cell_guid": "5df21876-1502-40b4-91e7-0c665867610f"
            },
            "outputs": [],
            "execution_count": null
        },
        {
            "cell_type": "markdown",
            "source": [
                "Display information about customer and products’ which they ordered. However, we want to see the order with minimum total amount. Please display customer’s name, product name and total amount. Please consider only orders which was shipped in times without any delays.\n",
                ""
            ],
            "metadata": {
                "azdata_cell_guid": "98f77c22-eeb8-417d-ab4f-e19babd859ce"
            },
            "attachments": {}
        },
        {
            "cell_type": "code",
            "source": [
                "SELECT * \n",
                "FROM\n",
                "(SELECT p.FirstName, TotalDue, prod.Name,\n",
                "RANK() OVER (ORDER BY TotalDue) AS [RANK]\n",
                "FROM Sales.Customer AS c\n",
                "JOIN Person.Person AS p\n",
                "ON c.PersonID = p.BusinessEntityID\n",
                "JOIN Sales.SalesOrderHeader AS h\n",
                "ON c.CustomerID = h.CustomerID\n",
                "JOIN Sales.SalesOrderDetail AS d \n",
                "ON d.SalesOrderID = h.SalesOrderID\n",
                "JOIN Production.Product AS prod \n",
                "ON d.ProductID = prod.ProductID\n",
                "WHERE h.ShipDate <= h.DueDate) t\n",
                "WHERE [RANK] in (1, 2)"
            ],
            "metadata": {
                "azdata_cell_guid": "ab1fd0f9-c997-495a-92d2-e55f96f2ae05"
            },
            "outputs": [],
            "execution_count": null
        },
        {
            "cell_type": "markdown",
            "source": [
                "We want to update TaxRate in 2 times for provinces from the list:  AL, AR, AS, AZ , CA , CO\n",
                ""
            ],
            "metadata": {
                "azdata_cell_guid": "4303abc6-7c4a-4f73-856c-4006c2ee9bf7"
            },
            "attachments": {}
        },
        {
            "cell_type": "code",
            "source": [
                "UPDATE Sales.SalesTaxRate\n",
                "SET TaxRate = 2 * TaxRate\n",
                "WHERE SalesTaxRateID in (\n",
                "    SELECT tr.SalesTaxRateID\n",
                "    FROM Sales.SalesTaxRate AS tr\n",
                "    JOIN Person.StateProvince AS sp\n",
                "    ON tr.StateProvinceID = sp.StateProvinceID\n",
                "    WHERE sp.StateProvinceCode in ('AL', 'AR', 'AS', 'AZ' , 'CA' , 'CO')\n",
                ")  "
            ],
            "metadata": {
                "azdata_cell_guid": "7d916979-baf7-4b33-9959-1cd19bb536d2"
            },
            "outputs": [
                {
                    "output_type": "display_data",
                    "data": {
                        "text/html": "(2 rows affected)"
                    },
                    "metadata": {}
                },
                {
                    "output_type": "display_data",
                    "data": {
                        "text/html": "Total execution time: 00:00:00.364"
                    },
                    "metadata": {}
                }
            ],
            "execution_count": 85
        },
        {
            "cell_type": "markdown",
            "source": [
                "Display information about measurable by size products where price for them was changed more than 2 times. Want to see name, and maximum cost.\n",
                ""
            ],
            "metadata": {
                "azdata_cell_guid": "b1633821-e5cf-4df8-bf35-4d799fc6f4fd"
            },
            "attachments": {}
        },
        {
            "cell_type": "code",
            "source": [
                "SELECT [Name], COUNT(ch.ProductID),\n",
                "    max(ListPrice) OVER (PARTITION BY ch.ProductID) [Max price]\n",
                "FROM Production.Product AS p\n",
                "JOIN Production.ProductCostHistory as ch\n",
                "ON p.ProductID = ch.ProductID\n",
                "WHERE SizeUnitMeasureCode IS NOT NULL\n",
                "GROUP BY ch.ProductID, [Name], ListPrice\n",
                "HAVING COUNT(ch.ProductID) > 2;"
            ],
            "metadata": {
                "azdata_cell_guid": "8c741f63-2654-4537-ae31-1c0ef57c5042"
            },
            "outputs": [
                {
                    "output_type": "display_data",
                    "data": {
                        "text/html": "(17 rows affected)"
                    },
                    "metadata": {}
                },
                {
                    "output_type": "display_data",
                    "data": {
                        "text/html": "Total execution time: 00:00:00.066"
                    },
                    "metadata": {}
                },
                {
                    "output_type": "execute_result",
                    "metadata": {},
                    "execution_count": 111,
                    "data": {
                        "application/vnd.dataresource+json": {
                            "schema": {
                                "fields": [
                                    {
                                        "name": "Name"
                                    },
                                    {
                                        "name": "(No column name)"
                                    },
                                    {
                                        "name": "Max price"
                                    }
                                ]
                            },
                            "data": [
                                {
                                    "0": "HL Road Frame - Red, 62",
                                    "1": "3",
                                    "2": "1431.50"
                                },
                                {
                                    "0": "HL Road Frame - Red, 44",
                                    "1": "3",
                                    "2": "1431.50"
                                },
                                {
                                    "0": "HL Road Frame - Red, 48",
                                    "1": "3",
                                    "2": "1431.50"
                                },
                                {
                                    "0": "HL Road Frame - Red, 52",
                                    "1": "3",
                                    "2": "1431.50"
                                },
                                {
                                    "0": "HL Road Frame - Red, 56",
                                    "1": "3",
                                    "2": "1431.50"
                                },
                                {
                                    "0": "LL Road Frame - Black, 58",
                                    "1": "3",
                                    "2": "337.22"
                                },
                                {
                                    "0": "LL Road Frame - Black, 60",
                                    "1": "3",
                                    "2": "337.22"
                                },
                                {
                                    "0": "LL Road Frame - Black, 62",
                                    "1": "3",
                                    "2": "337.22"
                                },
                                {
                                    "0": "LL Road Frame - Black, 44",
                                    "1": "3",
                                    "2": "337.22"
                                },
                                {
                                    "0": "LL Road Frame - Black, 48",
                                    "1": "3",
                                    "2": "337.22"
                                },
                                {
                                    "0": "LL Road Frame - Black, 52",
                                    "1": "3",
                                    "2": "337.22"
                                },
                                {
                                    "0": "HL Mountain Frame - Silver, 42",
                                    "1": "3",
                                    "2": "1364.50"
                                },
                                {
                                    "0": "HL Mountain Frame - Silver, 46",
                                    "1": "3",
                                    "2": "1364.50"
                                },
                                {
                                    "0": "HL Mountain Frame - Black, 42",
                                    "1": "3",
                                    "2": "1349.60"
                                },
                                {
                                    "0": "HL Mountain Frame - Black, 46",
                                    "1": "3",
                                    "2": "1349.60"
                                },
                                {
                                    "0": "HL Mountain Frame - Black, 38",
                                    "1": "3",
                                    "2": "1349.60"
                                },
                                {
                                    "0": "HL Mountain Frame - Silver, 38",
                                    "1": "3",
                                    "2": "1364.50"
                                }
                            ]
                        },
                        "text/html": [
                            "<table>",
                            "<tr><th>Name</th><th>(No column name)</th><th>Max price</th></tr>",
                            "<tr><td>HL Road Frame - Red, 62</td><td>3</td><td>1431.50</td></tr>",
                            "<tr><td>HL Road Frame - Red, 44</td><td>3</td><td>1431.50</td></tr>",
                            "<tr><td>HL Road Frame - Red, 48</td><td>3</td><td>1431.50</td></tr>",
                            "<tr><td>HL Road Frame - Red, 52</td><td>3</td><td>1431.50</td></tr>",
                            "<tr><td>HL Road Frame - Red, 56</td><td>3</td><td>1431.50</td></tr>",
                            "<tr><td>LL Road Frame - Black, 58</td><td>3</td><td>337.22</td></tr>",
                            "<tr><td>LL Road Frame - Black, 60</td><td>3</td><td>337.22</td></tr>",
                            "<tr><td>LL Road Frame - Black, 62</td><td>3</td><td>337.22</td></tr>",
                            "<tr><td>LL Road Frame - Black, 44</td><td>3</td><td>337.22</td></tr>",
                            "<tr><td>LL Road Frame - Black, 48</td><td>3</td><td>337.22</td></tr>",
                            "<tr><td>LL Road Frame - Black, 52</td><td>3</td><td>337.22</td></tr>",
                            "<tr><td>HL Mountain Frame - Silver, 42</td><td>3</td><td>1364.50</td></tr>",
                            "<tr><td>HL Mountain Frame - Silver, 46</td><td>3</td><td>1364.50</td></tr>",
                            "<tr><td>HL Mountain Frame - Black, 42</td><td>3</td><td>1349.60</td></tr>",
                            "<tr><td>HL Mountain Frame - Black, 46</td><td>3</td><td>1349.60</td></tr>",
                            "<tr><td>HL Mountain Frame - Black, 38</td><td>3</td><td>1349.60</td></tr>",
                            "<tr><td>HL Mountain Frame - Silver, 38</td><td>3</td><td>1364.50</td></tr>",
                            "</table>"
                        ]
                    }
                }
            ],
            "execution_count": 111
        },
        {
            "cell_type": "markdown",
            "source": [
                "Add new column Expiration Date (default datetime more then 5 years) attribute to PersonCreditCard table.\n",
                ""
            ],
            "metadata": {
                "azdata_cell_guid": "319f1eca-b649-40c2-84d9-3fc50ebcc19d"
            },
            "attachments": {}
        },
        {
            "cell_type": "code",
            "source": [
                "ALTER TABLE Sales.PersonCreditCard\n",
                "ADD [Expiration Date] varchar(255) NOT NULL DEFAULT 'More then 5 years'"
            ],
            "metadata": {
                "azdata_cell_guid": "39e1737d-e8dc-4f98-a513-4b539bc8769e"
            },
            "outputs": [
                {
                    "output_type": "display_data",
                    "data": {
                        "text/html": "Commands completed successfully."
                    },
                    "metadata": {}
                },
                {
                    "output_type": "display_data",
                    "data": {
                        "text/html": "Total execution time: 00:00:00.053"
                    },
                    "metadata": {}
                }
            ],
            "execution_count": 113
        },
        {
            "cell_type": "markdown",
            "source": [
                "Write a script to delete PersonCreditCard column\n",
                ""
            ],
            "metadata": {
                "azdata_cell_guid": "fd8abac7-485a-4b0f-b772-937e64ecf236"
            },
            "attachments": {}
        },
        {
            "cell_type": "code",
            "source": [
                "DELETE [Expiration Date]\n",
                "FROM Sales.PersonCreditCard\n",
                "AS [Expiration Date]"
            ],
            "metadata": {
                "azdata_cell_guid": "ed5c65ce-7515-4a50-aabe-a0237c3d43da"
            },
            "outputs": [
                {
                    "output_type": "display_data",
                    "data": {
                        "text/html": "(19118 rows affected)"
                    },
                    "metadata": {}
                },
                {
                    "output_type": "display_data",
                    "data": {
                        "text/html": "Total execution time: 00:00:06.697"
                    },
                    "metadata": {}
                }
            ],
            "execution_count": 119
        },
        {
            "cell_type": "markdown",
            "source": [
                "Add a script to create new table with information about potential customers (schema your name, TarasKovalyk.PotentialCustomers): CustomerId (identity column), PotentialOrderDate (nullable date time column), TerritoryId (not nullable foreign key to SalesTerritory table). Add any one record to created table (please referrer it to territory associated with United Kingdom). \n",
                "\n",
                ""
            ],
            "metadata": {
                "azdata_cell_guid": "5d4b785e-e11f-4dae-8439-1fed14aabace"
            },
            "attachments": {}
        },
        {
            "cell_type": "code",
            "source": [
                "IF NOT EXISTS (\n",
                "        SELECT *\n",
                "        FROM sys.schemas\n",
                "        WHERE name = N'BohdanHlovatskyi'\n",
                "    )\n",
                "    EXEC('CREATE SCHEMA [BohdanHlovatskyi]');\n",
                "GO\n",
                "\n",
                "IF NOT EXISTS (\n",
                "    SELECT * FROM sys.objects\n",
                "    WHERE object_id = OBJECT_ID(N'BohdanHlovatskyi.PotentialCustomers') \n",
                ")\n",
                "\n",
                "BEGIN\n",
                "CREATE TABLE BohdanHlovatskyi.PotentialCustomers (\n",
                "    CustomerID int IDENTITY(1, 1) PRIMARY KEY,\n",
                "    PotentialOrderDate date,\n",
                "    TerritoryID int\n",
                "\n",
                "    CONSTRAINT BH_TerritoryID NOT NULL FOREIGN KEY(TerritoryID) REFERENCES Sales.SalesTerritory\n",
                ")\n",
                "END"
            ],
            "metadata": {
                "azdata_cell_guid": "57a127b4-189a-4d6c-9c51-a355e56069c6"
            },
            "outputs": [
                {
                    "output_type": "display_data",
                    "data": {
                        "text/html": "Commands completed successfully."
                    },
                    "metadata": {}
                },
                {
                    "output_type": "display_data",
                    "data": {
                        "text/html": "Commands completed successfully."
                    },
                    "metadata": {}
                },
                {
                    "output_type": "display_data",
                    "data": {
                        "text/html": "Total execution time: 00:00:00.278"
                    },
                    "metadata": {}
                }
            ],
            "execution_count": 123
        },
        {
            "cell_type": "code",
            "source": [
                "INSERT INTO BohdanHlovatskyi.PotentialCustomers (PotentialOrderDate, TerritoryID) \n",
                "VALUES (\n",
                "    GETDATE(), 3\n",
                ")"
            ],
            "metadata": {
                "azdata_cell_guid": "794cbf70-9490-43cd-9916-f624e46bc6f3"
            },
            "outputs": [
                {
                    "output_type": "display_data",
                    "data": {
                        "text/html": "(1 row affected)"
                    },
                    "metadata": {}
                },
                {
                    "output_type": "display_data",
                    "data": {
                        "text/html": "Total execution time: 00:00:00.157"
                    },
                    "metadata": {}
                }
            ],
            "execution_count": 126
        },
        {
            "cell_type": "code",
            "source": [
                "SELECT * FROM BohdanHlovatskyi.PotentialCustomers"
            ],
            "metadata": {
                "azdata_cell_guid": "53d2e1e0-2b77-47af-b38b-bc934d2bffc7"
            },
            "outputs": [
                {
                    "output_type": "display_data",
                    "data": {
                        "text/html": "(2 rows affected)"
                    },
                    "metadata": {}
                },
                {
                    "output_type": "display_data",
                    "data": {
                        "text/html": "Total execution time: 00:00:00.080"
                    },
                    "metadata": {}
                },
                {
                    "output_type": "execute_result",
                    "metadata": {},
                    "execution_count": 127,
                    "data": {
                        "application/vnd.dataresource+json": {
                            "schema": {
                                "fields": [
                                    {
                                        "name": "CustomerID"
                                    },
                                    {
                                        "name": "PotentialOrderDate"
                                    },
                                    {
                                        "name": "TerritoryID"
                                    }
                                ]
                            },
                            "data": [
                                {
                                    "0": "1",
                                    "1": "2022-03-21",
                                    "2": "3"
                                },
                                {
                                    "0": "2",
                                    "1": "2022-03-21",
                                    "2": "3"
                                }
                            ]
                        },
                        "text/html": [
                            "<table>",
                            "<tr><th>CustomerID</th><th>PotentialOrderDate</th><th>TerritoryID</th></tr>",
                            "<tr><td>1</td><td>2022-03-21</td><td>3</td></tr>",
                            "<tr><td>2</td><td>2022-03-21</td><td>3</td></tr>",
                            "</table>"
                        ]
                    }
                }
            ],
            "execution_count": 127
        },
        {
            "cell_type": "code",
            "source": [
                "IF EXISTS (\n",
                "    SELECT * FROM sys.objects\n",
                "    WHERE object_id = OBJECT_ID(N'BohdanHlovatskyi.PotentialCustomers') \n",
                ")\n",
                "BEGIN\n",
                "DROP TABLE BohdanHlovatskyi.PotentialCustomers\n",
                "PRINT 'Table Sucessfully Deleted'\n",
                "END\n",
                "ELSE\n",
                "BEGIN\n",
                "PRINT 'There is no such table'\n",
                "END"
            ],
            "metadata": {
                "azdata_cell_guid": "51c95cab-6310-4783-ad8d-c8fe6f7ae566"
            },
            "outputs": [
                {
                    "output_type": "display_data",
                    "data": {
                        "text/html": "There is no such table"
                    },
                    "metadata": {}
                },
                {
                    "output_type": "display_data",
                    "data": {
                        "text/html": "Total execution time: 00:00:00.048"
                    },
                    "metadata": {}
                }
            ],
            "execution_count": 133
        },
        {
            "cell_type": "code",
            "source": [
                ""
            ],
            "metadata": {
                "azdata_cell_guid": "56bb5c92-de18-4d69-9ca8-f8fe53553e32"
            },
            "outputs": [],
            "execution_count": null
        },
        {
            "cell_type": "code",
            "source": [
                ""
            ],
            "metadata": {
                "azdata_cell_guid": "9a29c3d8-b6a4-4950-983b-b4cfd0bb4227"
            },
            "outputs": [],
            "execution_count": null
        },
        {
            "cell_type": "code",
            "source": [
                ""
            ],
            "metadata": {
                "azdata_cell_guid": "b189d725-1b05-4dfc-b762-ae4d4b014435"
            },
            "outputs": [],
            "execution_count": null
        }
    ]
}