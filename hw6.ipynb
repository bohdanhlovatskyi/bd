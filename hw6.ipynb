{
    "metadata": {
        "kernelspec": {
            "name": "SQL",
            "display_name": "SQL",
            "language": "sql"
        },
        "language_info": {
            "name": "sql",
            "version": ""
        }
    },
    "nbformat_minor": 2,
    "nbformat": 4,
    "cells": [
        {
            "cell_type": "code",
            "source": [
                "SELECT 2 + 2;"
            ],
            "metadata": {
                "azdata_cell_guid": "078999eb-6832-464b-b911-0d43e90d4ee3"
            },
            "outputs": [
                {
                    "output_type": "display_data",
                    "data": {
                        "text/html": "(1 row affected)"
                    },
                    "metadata": {}
                },
                {
                    "output_type": "display_data",
                    "data": {
                        "text/html": "Total execution time: 00:00:00.063"
                    },
                    "metadata": {}
                },
                {
                    "output_type": "execute_result",
                    "metadata": {},
                    "execution_count": 1,
                    "data": {
                        "application/vnd.dataresource+json": {
                            "schema": {
                                "fields": [
                                    {
                                        "name": "(No column name)"
                                    }
                                ]
                            },
                            "data": [
                                {
                                    "0": "4"
                                }
                            ]
                        },
                        "text/html": [
                            "<table>",
                            "<tr><th>(No column name)</th></tr>",
                            "<tr><td>4</td></tr>",
                            "</table>"
                        ]
                    }
                }
            ],
            "execution_count": 1
        },
        {
            "cell_type": "markdown",
            "source": [
                "Create a view called dbo.vw_Products that displays a list of the products from the Production.Product table joined to the Production.ProductCostHistory table. Include columns that describe the product and show the cost history for each product. Test the view by creating a query that retrieves data from the view. "
            ],
            "metadata": {
                "azdata_cell_guid": "e2c7b87a-8431-4f47-953c-cc6282de43d1"
            },
            "attachments": {}
        },
        {
            "cell_type": "code",
            "source": [
                "IF OBJECT_ID('dbo.vw_BH_Products') IS NOT NULL BEGIN\n",
                "    DROP VIEW dbo.vw_BH_Products;\n",
                "END;\n",
                "GO\n",
                "\n",
                "CREATE VIEW dbo.vw_BH_Products AS (\n",
                "    SELECT p.Name, ch.StartDate, ch.StandardCost\n",
                "    FROM Production.Product AS p\n",
                "    JOIN Production.ProductCostHistory AS ch\n",
                "    ON ch.ProductID = p.ProductID\n",
                "    GROUP BY p.Name, ch.StartDate, ch.StandardCost\n",
                ");\n",
                "GO\n",
                "\n",
                "SELECT TOP 1 * FROM dbo.vw_BH_Products;\n",
                "GO\n",
                "\n",
                "DROP VIEW dbo.vw_BH_Products;\n",
                "GO"
            ],
            "metadata": {
                "azdata_cell_guid": "98f9dcc1-321e-4d59-af0f-376afeb84a19",
                "tags": []
            },
            "outputs": [
                {
                    "output_type": "display_data",
                    "data": {
                        "text/html": "Commands completed successfully."
                    },
                    "metadata": {}
                },
                {
                    "output_type": "display_data",
                    "data": {
                        "text/html": "Commands completed successfully."
                    },
                    "metadata": {}
                },
                {
                    "output_type": "display_data",
                    "data": {
                        "text/html": "(1 row affected)"
                    },
                    "metadata": {}
                },
                {
                    "output_type": "display_data",
                    "data": {
                        "text/html": "Commands completed successfully."
                    },
                    "metadata": {}
                },
                {
                    "output_type": "display_data",
                    "data": {
                        "text/html": "Total execution time: 00:00:00.264"
                    },
                    "metadata": {}
                },
                {
                    "output_type": "execute_result",
                    "metadata": {},
                    "execution_count": 48,
                    "data": {
                        "application/vnd.dataresource+json": {
                            "schema": {
                                "fields": [
                                    {
                                        "name": "Name"
                                    },
                                    {
                                        "name": "StartDate"
                                    },
                                    {
                                        "name": "StandardCost"
                                    }
                                ]
                            },
                            "data": [
                                {
                                    "0": "Sport-100 Helmet, Red",
                                    "1": "2005-07-01 00:00:00.000",
                                    "2": "12.0278"
                                }
                            ]
                        },
                        "text/html": [
                            "<table>",
                            "<tr><th>Name</th><th>StartDate</th><th>StandardCost</th></tr>",
                            "<tr><td>Sport-100 Helmet, Red</td><td>2005-07-01 00:00:00.000</td><td>12.0278</td></tr>",
                            "</table>"
                        ]
                    }
                }
            ],
            "execution_count": 48
        },
        {
            "cell_type": "markdown",
            "source": [
                "Create a view called dbo.vw_CustomerTotals that displays the total sales from the TotalDue column per year and month for each customer. Test the view by creating a query that retrieves data from the view."
            ],
            "metadata": {
                "azdata_cell_guid": "32cf7241-2789-437f-bd4e-148fb466568a"
            },
            "attachments": {}
        },
        {
            "cell_type": "code",
            "source": [
                "IF OBJECT_ID('dbo.vw_BH_CustomerTotals') IS NOT NULL BEGIN\n",
                "    DROP VIEW dbo.vw_BH_CustomerTotal;\n",
                "END;\n",
                "GO\n",
                "\n",
                "CREATE VIEW dbo.vw_BH_CustomerTotals AS (\n",
                "    SELECT c.CustomerID, OrderDate,\n",
                "     SUM(TotalDue) OVER (PARTITION BY YEAR(OrderDate), c.CustomerID) [Per Year],\n",
                "     SUM(TotalDue) OVER (PARTITION BY MONTH(OrderDate), c.CustomerID) [Per Month]\n",
                "    FROM Sales.Customer AS c\n",
                "    JOIN Sales.SalesOrderHeader AS h\n",
                "    ON c.CustomerID = h.CustomerID\n",
                ");\n",
                "GO\n",
                "\n",
                "SELECT TOP 1 * FROM dbo.vw_BH_CustomerTotals;\n",
                "GO\n",
                "\n",
                "DROP VIEW dbo.vw_BH_CustomerTotals;"
            ],
            "metadata": {
                "azdata_cell_guid": "a4535a3e-3264-4757-8692-7064a2ec59f5"
            },
            "outputs": [
                {
                    "output_type": "display_data",
                    "data": {
                        "text/html": "Commands completed successfully."
                    },
                    "metadata": {}
                },
                {
                    "output_type": "display_data",
                    "data": {
                        "text/html": "Commands completed successfully."
                    },
                    "metadata": {}
                },
                {
                    "output_type": "display_data",
                    "data": {
                        "text/html": "(1 row affected)"
                    },
                    "metadata": {}
                },
                {
                    "output_type": "display_data",
                    "data": {
                        "text/html": "Commands completed successfully."
                    },
                    "metadata": {}
                },
                {
                    "output_type": "display_data",
                    "data": {
                        "text/html": "Total execution time: 00:00:03.899"
                    },
                    "metadata": {}
                },
                {
                    "output_type": "execute_result",
                    "metadata": {},
                    "execution_count": 49,
                    "data": {
                        "application/vnd.dataresource+json": {
                            "schema": {
                                "fields": [
                                    {
                                        "name": "CustomerID"
                                    },
                                    {
                                        "name": "OrderDate"
                                    },
                                    {
                                        "name": "Per Year"
                                    },
                                    {
                                        "name": "Per Month"
                                    }
                                ]
                            },
                            "data": [
                                {
                                    "0": "11019",
                                    "1": "2008-01-24 00:00:00.000",
                                    "2": "1331.1839",
                                    "3": "85.9535"
                                }
                            ]
                        },
                        "text/html": [
                            "<table>",
                            "<tr><th>CustomerID</th><th>OrderDate</th><th>Per Year</th><th>Per Month</th></tr>",
                            "<tr><td>11019</td><td>2008-01-24 00:00:00.000</td><td>1331.1839</td><td>85.9535</td></tr>",
                            "</table>"
                        ]
                    }
                }
            ],
            "execution_count": 49
        },
        {
            "cell_type": "markdown",
            "source": [
                "Create a user-defined function called dbo.Trim that takes a VARCHAR(250) parameter. This function should trim off the spaces from both the beginning and the end of a string. Test the function.\n",
                "Hint: use IF OBJECT_ID …. Then DROP FUNCTION, besides please read and use the following function LTRIM and RTRIM"
            ],
            "metadata": {
                "azdata_cell_guid": "d4df6acd-e441-4b5d-8c1b-d757b24598fa"
            },
            "attachments": {}
        },
        {
            "cell_type": "code",
            "source": [
                "IF OBJECT_ID('dbo.udf_BH_Trim') IS NOT NULL BEGIN\n",
                "    DROP FUNCTION dbo.udf_BH_Trim;\n",
                "END;\n",
                "GO\n",
                "\n",
                "CREATE FUNCTION dbo.udf_BH_Trim (@str VARCHAR(250))\n",
                "RETURNS VARCHAR(250) AS BEGIN \n",
                "    RETURN TRIM(@str);\n",
                "END;\n",
                "GO\n",
                "\n",
                "SELECT dbo.udf_BH_Trim(' Hello there ') [Result], 'Hello there' [Test];\n",
                "GO\n",
                "\n",
                "DROP FUNCTION dbo.udf_BH_Trim;"
            ],
            "metadata": {
                "azdata_cell_guid": "74185d55-14f0-4a54-87f3-fb8d6ae5ac6c"
            },
            "outputs": [
                {
                    "output_type": "display_data",
                    "data": {
                        "text/html": "Commands completed successfully."
                    },
                    "metadata": {}
                },
                {
                    "output_type": "display_data",
                    "data": {
                        "text/html": "Commands completed successfully."
                    },
                    "metadata": {}
                },
                {
                    "output_type": "display_data",
                    "data": {
                        "text/html": "(1 row affected)"
                    },
                    "metadata": {}
                },
                {
                    "output_type": "display_data",
                    "data": {
                        "text/html": "Commands completed successfully."
                    },
                    "metadata": {}
                },
                {
                    "output_type": "display_data",
                    "data": {
                        "text/html": "Total execution time: 00:00:00.212"
                    },
                    "metadata": {}
                },
                {
                    "output_type": "execute_result",
                    "metadata": {},
                    "execution_count": 47,
                    "data": {
                        "application/vnd.dataresource+json": {
                            "schema": {
                                "fields": [
                                    {
                                        "name": "Result"
                                    },
                                    {
                                        "name": "Test"
                                    }
                                ]
                            },
                            "data": [
                                {
                                    "0": "Hello there",
                                    "1": "Hello there"
                                }
                            ]
                        },
                        "text/html": [
                            "<table>",
                            "<tr><th>Result</th><th>Test</th></tr>",
                            "<tr><td>Hello there</td><td>Hello there</td></tr>",
                            "</table>"
                        ]
                    }
                }
            ],
            "execution_count": 47
        },
        {
            "cell_type": "markdown",
            "source": [
                "Create a stored procedure called dbo.usp_CustomerTotals instead of the view from question 1. Test the stored procedure\n",
                "Hint: Use If Object_ID(…) then DROP PROCEDURE …."
            ],
            "metadata": {
                "azdata_cell_guid": "6a054267-5162-4f69-9ac8-bad4b036b2a8"
            },
            "attachments": {}
        },
        {
            "cell_type": "code",
            "source": [
                "IF OBJECT_ID('dbo.usp_BH_CustomerTotals') IS NOT NULL BEGIN\n",
                "    DROP PROCEDURE dbo.usp_BH_CustomerTotals;\n",
                "END;\n",
                "GO\n",
                "\n",
                "CREATE PROCEDURE dbo.usp_BH_CustomerTotals AS (\n",
                "    SELECT TOP 1 c.CustomerID, OrderDate,\n",
                "     SUM(TotalDue) OVER (PARTITION BY YEAR(OrderDate), c.CustomerID) [Per Year],\n",
                "     SUM(TotalDue) OVER (PARTITION BY MONTH(OrderDate), c.CustomerID) [Per Month]\n",
                "    FROM Sales.Customer AS c\n",
                "    JOIN Sales.SalesOrderHeader AS h\n",
                "    ON c.CustomerID = h.CustomerID\n",
                ")\n",
                "GO\n",
                "\n",
                "EXEC dbo.usp_BH_CustomerTotals;\n",
                "GO\n",
                "\n",
                "DROP PROCEDURE dbo.usp_BH_CustomerTotals;\n",
                "GO"
            ],
            "metadata": {
                "azdata_cell_guid": "42f11a1f-5991-4219-92f6-d3c40939fa2e"
            },
            "outputs": [
                {
                    "output_type": "display_data",
                    "data": {
                        "text/html": "Commands completed successfully."
                    },
                    "metadata": {}
                },
                {
                    "output_type": "display_data",
                    "data": {
                        "text/html": "Commands completed successfully."
                    },
                    "metadata": {}
                },
                {
                    "output_type": "display_data",
                    "data": {
                        "text/html": "(1 row affected)"
                    },
                    "metadata": {}
                },
                {
                    "output_type": "display_data",
                    "data": {
                        "text/html": "Commands completed successfully."
                    },
                    "metadata": {}
                },
                {
                    "output_type": "display_data",
                    "data": {
                        "text/html": "Total execution time: 00:00:03.107"
                    },
                    "metadata": {}
                },
                {
                    "output_type": "execute_result",
                    "metadata": {},
                    "execution_count": 106,
                    "data": {
                        "application/vnd.dataresource+json": {
                            "schema": {
                                "fields": [
                                    {
                                        "name": "CustomerID"
                                    },
                                    {
                                        "name": "OrderDate"
                                    },
                                    {
                                        "name": "Per Year"
                                    },
                                    {
                                        "name": "Per Month"
                                    }
                                ]
                            },
                            "data": [
                                {
                                    "0": "11019",
                                    "1": "2008-01-24 00:00:00.000",
                                    "2": "1331.1839",
                                    "3": "85.9535"
                                }
                            ]
                        },
                        "text/html": [
                            "<table>",
                            "<tr><th>CustomerID</th><th>OrderDate</th><th>Per Year</th><th>Per Month</th></tr>",
                            "<tr><td>11019</td><td>2008-01-24 00:00:00.000</td><td>1331.1839</td><td>85.9535</td></tr>",
                            "</table>"
                        ]
                    }
                }
            ],
            "execution_count": 106
        },
        {
            "cell_type": "markdown",
            "source": [
                "Modify the stored procedure created in question 4 to include a parameter @CustomerID. Use the parameter in the WHERE clause of the query in the stored procedure. Test the stored procedure.\n",
                "Hint: Use If Object_ID(…) then DROP PROCEDURE …."
            ],
            "metadata": {
                "azdata_cell_guid": "ccaac751-cd91-4cf4-9b00-b7cc66fde193",
                "tags": [
                    "hide_input"
                ]
            },
            "attachments": {}
        },
        {
            "cell_type": "code",
            "source": [
                "IF OBJECT_ID('dbo.usp_BH_CustomerTotals') IS NOT NULL BEGIN\n",
                "    DROP PROCEDURE dbo.usp_BH_CustomerTotals;\n",
                "END;\n",
                "GO\n",
                "\n",
                "CREATE PROCEDURE dbo.usp_BH_CustomerTotals \n",
                "    @CustomerID INT\n",
                "AS (\n",
                "    SELECT c.CustomerID, OrderDate,\n",
                "     SUM(TotalDue) OVER (PARTITION BY YEAR(OrderDate), c.CustomerID) [Per Year],\n",
                "     SUM(TotalDue) OVER (PARTITION BY MONTH(OrderDate), c.CustomerID) [Per Month]\n",
                "    FROM Sales.Customer AS c\n",
                "    JOIN Sales.SalesOrderHeader AS h\n",
                "    ON c.CustomerID = h.CustomerID\n",
                "    WHERE c.CustomerID = @CustomerID\n",
                ")\n",
                "GO\n",
                "\n",
                "EXEC dbo.usp_BH_CustomerTotals 11189;\n",
                "GO\n",
                "\n",
                "DROP PROCEDURE dbo.usp_BH_CustomerTotals;\n",
                "GO"
            ],
            "metadata": {
                "azdata_cell_guid": "539b751e-e2ea-4b62-b9bb-b2e1942e607a"
            },
            "outputs": [
                {
                    "output_type": "display_data",
                    "data": {
                        "text/html": "Commands completed successfully."
                    },
                    "metadata": {}
                },
                {
                    "output_type": "display_data",
                    "data": {
                        "text/html": "Commands completed successfully."
                    },
                    "metadata": {}
                },
                {
                    "output_type": "display_data",
                    "data": {
                        "text/html": "(2 rows affected)"
                    },
                    "metadata": {}
                },
                {
                    "output_type": "display_data",
                    "data": {
                        "text/html": "Commands completed successfully."
                    },
                    "metadata": {}
                },
                {
                    "output_type": "display_data",
                    "data": {
                        "text/html": "Total execution time: 00:00:00.223"
                    },
                    "metadata": {}
                },
                {
                    "output_type": "execute_result",
                    "metadata": {},
                    "execution_count": 55,
                    "data": {
                        "application/vnd.dataresource+json": {
                            "schema": {
                                "fields": [
                                    {
                                        "name": "CustomerID"
                                    },
                                    {
                                        "name": "OrderDate"
                                    },
                                    {
                                        "name": "Per Year"
                                    },
                                    {
                                        "name": "Per Month"
                                    }
                                ]
                            },
                            "data": [
                                {
                                    "0": "11189",
                                    "1": "2006-02-26 00:00:00.000",
                                    "2": "8247.9124",
                                    "3": "8247.9124"
                                },
                                {
                                    "0": "11189",
                                    "1": "2007-08-09 00:00:00.000",
                                    "2": "5453.5148",
                                    "3": "5453.5148"
                                }
                            ]
                        },
                        "text/html": [
                            "<table>",
                            "<tr><th>CustomerID</th><th>OrderDate</th><th>Per Year</th><th>Per Month</th></tr>",
                            "<tr><td>11189</td><td>2006-02-26 00:00:00.000</td><td>8247.9124</td><td>8247.9124</td></tr>",
                            "<tr><td>11189</td><td>2007-08-09 00:00:00.000</td><td>5453.5148</td><td>5453.5148</td></tr>",
                            "</table>"
                        ]
                    }
                }
            ],
            "execution_count": 55
        },
        {
            "cell_type": "markdown",
            "source": [
                "Create a stored procedure called dbo.usp_ProductSales that accepts a ProductID for a parameter and has an OUTPUT parameter that returns the number sold for the product. Test the stored procedure\n",
                "Hint: Use If Object_ID(…) then DROP PROCEDURE …."
            ],
            "metadata": {
                "azdata_cell_guid": "3d0231b3-7853-4945-9766-3bf75302949a"
            },
            "attachments": {}
        },
        {
            "cell_type": "code",
            "source": [
                "IF OBJECT_ID('dbo.usp_BH_ProductSales') IS NOT NULL BEGIN\n",
                "    DROP PROCEDURE dbo.usp_BH_ProductSales;\n",
                "END;\n",
                "GO\n",
                "\n",
                "CREATE PROCEDURE dbo.usp_BH_ProductSales \n",
                "    @ProductID INT,\n",
                "    @Sold INT = NULL OUTPUT AS \n",
                "        SELECT @Sold = SUM(OrderQty)\n",
                "        FROM Sales.SalesOrderDetail\n",
                "        WHERE ProductID = @ProductID\n",
                "GO\n",
                "\n",
                "DECLARE @Sold INT;\n",
                "EXEC dbo.usp_BH_ProductSales @ProductID = 777,\n",
                "    @Sold = @Sold OUTPUT;\n",
                "\n",
                "SELECT @Sold [Sold over time]\n",
                "GO\n",
                "\n",
                "DROP PROCEDURE dbo.usp_BH_ProductSales;\n",
                "GO"
            ],
            "metadata": {
                "azdata_cell_guid": "2dfce743-e86b-44c2-8dc0-26a80cdd2c44"
            },
            "outputs": [
                {
                    "output_type": "display_data",
                    "data": {
                        "text/html": "Commands completed successfully."
                    },
                    "metadata": {}
                },
                {
                    "output_type": "display_data",
                    "data": {
                        "text/html": "Commands completed successfully."
                    },
                    "metadata": {}
                },
                {
                    "output_type": "display_data",
                    "data": {
                        "text/html": "(1 row affected)"
                    },
                    "metadata": {}
                },
                {
                    "output_type": "display_data",
                    "data": {
                        "text/html": "Commands completed successfully."
                    },
                    "metadata": {}
                },
                {
                    "output_type": "display_data",
                    "data": {
                        "text/html": "Total execution time: 00:00:00.261"
                    },
                    "metadata": {}
                },
                {
                    "output_type": "execute_result",
                    "metadata": {},
                    "execution_count": 105,
                    "data": {
                        "application/vnd.dataresource+json": {
                            "schema": {
                                "fields": [
                                    {
                                        "name": "Sold over time"
                                    }
                                ]
                            },
                            "data": [
                                {
                                    "0": "678"
                                }
                            ]
                        },
                        "text/html": [
                            "<table>",
                            "<tr><th>Sold over time</th></tr>",
                            "<tr><td>678</td></tr>",
                            "</table>"
                        ]
                    }
                }
            ],
            "execution_count": 105
        }
    ]
}