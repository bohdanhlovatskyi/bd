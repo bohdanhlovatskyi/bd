{
    "metadata": {
        "kernelspec": {
            "name": "SQL",
            "display_name": "SQL",
            "language": "sql"
        },
        "language_info": {
            "name": "sql",
            "version": ""
        }
    },
    "nbformat_minor": 2,
    "nbformat": 4,
    "cells": [
        {
            "cell_type": "code",
            "source": [
                "SELECT 2 + 2;"
            ],
            "metadata": {
                "azdata_cell_guid": "cd953f26-6b43-4de7-82e5-a165979991ab"
            },
            "outputs": [],
            "execution_count": null
        },
        {
            "cell_type": "markdown",
            "source": [
                "<span style=\"font-family: Helvetica; font-size: 11px; color: rgb(0, 0, 0);\">Write a query to display maximum, minimum and average product’s selling price.</span>"
            ],
            "metadata": {
                "azdata_cell_guid": "7ee47924-4d9e-4a05-953b-4f14e4f0cc7a"
            },
            "attachments": {}
        },
        {
            "cell_type": "code",
            "source": [
                "SELECT \n",
                "    max(ListPrice) [Max],\n",
                "    min(ListPrice) [Min],\n",
                "    avg(ListPrice) [Avg]\n",
                "FROM Production.Product"
            ],
            "metadata": {
                "azdata_cell_guid": "ebdb8334-6981-45dc-b9ef-66c12ee54432"
            },
            "outputs": [],
            "execution_count": null
        },
        {
            "cell_type": "markdown",
            "source": [
                "<span style=\"font-family: Helvetica; font-size: 11px; color: rgb(0, 0, 0);\">Write a query that created a sum of LineTotal in the SalesOrderDetail table grouped by SalesOrderID. Include only those rows where the sum exceeds $1.000</span>"
            ],
            "metadata": {
                "azdata_cell_guid": "70deddc3-240c-4010-ad9d-119b17e5409b"
            },
            "attachments": {}
        },
        {
            "cell_type": "code",
            "source": [
                "SELECT SalesOrderID, sum(LineTotal) [Got_from_selling_item]\n",
                "FROM Sales.SalesOrderDetail\n",
                "GROUP BY SalesOrderID\n",
                "HAVING sum(LineTotal) > 1000"
            ],
            "metadata": {
                "azdata_cell_guid": "ab8210fc-b4c1-4511-b6f2-d3d5afa3f805"
            },
            "outputs": [],
            "execution_count": null
        },
        {
            "cell_type": "markdown",
            "source": [
                "<span style=\"font-family: Helvetica; font-size: 11px; color: rgb(0, 0, 0);\">Write a query using the Sales.Sales.OrderHeader table that returns the count of unique TerritoryId values per customer.</span>"
            ],
            "metadata": {
                "azdata_cell_guid": "c1a1f247-9d1c-4c4e-adc6-a1620f6d40f1"
            },
            "attachments": {}
        },
        {
            "cell_type": "code",
            "source": [
                "SELECT count(distinct TerritoryID) [Unique Territories Per Customer]\n",
                "FROM Sales.SalesOrderHeader\n",
                "GROUP BY CustomerID\n",
                "ORDER BY count(distinct TerritoryID) DESC"
            ],
            "metadata": {
                "azdata_cell_guid": "85770ac3-5ec4-49e5-aecd-ce610c7fb0c9"
            },
            "outputs": [],
            "execution_count": null
        },
        {
            "cell_type": "markdown",
            "source": [
                "<span style=\"font-family: Helvetica; font-size: 11px; color: rgb(0, 0, 0);\">Write a query that groups the products by ProductModelId along with a count. Display the rows that have a count that equals 1.</span>"
            ],
            "metadata": {
                "azdata_cell_guid": "4c440eae-ca53-45b8-8c70-f08243e20e1b"
            },
            "attachments": {}
        },
        {
            "cell_type": "code",
            "source": [
                "SELECT ProductModelID, COUNT(ProductID) [Products of this model]\n",
                "FROM Production.Product\n",
                "GROUP BY ProductModelID\n",
                "HAVING COUNT(ProductID) > 1"
            ],
            "metadata": {
                "azdata_cell_guid": "4bf32f8f-c273-44f0-8e4b-aaadb712a8c8"
            },
            "outputs": [],
            "execution_count": null
        },
        {
            "cell_type": "markdown",
            "source": [
                "<span style=\"font-family: Helvetica; font-size: 11px; color: rgb(0, 0, 0);\">Display average order’s shipping</span> <span style=\"font-family: Helvetica; font-size: 11px; color: rgb(0, 0, 0);\">cost.</span>"
            ],
            "metadata": {
                "azdata_cell_guid": "632b649a-13b1-49e8-b3be-84a485678b2a"
            },
            "attachments": {}
        },
        {
            "cell_type": "code",
            "source": [
                "SELECT avg(Freight) [average shipping cost]\n",
                "FROM Sales.SalesOrderHeader"
            ],
            "metadata": {
                "azdata_cell_guid": "ab4856f4-dfc1-4157-b888-266e7dfafcb5"
            },
            "outputs": [
                {
                    "output_type": "display_data",
                    "data": {
                        "text/html": "(1 row affected)"
                    },
                    "metadata": {}
                },
                {
                    "output_type": "display_data",
                    "data": {
                        "text/html": "Total execution time: 00:00:00.076"
                    },
                    "metadata": {}
                },
                {
                    "output_type": "execute_result",
                    "execution_count": 22,
                    "data": {
                        "application/vnd.dataresource+json": {
                            "schema": {
                                "fields": [
                                    {
                                        "name": "average shipping cost"
                                    }
                                ]
                            },
                            "data": [
                                {
                                    "0": "101.1736"
                                }
                            ]
                        },
                        "text/html": "<table><tr><th>average shipping cost</th></tr><tr><td>101.1736</td></tr></table>"
                    },
                    "metadata": {}
                }
            ],
            "execution_count": 22
        },
        {
            "cell_type": "markdown",
            "source": [
                "Display count of products for each color.\n",
                ""
            ],
            "metadata": {
                "azdata_cell_guid": "f1963f21-86fb-4788-9490-289b18af12a9"
            }
        },
        {
            "cell_type": "code",
            "source": [
                "SELECT Color, count(ProductID) [Product of this color]\n",
                "FROM Production.Product\n",
                "GROUP BY Color"
            ],
            "metadata": {
                "azdata_cell_guid": "971a060b-876b-4bbe-b3bb-25bc0ee5e606"
            },
            "outputs": [
                {
                    "output_type": "display_data",
                    "data": {
                        "text/html": "(10 rows affected)"
                    },
                    "metadata": {}
                },
                {
                    "output_type": "display_data",
                    "data": {
                        "text/html": "Total execution time: 00:00:00.058"
                    },
                    "metadata": {}
                },
                {
                    "output_type": "execute_result",
                    "execution_count": 24,
                    "data": {
                        "application/vnd.dataresource+json": {
                            "schema": {
                                "fields": [
                                    {
                                        "name": "Color"
                                    },
                                    {
                                        "name": "Product of this color"
                                    }
                                ]
                            },
                            "data": [
                                {
                                    "0": "NULL",
                                    "1": "248"
                                },
                                {
                                    "0": "Black",
                                    "1": "93"
                                },
                                {
                                    "0": "Blue",
                                    "1": "26"
                                },
                                {
                                    "0": "Grey",
                                    "1": "1"
                                },
                                {
                                    "0": "Multi",
                                    "1": "8"
                                },
                                {
                                    "0": "Red",
                                    "1": "38"
                                },
                                {
                                    "0": "Silver",
                                    "1": "43"
                                },
                                {
                                    "0": "Silver/Black",
                                    "1": "7"
                                },
                                {
                                    "0": "White",
                                    "1": "4"
                                },
                                {
                                    "0": "Yellow",
                                    "1": "36"
                                }
                            ]
                        },
                        "text/html": "<table><tr><th>Color</th><th>Product of this color</th></tr><tr><td>NULL</td><td>248</td></tr><tr><td>Black</td><td>93</td></tr><tr><td>Blue</td><td>26</td></tr><tr><td>Grey</td><td>1</td></tr><tr><td>Multi</td><td>8</td></tr><tr><td>Red</td><td>38</td></tr><tr><td>Silver</td><td>43</td></tr><tr><td>Silver/Black</td><td>7</td></tr><tr><td>White</td><td>4</td></tr><tr><td>Yellow</td><td>36</td></tr></table>"
                    },
                    "metadata": {}
                }
            ],
            "execution_count": 24
        },
        {
            "cell_type": "markdown",
            "source": [
                "Display count of shipped order made on each territory.\n",
                ""
            ],
            "metadata": {
                "azdata_cell_guid": "5f7ddbd1-5e6c-473e-a2c3-0f88ac81f005"
            }
        },
        {
            "cell_type": "code",
            "source": [
                "SELECT TerritoryID, count(SalesOrderID) [Count]\n",
                "FROM Sales.SalesOrderHeader\n",
                "WHERE Status = 5 -- shipped\n",
                "GROUP BY TerritoryID"
            ],
            "metadata": {
                "azdata_cell_guid": "f630f778-8915-40e2-b2e1-ac6c3834a44a"
            },
            "outputs": [
                {
                    "output_type": "display_data",
                    "data": {
                        "text/html": "(10 rows affected)"
                    },
                    "metadata": {}
                },
                {
                    "output_type": "display_data",
                    "data": {
                        "text/html": "Total execution time: 00:00:00.114"
                    },
                    "metadata": {}
                },
                {
                    "output_type": "execute_result",
                    "execution_count": 26,
                    "data": {
                        "application/vnd.dataresource+json": {
                            "schema": {
                                "fields": [
                                    {
                                        "name": "TerritoryID"
                                    },
                                    {
                                        "name": "Count"
                                    }
                                ]
                            },
                            "data": [
                                {
                                    "0": "9",
                                    "1": "6843"
                                },
                                {
                                    "0": "3",
                                    "1": "385"
                                },
                                {
                                    "0": "6",
                                    "1": "4067"
                                },
                                {
                                    "0": "7",
                                    "1": "2672"
                                },
                                {
                                    "0": "1",
                                    "1": "4594"
                                },
                                {
                                    "0": "10",
                                    "1": "3219"
                                },
                                {
                                    "0": "4",
                                    "1": "6224"
                                },
                                {
                                    "0": "5",
                                    "1": "486"
                                },
                                {
                                    "0": "2",
                                    "1": "352"
                                },
                                {
                                    "0": "8",
                                    "1": "2623"
                                }
                            ]
                        },
                        "text/html": "<table><tr><th>TerritoryID</th><th>Count</th></tr><tr><td>9</td><td>6843</td></tr><tr><td>3</td><td>385</td></tr><tr><td>6</td><td>4067</td></tr><tr><td>7</td><td>2672</td></tr><tr><td>1</td><td>4594</td></tr><tr><td>10</td><td>3219</td></tr><tr><td>4</td><td>6224</td></tr><tr><td>5</td><td>486</td></tr><tr><td>2</td><td>352</td></tr><tr><td>8</td><td>2623</td></tr></table>"
                    },
                    "metadata": {}
                }
            ],
            "execution_count": 26
        },
        {
            "cell_type": "markdown",
            "source": [
                "Write a query that groups the products by ProductModelID along with a count. Display the rows that have a count that equals 1 (display productmodelid, color and count). Please include only products with the color ‘Blue’ or ‘Red’"
            ],
            "metadata": {
                "azdata_cell_guid": "46fd4ef1-99c7-4c37-b7b1-6faa91e55a0d"
            }
        },
        {
            "cell_type": "code",
            "source": [
                "SELECT ProductModelID, Color, COUNT(ProductID)\n",
                "FROM Production.Product\n",
                "WHERE Color in ('Blue', 'Red')\n",
                "GROUP BY ProductModelID, Color\n",
                "HAVING COUNT(ProductID) = 1"
            ],
            "metadata": {
                "azdata_cell_guid": "ca4ff89f-0134-4ffc-8946-4271be3d5311"
            },
            "outputs": [
                {
                    "output_type": "display_data",
                    "data": {
                        "text/html": "(2 rows affected)"
                    },
                    "metadata": {}
                },
                {
                    "output_type": "display_data",
                    "data": {
                        "text/html": "Total execution time: 00:00:00.089"
                    },
                    "metadata": {}
                },
                {
                    "output_type": "execute_result",
                    "execution_count": 36,
                    "data": {
                        "application/vnd.dataresource+json": {
                            "schema": {
                                "fields": [
                                    {
                                        "name": "ProductModelID"
                                    },
                                    {
                                        "name": "Color"
                                    },
                                    {
                                        "name": "(No column name)"
                                    }
                                ]
                            },
                            "data": [
                                {
                                    "0": "33",
                                    "1": "Blue",
                                    "2": "1"
                                },
                                {
                                    "0": "33",
                                    "1": "Red",
                                    "2": "1"
                                }
                            ]
                        },
                        "text/html": "<table><tr><th>ProductModelID</th><th>Color</th><th>(No column name)</th></tr><tr><td>33</td><td>Blue</td><td>1</td></tr><tr><td>33</td><td>Red</td><td>1</td></tr></table>"
                    },
                    "metadata": {}
                }
            ],
            "execution_count": 36
        }
    ]
}