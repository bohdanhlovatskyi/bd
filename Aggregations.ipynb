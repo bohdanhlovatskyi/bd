{
    "metadata": {
        "kernelspec": {
            "name": "SQL",
            "display_name": "SQL",
            "language": "sql"
        },
        "language_info": {
            "name": "sql",
            "version": ""
        }
    },
    "nbformat_minor": 2,
    "nbformat": 4,
    "cells": [
        {
            "cell_type": "code",
            "source": [
                "select 2 + 2;"
            ],
            "metadata": {
                "azdata_cell_guid": "14dfc37e-e66b-4a97-86fd-2dee95552556"
            },
            "outputs": [],
            "execution_count": null
        },
        {
            "cell_type": "markdown",
            "source": [
                " FROM\n",
                "\n",
                " where\n",
                "\n",
                " group by\n",
                "\n",
                " having\n",
                "\n",
                " select\n",
                "\n",
                " order by\n",
                "\n",
                "aggregate function -\\> vec to scalar\n",
                "\n",
                "  \n",
                "DML - Data Manipulation Language"
            ],
            "metadata": {
                "azdata_cell_guid": "6311db0c-0fd0-4894-83cf-8da7bb6d3745"
            },
            "attachments": {}
        },
        {
            "cell_type": "code",
            "source": [
                "select  \n",
                "    sum (SubTotal) total_amount,\n",
                "    min (SubTotal) total_amount,\n",
                "    max (SubTotal) total_amount,\n",
                "    avg (SubTotal) total_amount,\n",
                "    min (CreditCardApprovalCode),\n",
                "    max (CreditCardApprovalCode)\n",
                "\n",
                "from Sales.SalesOrderHeader;"
            ],
            "metadata": {
                "azdata_cell_guid": "ec8c4982-e129-4ac0-aed9-d05c4f67b946",
                "tags": []
            },
            "outputs": [],
            "execution_count": null
        },
        {
            "cell_type": "code",
            "source": [
                "select\n",
                "    count (*) As count_all,\n",
                "    count (distinct SalesOrderID) as count_unique,\n",
                "    count (distinct CASE when SubTotal > 1000 then TerritoryID else NULL end)\n",
                "from Sales.SalesOrderHeader;"
            ],
            "metadata": {
                "azdata_cell_guid": "2473b952-8017-40d6-bd57-312eb666c1ec"
            },
            "outputs": [],
            "execution_count": null
        },
        {
            "cell_type": "code",
            "source": [
                "-- note that here territory id should be either\n",
                "-- aggregate function or belong to group by !!!\n",
                "select TerritoryID, sum(SubTotal)\n",
                "from Sales.SalesOrderHeader\n",
                "group by TerritoryID"
            ],
            "metadata": {
                "azdata_cell_guid": "d8671bea-b0d3-4f5c-a0d3-734f03f556d9"
            },
            "outputs": [],
            "execution_count": null
        },
        {
            "cell_type": "code",
            "source": [
                " select TerritoryID, DATENAME(MONTH, OrderDate),\n",
                " sum (SubTotal) as [Sum in Month by Territory]\n",
                " from Sales.SalesOrderHeader\n",
                " GROUP BY TerritoryID, DATENAME(MONTH, OrderDate)"
            ],
            "metadata": {
                "azdata_cell_guid": "409a8bdc-aeb1-4a6c-93b9-b335937e4749"
            },
            "outputs": [],
            "execution_count": null
        },
        {
            "cell_type": "code",
            "source": [
                " select TerritoryID, DATENAME(MONTH, OrderDate),\n",
                " sum (SubTotal) as [Sum in Month by Territory]\n",
                " from Sales.SalesOrderHeader\n",
                " where DATENAME(MONTH, OrderDate) in ('October', 'November')\n",
                " GROUP BY TerritoryID, DATENAME(MONTH, OrderDate)\n",
                " -- only for aggregate functions, though allows some other closes\n",
                " having sum(SubTotal) > 500000 and avg(SubTotal) > 10000"
            ],
            "metadata": {
                "azdata_cell_guid": "8be46fb6-88bf-4601-a659-58e93d984c9e"
            },
            "outputs": [],
            "execution_count": null
        },
        {
            "cell_type": "code",
            "source": [
                "select TerritoryID,\n",
                "       DATENAME(MONTH, OrderDate),\n",
                "       DATENAME(YEAR, OrderDate),\n",
                "       sum(SubTotal) total_order,\n",
                "       -- we cannot make aggregation of aggregation except of window functions\n",
                "       sum(sum(SubTotal)) over (partition by TerritoryID, datename(YEAR, OrderDate) ) as total_monthly_per_territory\n",
                "from Sales.SalesOrderHeader\n",
                "group by TerritoryID, DATENAME(MONTH, OrderDate), DATENAME(YEAR, OrderDate)"
            ],
            "metadata": {
                "azdata_cell_guid": "7edf5cf8-292e-49ff-96e5-dfc9b022c2f5"
            },
            "outputs": [],
            "execution_count": null
        },
        {
            "cell_type": "code",
            "source": [
                " select TerritoryID,\n",
                "        DATENAME(MONTH, OrderDate) month_of_order,\n",
                "        LAG(DATENAME(MONTH, OrderDate)) over (PARTITION BY TerritoryID order by DATEPART(MONTH, OrderDate) ) prev_month,\n",
                "        LAG(sum(SubTotal)) over (PARTITION BY TerritoryID order by DATEPART(MONTH, OrderDate) ) prev_total_order,\n",
                "        sum(SubTotal) total_order\n",
                " from Sales.SalesOrderHeader\n",
                " where OrderDate BETWEEN '2005-01-01' and '2005-12-31'\n",
                " GROUP by TerritoryID, DATENAME(MONTH, OrderDate), DATEPART(MONTH, OrderDate)"
            ],
            "metadata": {
                "azdata_cell_guid": "687d99a1-da55-4181-99a7-0a0f8039261c",
                "tags": []
            },
            "outputs": [],
            "execution_count": null
        },
        {
            "cell_type": "code",
            "source": [
                "-- DDL - data definition language  "
            ],
            "metadata": {
                "azdata_cell_guid": "5c9267f9-879c-42a9-952c-a5464ef8a605"
            },
            "outputs": [],
            "execution_count": null
        }
    ]
}